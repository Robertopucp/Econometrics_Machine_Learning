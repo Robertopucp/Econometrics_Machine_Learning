{
 "cells": [
  {
   "cell_type": "markdown",
   "metadata": {},
   "source": [
    "Roberto Mendoza Matos \n",
    "\n",
    "1. Ejercicio 01"
   ]
  },
  {
   "cell_type": "code",
   "execution_count": 2,
   "metadata": {},
   "outputs": [],
   "source": [
    "import numpy as np"
   ]
  },
  {
   "cell_type": "code",
   "execution_count": 3,
   "metadata": {},
   "outputs": [
    {
     "data": {
      "text/plain": [
       "array([[6, 0, 0, 0],\n",
       "       [6, 6, 0, 0],\n",
       "       [6, 6, 6, 0],\n",
       "       [6, 6, 6, 6]])"
      ]
     },
     "execution_count": 3,
     "metadata": {},
     "output_type": "execute_result"
    }
   ],
   "source": [
    "A = np.array([[6,0,0,0],[6,6,0,0], [6,6,6,0],[6,6,6,6]])\n",
    "A"
   ]
  },
  {
   "cell_type": "markdown",
   "metadata": {},
   "source": [
    "2. Crear un array de 4x4 con valores pares"
   ]
  },
  {
   "cell_type": "code",
   "execution_count": 4,
   "metadata": {},
   "outputs": [
    {
     "data": {
      "text/plain": [
       "array([[    2,     4,     8,    12],\n",
       "       [    4,     2,    24,    28],\n",
       "       [  102,   308,   100,    50],\n",
       "       [   38,    20, 10268,     2]])"
      ]
     },
     "execution_count": 4,
     "metadata": {},
     "output_type": "execute_result"
    }
   ],
   "source": [
    "B = np.array([[2,4,8,12],[4,2,24,28],[102,308,100,50],[38,20,10268,2]])\n",
    "B"
   ]
  },
  {
   "cell_type": "markdown",
   "metadata": {},
   "source": [
    "3. Crear un array de 4x3 con valores impares"
   ]
  },
  {
   "cell_type": "code",
   "execution_count": 5,
   "metadata": {},
   "outputs": [
    {
     "data": {
      "text/plain": [
       "array([[ 1,  7,  9],\n",
       "       [11, 17, 19],\n",
       "       [21, 27, 29],\n",
       "       [31, 37, 39]])"
      ]
     },
     "execution_count": 5,
     "metadata": {},
     "output_type": "execute_result"
    }
   ],
   "source": [
    "C = np.array([[1,7,9],[11,17,19],[21,27,29],[31,37,39]])\n",
    "C"
   ]
  },
  {
   "cell_type": "markdown",
   "metadata": {},
   "source": [
    "4. Crear un array que contenga 32 elementos y luego darle 4 posibles formas que puede tomar el array creado inicialmente"
   ]
  },
  {
   "cell_type": "code",
   "execution_count": 15,
   "metadata": {},
   "outputs": [
    {
     "name": "stdout",
     "output_type": "stream",
     "text": [
      "[[ 1  3  5  7  9 11 13 15]\n",
      " [17 19 21 23 25 27 29 31]\n",
      " [33 35 37 39 41 43 45 47]\n",
      " [49 51 53 55 57 59 61 63]]\n",
      "[[ 1  3]\n",
      " [ 5  7]\n",
      " [ 9 11]\n",
      " [13 15]\n",
      " [17 19]\n",
      " [21 23]\n",
      " [25 27]\n",
      " [29 31]\n",
      " [33 35]\n",
      " [37 39]\n",
      " [41 43]\n",
      " [45 47]\n",
      " [49 51]\n",
      " [53 55]\n",
      " [57 59]\n",
      " [61 63]]\n",
      "[[ 1  3  5  7]\n",
      " [ 9 11 13 15]\n",
      " [17 19 21 23]\n",
      " [25 27 29 31]\n",
      " [33 35 37 39]\n",
      " [41 43 45 47]\n",
      " [49 51 53 55]\n",
      " [57 59 61 63]]\n",
      "[[[ 1  3  5  7]\n",
      "  [ 9 11 13 15]\n",
      "  [17 19 21 23]\n",
      "  [25 27 29 31]]\n",
      "\n",
      " [[33 35 37 39]\n",
      "  [41 43 45 47]\n",
      "  [49 51 53 55]\n",
      "  [57 59 61 63]]]\n"
     ]
    }
   ],
   "source": [
    "vector = np.arange(1,65,2)\n",
    "vector\n",
    "# dimension\n",
    "vector.size\n",
    "\n",
    "vector1 = print(vector.reshape(4,8))\n",
    "vector1 = print(vector.reshape(16,2))\n",
    "vector1 = print(vector.reshape(8,4))\n",
    "#######################################\n",
    "vector1 = print(vector.reshape(2,4,4))"
   ]
  },
  {
   "cell_type": "markdown",
   "metadata": {},
   "source": [
    "5. Crear un array de 3x3x3 y ubicar 10 elementos utilizando los metodos de slicing aprendidos en clase"
   ]
  },
  {
   "cell_type": "code",
   "execution_count": 87,
   "metadata": {},
   "outputs": [
    {
     "data": {
      "text/plain": [
       "array([[[53, 56, 62, 65, 77]],\n",
       "\n",
       "       [[26, 29, 35, 38, 50]]])"
      ]
     },
     "execution_count": 87,
     "metadata": {},
     "output_type": "execute_result"
    }
   ],
   "source": [
    "matrix3 = np.arange(26,105,3)\n",
    "matrix3.size\n",
    "\n",
    "mat = matrix3.reshape(3,3,3)\n",
    "mat\n",
    "\n",
    "mat.shape\n",
    "\n",
    "mat[1,0:3]\n",
    "np.array([[mat[[1],[0,0,1,1,2],[0,1,0,1,2]]],[mat[[0],[0,0,1,1,2],[0,1,0,1,2]]]])"
   ]
  },
  {
   "cell_type": "markdown",
   "metadata": {},
   "source": [
    "6. Crear el array utilizando los metodos aprendidos en clase"
   ]
  },
  {
   "cell_type": "code",
   "execution_count": 117,
   "metadata": {},
   "outputs": [
    {
     "data": {
      "text/plain": [
       "array([[ 2,  2,  2,  2,  2],\n",
       "       [ 2,  0,  0,  0,  2],\n",
       "       [ 2,  0, 16,  0,  2],\n",
       "       [ 2,  0,  0,  0,  2],\n",
       "       [ 2,  2,  2,  2,  2]])"
      ]
     },
     "execution_count": 117,
     "metadata": {},
     "output_type": "execute_result"
    }
   ],
   "source": [
    "tarea = np.array([[2,2,2,2,2],[2,0,0,0,2],[2,0,16,0,2],[2,0,0,0,2],[2,2,2,2,2]])\n",
    "tarea"
   ]
  },
  {
   "cell_type": "code",
   "execution_count": 115,
   "metadata": {},
   "outputs": [
    {
     "data": {
      "text/plain": [
       "array([[ 2.,  2.,  2.,  2.,  2.],\n",
       "       [ 2.,  0.,  0.,  0.,  2.],\n",
       "       [ 2.,  0., 16.,  0.,  2.],\n",
       "       [ 2.,  0.,  0.,  0.,  2.],\n",
       "       [ 2.,  2.,  2.,  2.,  2.]])"
      ]
     },
     "execution_count": 115,
     "metadata": {},
     "output_type": "execute_result"
    }
   ],
   "source": [
    "vector1 = np.ones((1,5))*2\n",
    "vector1\n",
    "\n",
    "vector2 = np.array([vector1[0,0],0,0,0,vector1[0,0]])\n",
    "vector2\n",
    "\n",
    "vector3 = np.array([2,0,16,0,2])\n",
    "vector3\n",
    "\n",
    "mat_3 = np.vstack((vector1,vector2,vector3,vector2,vector1))\n",
    "mat_3"
   ]
  }
 ],
 "metadata": {
  "kernelspec": {
   "display_name": "Python 3",
   "language": "python",
   "name": "python3"
  },
  "language_info": {
   "codemirror_mode": {
    "name": "ipython",
    "version": 3
   },
   "file_extension": ".py",
   "mimetype": "text/x-python",
   "name": "python",
   "nbconvert_exporter": "python",
   "pygments_lexer": "ipython3",
   "version": "3.8.3"
  }
 },
 "nbformat": 4,
 "nbformat_minor": 4
}
