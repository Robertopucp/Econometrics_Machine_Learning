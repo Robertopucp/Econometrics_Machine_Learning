{
 "cells": [
  {
   "cell_type": "code",
   "execution_count": 1,
   "metadata": {},
   "outputs": [],
   "source": [
    "import numpy as np"
   ]
  },
  {
   "cell_type": "code",
   "execution_count": 9,
   "metadata": {},
   "outputs": [],
   "source": [
    "secuencia = np.array([15,20,25,30,35,40,48])"
   ]
  },
  {
   "cell_type": "code",
   "execution_count": 7,
   "metadata": {},
   "outputs": [],
   "source": [
    "i=0"
   ]
  },
  {
   "cell_type": "code",
   "execution_count": 8,
   "metadata": {},
   "outputs": [
    {
     "name": "stdout",
     "output_type": "stream",
     "text": [
      "15\n",
      "20\n",
      "25\n",
      "30\n",
      "35\n",
      "40\n",
      "48\n"
     ]
    }
   ],
   "source": [
    "for elemento in secuencia:\n",
    "    print(elemento)"
   ]
  },
  {
   "cell_type": "code",
   "execution_count": 10,
   "metadata": {},
   "outputs": [],
   "source": [
    "edades = [21,23,25,24,20]"
   ]
  },
  {
   "cell_type": "code",
   "execution_count": 11,
   "metadata": {},
   "outputs": [],
   "source": [
    "edades_salones = [[23,12,15],[25,1,1],[24,5,6]]"
   ]
  },
  {
   "cell_type": "code",
   "execution_count": 13,
   "metadata": {},
   "outputs": [
    {
     "name": "stdout",
     "output_type": "stream",
     "text": [
      "[23, 12, 15]\n",
      "23\n",
      "12\n",
      "15\n",
      "[25, 1, 1]\n",
      "25\n",
      "1\n",
      "1\n",
      "[24, 5, 6]\n",
      "24\n",
      "5\n",
      "6\n"
     ]
    }
   ],
   "source": [
    "for clase in edades_salones:\n",
    "    print(clase)\n",
    "    \n",
    "    for edad in clase:\n",
    "        print(edad)"
   ]
  },
  {
   "cell_type": "code",
   "execution_count": 17,
   "metadata": {},
   "outputs": [
    {
     "name": "stdout",
     "output_type": "stream",
     "text": [
      "[[1]\n",
      " [2]]\n",
      "[[3]\n",
      " [4]]\n"
     ]
    }
   ],
   "source": [
    "matrix_2 = np.arange(1,5)\n",
    "matrix_2 = matrix_2.reshape(2,2)\n",
    "\n",
    "for elemento in matrix_2:\n",
    "    print(elemento.reshape(2,1))"
   ]
  },
  {
   "cell_type": "code",
   "execution_count": 21,
   "metadata": {},
   "outputs": [],
   "source": [
    "elemetos_matrix = []\n",
    "\n",
    "for uno in matrix_2:\n",
    "    elemetos_matrix.append(uno**2)"
   ]
  },
  {
   "cell_type": "code",
   "execution_count": 22,
   "metadata": {},
   "outputs": [
    {
     "data": {
      "text/plain": [
       "[array([1, 4], dtype=int32), array([ 9, 16], dtype=int32)]"
      ]
     },
     "execution_count": 22,
     "metadata": {},
     "output_type": "execute_result"
    }
   ],
   "source": [
    " elemetos_matrix"
   ]
  },
  {
   "cell_type": "markdown",
   "metadata": {},
   "source": [
    "### For Loop en un Rango "
   ]
  },
  {
   "cell_type": "code",
   "execution_count": 23,
   "metadata": {},
   "outputs": [],
   "source": [
    "estudiantes = ['Pablo','María','Francisco','Manuel', 'Jose']\n",
    "len(estudiantes)\n",
    "edades = [23,12,24,35,6]"
   ]
  },
  {
   "cell_type": "code",
   "execution_count": 24,
   "metadata": {},
   "outputs": [
    {
     "name": "stdout",
     "output_type": "stream",
     "text": [
      "0\n",
      "1\n",
      "2\n",
      "3\n",
      "4\n"
     ]
    }
   ],
   "source": [
    "for i in range(0,len(estudiantes)):\n",
    "    #print(\"Estoy bien\")\n",
    "    print(i)"
   ]
  },
  {
   "cell_type": "code",
   "execution_count": 25,
   "metadata": {},
   "outputs": [
    {
     "name": "stdout",
     "output_type": "stream",
     "text": [
      "la edad de Pablo es 23\n",
      "la edad de María es 12\n",
      "la edad de Francisco es 24\n",
      "la edad de Manuel es 35\n",
      "la edad de Jose es 6\n"
     ]
    }
   ],
   "source": [
    "for i in range(0,len(estudiantes)):\n",
    "    print(f'la edad de {estudiantes[i]} es {edades[i]}')"
   ]
  },
  {
   "cell_type": "markdown",
   "metadata": {},
   "source": [
    "## For loop y ZIP"
   ]
  },
  {
   "cell_type": "code",
   "execution_count": 26,
   "metadata": {},
   "outputs": [],
   "source": [
    "estudiantes = ['Pablo','María','Francisco','Manuel', 'Jose']\n",
    "edades = [23,12,24,35,6]"
   ]
  },
  {
   "cell_type": "code",
   "execution_count": 28,
   "metadata": {},
   "outputs": [
    {
     "name": "stdout",
     "output_type": "stream",
     "text": [
      "La edad de Pablo es 23\n",
      "La edad de María es 12\n",
      "La edad de Francisco es 24\n",
      "La edad de Manuel es 35\n",
      "La edad de Jose es 6\n"
     ]
    }
   ],
   "source": [
    "for age, student in zip(edades, estudiantes):\n",
    "    print(f'La edad de {student} es {age}')"
   ]
  },
  {
   "cell_type": "code",
   "execution_count": 31,
   "metadata": {},
   "outputs": [
    {
     "name": "stdout",
     "output_type": "stream",
     "text": [
      "<class 'tuple'>\n",
      "<class 'tuple'>\n",
      "<class 'tuple'>\n",
      "<class 'tuple'>\n",
      "<class 'tuple'>\n"
     ]
    }
   ],
   "source": [
    "for tupla in zip(edades, estudiantes):\n",
    "    print(type(tupla))"
   ]
  },
  {
   "cell_type": "markdown",
   "metadata": {},
   "source": [
    "### For con valores faltantes "
   ]
  },
  {
   "cell_type": "code",
   "execution_count": 32,
   "metadata": {},
   "outputs": [],
   "source": [
    "estudiantes = ['Pablo','María','Francisco','Manuel', 'Jose']\n",
    "edades = [23,12,24,35]\n",
    "# listas con diferentes tamaños omite los valores en exceso "
   ]
  },
  {
   "cell_type": "code",
   "execution_count": 33,
   "metadata": {},
   "outputs": [
    {
     "name": "stdout",
     "output_type": "stream",
     "text": [
      "la edad de Pablo es 23\n",
      "la edad de María es 12\n",
      "la edad de Francisco es 24\n",
      "la edad de Manuel es 35\n"
     ]
    }
   ],
   "source": [
    "for age, student in zip(edades, estudiantes):\n",
    "    print(f'la edad de {student} es {age}')"
   ]
  }
 ],
 "metadata": {
  "kernelspec": {
   "display_name": "Python 3",
   "language": "python",
   "name": "python3"
  },
  "language_info": {
   "codemirror_mode": {
    "name": "ipython",
    "version": 3
   },
   "file_extension": ".py",
   "mimetype": "text/x-python",
   "name": "python",
   "nbconvert_exporter": "python",
   "pygments_lexer": "ipython3",
   "version": "3.8.3"
  }
 },
 "nbformat": 4,
 "nbformat_minor": 4
}
