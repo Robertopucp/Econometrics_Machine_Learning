{
  "nbformat": 4,
  "nbformat_minor": 0,
  "metadata": {
    "colab": {
      "name": "Sesion1_MLCetam_IntroColab",
      "provenance": [],
      "collapsed_sections": [
        "ljYjL5_KxtR5",
        "yueRAi6dUVXs",
        "tT1gaeLCS1Q9",
        "qRIVY95DTsuV",
        "amAOrE_8XFSK",
        "JveeJ30XbIBR",
        "SgiDyuAgYyoZ"
      ]
    },
    "kernelspec": {
      "name": "python3",
      "display_name": "Python 3"
    },
    "accelerator": "TPU"
  },
  "cells": [
    {
      "cell_type": "markdown",
      "metadata": {
        "id": "DyrXknmySOUI",
        "colab_type": "text"
      },
      "source": [
        "# Curso de Capacitación en Machine Learning para la Industria (ML CETAM) - Sesión 1\n",
        "\n",
        "<img src='http://ia.inf.pucp.edu.pe/static/images/logo.svg' width=300px>\n",
        "<img src='https://dci.pucp.edu.pe/wp-content/uploads/2014/02/logo-color-pucp1.gif' width=200px>\n",
        "\n",
        "\n",
        "PhD. Edwin Villanueva, PhD. Soledad Espezua, BSc. Daniel Saromo"
      ]
    },
    {
      "cell_type": "markdown",
      "metadata": {
        "colab_type": "text",
        "id": "HWV9A-zMtpFg"
      },
      "source": [
        "<font color='#008B72'> Introducción a Google Colaboratory.</font>"
      ]
    },
    {
      "cell_type": "markdown",
      "metadata": {
        "id": "ljYjL5_KxtR5",
        "colab_type": "text"
      },
      "source": [
        "## CPU Vs GPU Vs TPU"
      ]
    },
    {
      "cell_type": "markdown",
      "metadata": {
        "id": "GWI4yMb3xyzs",
        "colab_type": "text"
      },
      "source": [
        "[Documentación oficial](https://cloud.google.com/tpu/docs/tpus?hl=es-419)"
      ]
    },
    {
      "cell_type": "markdown",
      "metadata": {
        "id": "yueRAi6dUVXs",
        "colab_type": "text"
      },
      "source": [
        "## Controles básicos"
      ]
    },
    {
      "cell_type": "code",
      "metadata": {
        "id": "oW0itOzJfymJ",
        "colab_type": "code",
        "colab": {
          "base_uri": "https://localhost:8080/",
          "height": 34
        },
        "outputId": "45c6741b-d4ce-4ec4-bcb5-9c88f9ece644"
      },
      "source": [
        "1+1"
      ],
      "execution_count": null,
      "outputs": [
        {
          "output_type": "execute_result",
          "data": {
            "text/plain": [
              "2"
            ]
          },
          "metadata": {
            "tags": []
          },
          "execution_count": 1
        }
      ]
    },
    {
      "cell_type": "code",
      "metadata": {
        "id": "izkv4T9QSB_T",
        "colab_type": "code",
        "colab": {
          "base_uri": "https://localhost:8080/",
          "height": 34
        },
        "outputId": "2f9cda82-4b4e-42fb-f55d-1b90dfe2921f"
      },
      "source": [
        "import numpy as np\n",
        "np.arange(4)"
      ],
      "execution_count": null,
      "outputs": [
        {
          "output_type": "execute_result",
          "data": {
            "text/plain": [
              "array([0, 1, 2, 3])"
            ]
          },
          "metadata": {
            "tags": []
          },
          "execution_count": 2
        }
      ]
    },
    {
      "cell_type": "markdown",
      "metadata": {
        "id": "tT1gaeLCS1Q9",
        "colab_type": "text"
      },
      "source": [
        "## Iteración y recursión"
      ]
    },
    {
      "cell_type": "markdown",
      "metadata": {
        "id": "vO_di5IQT2zN",
        "colab_type": "text"
      },
      "source": [
        "Caso de ejemplo: Sucesión de Fibonacci\n",
        "\n",
        "\\begin{align}\n",
        "f_0 &= 0 \\\\\n",
        "f_1 &= 1 \\\\\n",
        "f_{n} &= f_{n-1} + f_{n-2}\n",
        "\\end{align}"
      ]
    },
    {
      "cell_type": "markdown",
      "metadata": {
        "id": "qRIVY95DTsuV",
        "colab_type": "text"
      },
      "source": [
        "### Representación iterativa"
      ]
    },
    {
      "cell_type": "code",
      "metadata": {
        "id": "Q4R9bcSXgXBw",
        "colab_type": "code",
        "colab": {}
      },
      "source": [
        "def fibo_I(n):\n",
        "  a, b = 0, 1\n",
        "  for i in range(n):\n",
        "    a, b = b, a+b\n",
        "  return a"
      ],
      "execution_count": null,
      "outputs": []
    },
    {
      "cell_type": "code",
      "metadata": {
        "id": "jD1L05yzSzKk",
        "colab_type": "code",
        "colab": {
          "base_uri": "https://localhost:8080/",
          "height": 34
        },
        "outputId": "906c0d08-dfce-4b1f-df06-d1b8f8cc0376"
      },
      "source": [
        "print(fibo_I(2))"
      ],
      "execution_count": null,
      "outputs": [
        {
          "output_type": "stream",
          "text": [
            "1\n"
          ],
          "name": "stdout"
        }
      ]
    },
    {
      "cell_type": "code",
      "metadata": {
        "id": "-7S40aJahd9Z",
        "colab_type": "code",
        "colab": {
          "base_uri": "https://localhost:8080/",
          "height": 50
        },
        "outputId": "1ef39204-6f03-47e1-8407-6253b954303b"
      },
      "source": [
        "from time import time\n",
        "tiempo_inicial = time()\n",
        "########################################################################################################################\n",
        "print(fibo_I(6))\n",
        "########################################################################################################################\n",
        "tiempo_final = time()\n",
        " \n",
        "tiempo_ejecucion = tiempo_final - tiempo_inicial\n",
        "print('El tiempo de ejecucion fue:',tiempo_ejecucion,\"segundos.\") #En segundos"
      ],
      "execution_count": null,
      "outputs": [
        {
          "output_type": "stream",
          "text": [
            "8\n",
            "El tiempo de ejecucion fue: 0.00112152099609375 segundos.\n"
          ],
          "name": "stdout"
        }
      ]
    },
    {
      "cell_type": "markdown",
      "metadata": {
        "colab_type": "text",
        "id": "amAOrE_8XFSK"
      },
      "source": [
        "### Representación recursiva"
      ]
    },
    {
      "cell_type": "code",
      "metadata": {
        "colab_type": "code",
        "id": "NlvuWgkFXFSO",
        "colab": {}
      },
      "source": [
        "def fibo_R(n):\n",
        "     if (n == 0):\n",
        "             return 0\n",
        "     elif (n == 1):\n",
        "             return 1\n",
        "     elif (n > 1):\n",
        "             return (fibo_R(n-1)+fibo_R(n-2))\n",
        "     else:\n",
        "             raise Exception('Error en el dato ingresado a la función')"
      ],
      "execution_count": null,
      "outputs": []
    },
    {
      "cell_type": "code",
      "metadata": {
        "id": "oc0TfExsXSZH",
        "colab_type": "code",
        "colab": {
          "base_uri": "https://localhost:8080/",
          "height": 50
        },
        "outputId": "fa79beaf-33e1-49d5-cfa8-a19b69cdcc3f"
      },
      "source": [
        "from time import time\n",
        "tiempo_inicial = time()\n",
        "########################################################################################################################\n",
        "print(fibo_R(6))\n",
        "########################################################################################################################\n",
        "tiempo_final = time()\n",
        " \n",
        "tiempo_ejecucion = tiempo_final - tiempo_inicial\n",
        "print('El tiempo de ejecucion fue:',tiempo_ejecucion,\"segundos.\") #En segundos"
      ],
      "execution_count": null,
      "outputs": [
        {
          "output_type": "stream",
          "text": [
            "8\n",
            "El tiempo de ejecucion fue: 0.0003886222839355469 segundos.\n"
          ],
          "name": "stdout"
        }
      ]
    },
    {
      "cell_type": "markdown",
      "metadata": {
        "id": "GosKN8CcZzxg",
        "colab_type": "text"
      },
      "source": [
        "Entonces, para estas implementaciones de la sucesión de Fibonacci, ¿siempre es preferible usar iteración a recursión? 🤔"
      ]
    },
    {
      "cell_type": "markdown",
      "metadata": {
        "id": "JveeJ30XbIBR",
        "colab_type": "text"
      },
      "source": [
        "### Ejercicio"
      ]
    },
    {
      "cell_type": "markdown",
      "metadata": {
        "id": "nuEf5pR-cpUJ",
        "colab_type": "text"
      },
      "source": [
        "Implementar recursivamente el algoritmo de euclides para determinar el MCD de dos números. Debe subir su archivo a PAIDEIA. El ejercicio de esta sesión no será evaluado."
      ]
    },
    {
      "cell_type": "markdown",
      "metadata": {
        "id": "roNseIkebNv-",
        "colab_type": "text"
      },
      "source": [
        "$mcd(x,y)= \\left\\{ \\begin{array}{lcc}\n",
        "             x &   si  & y=0 \\\\\n",
        "             \\\\ mcd(y,mod(x,y)) &  si & y>0 \\wedge x \\geq y \\\\\n",
        "             \\end{array}\n",
        "   \\right.$"
      ]
    },
    {
      "cell_type": "code",
      "metadata": {
        "id": "jrQu0HdlbLGW",
        "colab_type": "code",
        "colab": {}
      },
      "source": [
        "#IMPLEMENTAR"
      ],
      "execution_count": null,
      "outputs": []
    },
    {
      "cell_type": "code",
      "metadata": {
        "id": "9mcnqo3md3na",
        "colab_type": "code",
        "colab": {}
      },
      "source": [
        "resultado = mcd(27,9)\n",
        "assert resultado == 9, \"Error en la función mcd\"\n",
        "resultado"
      ],
      "execution_count": null,
      "outputs": []
    },
    {
      "cell_type": "markdown",
      "metadata": {
        "id": "SgiDyuAgYyoZ",
        "colab_type": "text"
      },
      "source": [
        "### Recursión como herramienta en IA"
      ]
    },
    {
      "cell_type": "markdown",
      "metadata": {
        "id": "qdVR4VY3Y6cn",
        "colab_type": "text"
      },
      "source": [
        "Torres de Hanoi:"
      ]
    },
    {
      "cell_type": "markdown",
      "metadata": {
        "id": "LaTkZNDqY1f2",
        "colab_type": "text"
      },
      "source": [
        "<img src='data:image/png;base64,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' width=300px>"
      ]
    }
  ]
}