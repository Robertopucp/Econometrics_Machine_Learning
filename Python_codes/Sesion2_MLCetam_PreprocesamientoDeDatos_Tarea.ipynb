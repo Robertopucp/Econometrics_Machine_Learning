{
  "nbformat": 4,
  "nbformat_minor": 0,
  "metadata": {
    "colab": {
      "name": "Sesion2_MLCetam_PreprocesamientoDeDatos_Tarea",
      "provenance": [],
      "collapsed_sections": [],
      "toc_visible": true
    },
    "kernelspec": {
      "name": "python3",
      "display_name": "Python 3"
    },
    "accelerator": "GPU"
  },
  "cells": [
    {
      "cell_type": "markdown",
      "metadata": {
        "id": "DyrXknmySOUI",
        "colab_type": "text"
      },
      "source": [
        "# Curso de Capacitación en Machine Learning para la Industria (ML CETAM) - Sesión 2 (Tarea)\n",
        "\n",
        "<img src='https://ia.inf.pucp.edu.pe/static/images/logo.svg' width=300px>\n",
        "<img src='https://dci.pucp.edu.pe/wp-content/uploads/2014/02/logo-color-pucp1.gif' width=200px>\n",
        "\n",
        "\n",
        "PhD. Edwin Villanueva, PhD. Soledad Espezua, BSc. Daniel Saromo"
      ]
    },
    {
      "cell_type": "markdown",
      "metadata": {
        "colab_type": "text",
        "id": "HWV9A-zMtpFg"
      },
      "source": [
        "<font color='#008B72'> Predicción de afiliación a débito automático en la industria de las telecomunicaciones: Preprocesamiento de datos. </font>"
      ]
    },
    {
      "cell_type": "markdown",
      "metadata": {
        "id": "UcF04IUo85Or",
        "colab_type": "text"
      },
      "source": [
        "## Caso: Afiliación al débito automático en la industria de las telecomunicaciones"
      ]
    },
    {
      "cell_type": "markdown",
      "metadata": {
        "id": "eTSNIORZ-ukb",
        "colab_type": "text"
      },
      "source": [
        "Hoy en día, la industria de las telecomunicaciones no está creciendo tanto como antes. Por ejemplo, en el primer trimestre de 2017, el producto bruto interno del sector de las telecomunicaciones (PBI) creció un 8,8%, mientras que en el segundo trimestre de 2018 creció solo un 5,5%. Dado que la tasa de crecimiento está disminuyendo, hay dos objetivos que se buscan comúnmente: reducción de costos operativos y minimización de riesgos. Para lograrlos, cada empresa del rubro de telecomunicaciones (como Movistar, Claro, Entel  o Bitel) adopta muchas estrategias. Una de esas estrategias es afiliar a sus clientes al débito automático.\n",
        "\n",
        "El débito automático es un método de pago en el que la facturación del servicio se carga todos los meses a una cuenta bancaria de forma automática. Para entender el concepto, imagina el siguiente ejemplo: hoy en día es común tener una suscripción a servicios como Netflix y Spotify. Para acceder a una versión premium del servicio, a menudo se requiere tener una tarjeta de crédito. Después de la facturación, la tarjeta de crédito se carga con la cantidad acordada cada mes. De manera similar, el monto facturado por el servicio de telefonía móvil se carga a una tarjeta de débito en el pago de débito automático.\n",
        "\n",
        "La suscripción al débito automático ayuda a lograr la reducción de costos (lo cual está relacionado con rentabilidad) porque ya no es necesario que la empresa pague a cada socio el costo de realizar las campañas de cobranza. Además, reduce la cantidad de insolvencias en cada empresa, ya que el riesgo de tener un cliente con malos hábitos de pago se comparte con cada banco."
      ]
    },
    {
      "cell_type": "markdown",
      "metadata": {
        "id": "BM6jFGRb_phR",
        "colab_type": "text"
      },
      "source": [
        "## Solución desde el punto de vista de ML"
      ]
    },
    {
      "cell_type": "markdown",
      "metadata": {
        "id": "P24Ro5TV_rt8",
        "colab_type": "text"
      },
      "source": [
        "De acuerdo al caso planteado, el objetivo del proyecto es mejorar la tasa de suscripción al método de pago con débito automático. Una forma de hacerlo es crear campañas especiales para los clientes que tienen más probabilidades de suscribirse. Por lo tanto, lo que podríamos hacer es predecir, dado un conjunto de clientes, cuáles tienen más probabilidades de suscribirse. Dado que los datos históricos sobre los clientes que están suscritos al débito automático están disponibles, esta estimación probablemente sea una tarea adecuada para un sistema de aprendizaje supervisado. Además, como solo hay dos clases (cliente que se suscribe y cliente que no se suscribe), este es un problema de clasificación binaria.\n",
        "\n",
        "Para el desafío de esta semana, se va a realizar únicamente el preprocesamiento de los datos. Este caso de estudio **será revisado nuevamente en la semana 4**, junto con otro ejemplo práctico, para poder terminar de elaborar un modelo de clasificación funcional.\n",
        "\n",
        "Completar con su código los campos indicados y subir su notebook solucionado a la plataforma PAIDEIA.\n",
        "\n",
        "El formato del nombre del archivo es: `Desafio2_APELLIDOPATERNO_NOMBRE.ipynb`. Subir solo su notebook resuelto, y **no el dataset**. Respetar los lineamientos de la entrega de archivo influirá en su calificación. La fecha límite de entrega del presente desafío se encuentra en PAIDEIA."
      ]
    },
    {
      "cell_type": "code",
      "metadata": {
        "id": "jaHSo2kv_5GI",
        "colab_type": "code",
        "colab": {}
      },
      "source": [
        "#libraries required\n",
        "import pandas as pd\n",
        "import seaborn as sn\n",
        "import matplotlib.pyplot as plt\n",
        "\n",
        "%matplotlib inline"
      ],
      "execution_count": null,
      "outputs": []
    },
    {
      "cell_type": "markdown",
      "metadata": {
        "colab_type": "text",
        "id": "nxqAIuiOAFuX"
      },
      "source": [
        "Pasos para poder adjuntar un archivo en Google Colab:\n",
        "\n",
        "0.   Se requiere estar conectado a un entorno de ejecución.\n",
        "1.   En la barra lateral izquierda, selecciona el icono de la pestaña `Archivos`.\n",
        "2.   Elige la opción `Subir`.\n",
        "3.   Sigue las instrucciones que aparecen.\n",
        "\n"
      ]
    },
    {
      "cell_type": "markdown",
      "metadata": {
        "id": "jFk3f0uFA8P0",
        "colab_type": "text"
      },
      "source": [
        "Se puede también enlazar tu cuenta de Google, para que el notebook pueda acceder a los archivos alojados en tu unidad de Google Drive."
      ]
    },
    {
      "cell_type": "code",
      "metadata": {
        "id": "3Ozm4StABAch",
        "colab_type": "code",
        "colab": {}
      },
      "source": [
        "#LOAD THE DRIVE HELPER AND MOUNT\n",
        "from google.colab import drive\n",
        "\n",
        "#THIS WILL PROMPT FOR AUTHORIZATION\n",
        "drive.mount('/content/drive')\n",
        "\n",
        "!ls \"/content/drive/My Drive/ZZZ\" #ROUTING EXAMPLE\n",
        "#/content/drive ROOT DIRECTORY"
      ],
      "execution_count": null,
      "outputs": []
    },
    {
      "cell_type": "markdown",
      "metadata": {
        "id": "t-uO4XMUBQXz",
        "colab_type": "text"
      },
      "source": [
        "Si deseas, puedes apretar el botón `Activar Drive`, dentro de la pestaña `Archivos`, para tener los códigos necesarios para enlazar tu cuenta de Google Drive."
      ]
    },
    {
      "cell_type": "code",
      "metadata": {
        "colab_type": "code",
        "id": "uT885TQaAFua",
        "colab": {}
      },
      "source": [
        "# Read the dataset\n",
        "dataset = pd.read_csv('Dataset_AfiliacionDebitoAutom.csv',\n",
        "                      sep=',',#siempre revisar!\n",
        "                      encoding='utf-8',\n",
        "                      na_values=' ')"
      ],
      "execution_count": null,
      "outputs": []
    },
    {
      "cell_type": "code",
      "metadata": {
        "colab_type": "code",
        "id": "iSPLZROTAFui",
        "colab": {
          "base_uri": "https://localhost:8080/",
          "height": 235
        },
        "outputId": "ff08398c-1e05-420a-d817-5b6321189f33"
      },
      "source": [
        "dataset.columns.values.tolist()"
      ],
      "execution_count": null,
      "outputs": [
        {
          "output_type": "execute_result",
          "data": {
            "text/plain": [
              "['N_ACTIVE_LINES',\n",
              " 'N_SUSPENDED_LINES',\n",
              " 'DEBT_CAPACITY',\n",
              " 'AGE',\n",
              " 'INCOME',\n",
              " 'OLDEST_LINE_MONTHS',\n",
              " 'SAME_BILLING_3M',\n",
              " 'DIGITAL_BILL',\n",
              " 'MB_3G_USE',\n",
              " 'MB_4G_USE',\n",
              " 'VOICE_IN_3M',\n",
              " 'VOICE_OUT_3M',\n",
              " 'SUBSCRIPTION_FLAG']"
            ]
          },
          "metadata": {
            "tags": []
          },
          "execution_count": 5
        }
      ]
    },
    {
      "cell_type": "markdown",
      "metadata": {
        "colab_type": "text",
        "id": "loNF9JSEAFur"
      },
      "source": [
        "Descripción de los atributos del dataset\n",
        "\n",
        "*   **N_ACTIVE_LINES** = Número de líneas móviles activas del cliente.\n",
        "*   **N_SUSPENDED_LINES** = Número de líneas móviles suspendidas del cliente (sin servicio).\n",
        "*   **DEBT_CAPACITY** = Estimación de la cantidad de dinero que la persona puede pedir prestado de un banco.\n",
        "*   **AGE** = Edad del cliente.\n",
        "*   **INCOME** = Ingresos\n",
        "*   **OLDEST_LINE_MONTHS** = Número de meses que la línea más antigua del cliente ha permanecido en la compañía.\n",
        "*   **SAME_BILLING_3M** = `1` si el cliente facturó el mismo monto con la compañía, por los últimos 3 meses.\n",
        "*   **DIGITAL_BILL** = `1` si el cliente se ha suscrito al servicio de facturación digital (la factura se envía por correo electrónico en lugar de usar métodos tradicionales).\n",
        "*   **MB_3G_USE** = Cantidad de MB usados en 3G.\n",
        "*   **MB_4G_USE** = Cantidad de MB usados en 4G.\n",
        "*   **VOICE_IN_3M** =Cantidad de minutos en llamadas de voz realizadas \"hacia adentro\" (desde una operadora externa hacia nuestra operadora).\n",
        "*   **VOICE_OUT_3M** = Cantidad de minutos en llamadas de voz realizadas \"hacia afuera\" (desde nuestra operadora hacia otra operadora).\n",
        "*   **SUBSCRIPTION_FLAG** = `1` indica que el cliente se ha afiliado al débito automático para su facturación.\n",
        "\n"
      ]
    },
    {
      "cell_type": "markdown",
      "metadata": {
        "id": "wasoCsu_RMjN",
        "colab_type": "text"
      },
      "source": [
        "Primero, hacemos una exploración preliminar de los datos. ¿Cuál sería la variable objetivo (target)?"
      ]
    },
    {
      "cell_type": "code",
      "metadata": {
        "colab_type": "code",
        "id": "iFKYbHE9AFut",
        "colab": {
          "base_uri": "https://localhost:8080/",
          "height": 304
        },
        "outputId": "e2b807d5-92a1-4c31-ed11-dd7c49d70b5a"
      },
      "source": [
        "dataset.describe()"
      ],
      "execution_count": null,
      "outputs": [
        {
          "output_type": "execute_result",
          "data": {
            "text/html": [
              "<div>\n",
              "<style scoped>\n",
              "    .dataframe tbody tr th:only-of-type {\n",
              "        vertical-align: middle;\n",
              "    }\n",
              "\n",
              "    .dataframe tbody tr th {\n",
              "        vertical-align: top;\n",
              "    }\n",
              "\n",
              "    .dataframe thead th {\n",
              "        text-align: right;\n",
              "    }\n",
              "</style>\n",
              "<table border=\"1\" class=\"dataframe\">\n",
              "  <thead>\n",
              "    <tr style=\"text-align: right;\">\n",
              "      <th></th>\n",
              "      <th>N_ACTIVE_LINES</th>\n",
              "      <th>N_SUSPENDED_LINES</th>\n",
              "      <th>DEBT_CAPACITY</th>\n",
              "      <th>AGE</th>\n",
              "      <th>INCOME</th>\n",
              "      <th>OLDEST_LINE_MONTHS</th>\n",
              "      <th>SAME_BILLING_3M</th>\n",
              "      <th>DIGITAL_BILL</th>\n",
              "      <th>MB_3G_USE</th>\n",
              "      <th>MB_4G_USE</th>\n",
              "      <th>VOICE_IN_3M</th>\n",
              "      <th>VOICE_OUT_3M</th>\n",
              "    </tr>\n",
              "  </thead>\n",
              "  <tbody>\n",
              "    <tr>\n",
              "      <th>count</th>\n",
              "      <td>101.000000</td>\n",
              "      <td>101.000000</td>\n",
              "      <td>101.000000</td>\n",
              "      <td>95.000000</td>\n",
              "      <td>101.000000</td>\n",
              "      <td>101.000000</td>\n",
              "      <td>101.000000</td>\n",
              "      <td>101.000000</td>\n",
              "      <td>101.000000</td>\n",
              "      <td>101.000000</td>\n",
              "      <td>100.000000</td>\n",
              "      <td>101.000000</td>\n",
              "    </tr>\n",
              "    <tr>\n",
              "      <th>mean</th>\n",
              "      <td>1.059406</td>\n",
              "      <td>0.138614</td>\n",
              "      <td>172.861386</td>\n",
              "      <td>36.463158</td>\n",
              "      <td>68.047274</td>\n",
              "      <td>17.237624</td>\n",
              "      <td>0.633663</td>\n",
              "      <td>0.801980</td>\n",
              "      <td>731.056436</td>\n",
              "      <td>7166.463366</td>\n",
              "      <td>250.911619</td>\n",
              "      <td>620.201870</td>\n",
              "    </tr>\n",
              "    <tr>\n",
              "      <th>std</th>\n",
              "      <td>0.580031</td>\n",
              "      <td>0.374959</td>\n",
              "      <td>126.132948</td>\n",
              "      <td>9.120716</td>\n",
              "      <td>43.298222</td>\n",
              "      <td>15.643624</td>\n",
              "      <td>0.484206</td>\n",
              "      <td>0.400495</td>\n",
              "      <td>1781.948329</td>\n",
              "      <td>10819.287102</td>\n",
              "      <td>474.152642</td>\n",
              "      <td>724.473191</td>\n",
              "    </tr>\n",
              "    <tr>\n",
              "      <th>min</th>\n",
              "      <td>0.000000</td>\n",
              "      <td>0.000000</td>\n",
              "      <td>0.000000</td>\n",
              "      <td>24.000000</td>\n",
              "      <td>18.978000</td>\n",
              "      <td>2.000000</td>\n",
              "      <td>0.000000</td>\n",
              "      <td>0.000000</td>\n",
              "      <td>0.000000</td>\n",
              "      <td>0.000000</td>\n",
              "      <td>0.000000</td>\n",
              "      <td>0.000000</td>\n",
              "    </tr>\n",
              "    <tr>\n",
              "      <th>25%</th>\n",
              "      <td>1.000000</td>\n",
              "      <td>0.000000</td>\n",
              "      <td>90.000000</td>\n",
              "      <td>28.000000</td>\n",
              "      <td>41.900002</td>\n",
              "      <td>6.000000</td>\n",
              "      <td>0.000000</td>\n",
              "      <td>1.000000</td>\n",
              "      <td>21.100000</td>\n",
              "      <td>377.200000</td>\n",
              "      <td>50.146125</td>\n",
              "      <td>154.900000</td>\n",
              "    </tr>\n",
              "    <tr>\n",
              "      <th>50%</th>\n",
              "      <td>1.000000</td>\n",
              "      <td>0.000000</td>\n",
              "      <td>160.000000</td>\n",
              "      <td>35.000000</td>\n",
              "      <td>62.900000</td>\n",
              "      <td>11.000000</td>\n",
              "      <td>1.000000</td>\n",
              "      <td>1.000000</td>\n",
              "      <td>167.800000</td>\n",
              "      <td>3389.500000</td>\n",
              "      <td>125.708500</td>\n",
              "      <td>418.700300</td>\n",
              "    </tr>\n",
              "    <tr>\n",
              "      <th>75%</th>\n",
              "      <td>1.000000</td>\n",
              "      <td>0.000000</td>\n",
              "      <td>220.000000</td>\n",
              "      <td>43.000000</td>\n",
              "      <td>79.000056</td>\n",
              "      <td>26.000000</td>\n",
              "      <td>1.000000</td>\n",
              "      <td>1.000000</td>\n",
              "      <td>604.600000</td>\n",
              "      <td>9061.300000</td>\n",
              "      <td>303.779625</td>\n",
              "      <td>871.984500</td>\n",
              "    </tr>\n",
              "    <tr>\n",
              "      <th>max</th>\n",
              "      <td>3.000000</td>\n",
              "      <td>2.000000</td>\n",
              "      <td>570.000000</td>\n",
              "      <td>57.000000</td>\n",
              "      <td>309.599459</td>\n",
              "      <td>80.000000</td>\n",
              "      <td>1.000000</td>\n",
              "      <td>1.000000</td>\n",
              "      <td>14734.000000</td>\n",
              "      <td>56071.000000</td>\n",
              "      <td>4296.182900</td>\n",
              "      <td>5014.400300</td>\n",
              "    </tr>\n",
              "  </tbody>\n",
              "</table>\n",
              "</div>"
            ],
            "text/plain": [
              "       N_ACTIVE_LINES  N_SUSPENDED_LINES  ...  VOICE_IN_3M  VOICE_OUT_3M\n",
              "count      101.000000         101.000000  ...   100.000000    101.000000\n",
              "mean         1.059406           0.138614  ...   250.911619    620.201870\n",
              "std          0.580031           0.374959  ...   474.152642    724.473191\n",
              "min          0.000000           0.000000  ...     0.000000      0.000000\n",
              "25%          1.000000           0.000000  ...    50.146125    154.900000\n",
              "50%          1.000000           0.000000  ...   125.708500    418.700300\n",
              "75%          1.000000           0.000000  ...   303.779625    871.984500\n",
              "max          3.000000           2.000000  ...  4296.182900   5014.400300\n",
              "\n",
              "[8 rows x 12 columns]"
            ]
          },
          "metadata": {
            "tags": []
          },
          "execution_count": 6
        }
      ]
    },
    {
      "cell_type": "markdown",
      "metadata": {
        "id": "YVj6NzQ2RjIb",
        "colab_type": "text"
      },
      "source": [
        "Revisamos si es que hay valores faltantes (null), para determinar si se requiere hacer una imputación o no. Este dato ya lo sabíamos previamente? :o"
      ]
    },
    {
      "cell_type": "code",
      "metadata": {
        "colab_type": "code",
        "id": "RhE_aw2dAFu0",
        "colab": {
          "base_uri": "https://localhost:8080/",
          "height": 252
        },
        "outputId": "85ff9604-abf0-4a19-cf83-c87e28a6df55"
      },
      "source": [
        "dataset.isnull().sum(axis=0)"
      ],
      "execution_count": null,
      "outputs": [
        {
          "output_type": "execute_result",
          "data": {
            "text/plain": [
              "N_ACTIVE_LINES        0\n",
              "N_SUSPENDED_LINES     0\n",
              "DEBT_CAPACITY         0\n",
              "AGE                   6\n",
              "INCOME                0\n",
              "OLDEST_LINE_MONTHS    0\n",
              "SAME_BILLING_3M       0\n",
              "DIGITAL_BILL          0\n",
              "MB_3G_USE             0\n",
              "MB_4G_USE             0\n",
              "VOICE_IN_3M           1\n",
              "VOICE_OUT_3M          0\n",
              "SUBSCRIPTION_FLAG     0\n",
              "dtype: int64"
            ]
          },
          "metadata": {
            "tags": []
          },
          "execution_count": 7
        }
      ]
    },
    {
      "cell_type": "markdown",
      "metadata": {
        "id": "Z5yaZtMPT_Y0",
        "colab_type": "text"
      },
      "source": [
        "Se observa que se tienen datos faltantes. Como parte del desafío de la semana, se les pide completar los valores faltantes de edad con la mediana. Si es que hubiera otro atributo faltante, completar con el promedio de los valores que sí se tienen."
      ]
    },
    {
      "cell_type": "code",
      "metadata": {
        "colab_type": "code",
        "id": "CO5F3UgVAFu6",
        "colab": {}
      },
      "source": [
        "# Fill null values\n",
        "dataset = dataset.fillna({'AGE':18})#como ejemplo, pongo que el valor a llenar es 18"
      ],
      "execution_count": null,
      "outputs": []
    },
    {
      "cell_type": "code",
      "metadata": {
        "id": "wZgXUFH4VX1u",
        "colab_type": "code",
        "colab": {}
      },
      "source": [
        "# TO DO :::::\n",
        "# Completar el otro atributo faltante"
      ],
      "execution_count": null,
      "outputs": []
    },
    {
      "cell_type": "markdown",
      "metadata": {
        "id": "5QQzOf5-Vmbr",
        "colab_type": "text"
      },
      "source": [
        "Además, observamos que hay registros donde no se tiene información del flag deseado. Descartar dichos campos."
      ]
    },
    {
      "cell_type": "code",
      "metadata": {
        "id": "zJtV-dxrVwpN",
        "colab_type": "code",
        "colab": {}
      },
      "source": [
        "# TO DO :::::"
      ],
      "execution_count": null,
      "outputs": []
    },
    {
      "cell_type": "markdown",
      "metadata": {
        "id": "gfo1YoAlWak-",
        "colab_type": "text"
      },
      "source": [
        "Revisamos la variable target. ¿Por qué es importante?"
      ]
    },
    {
      "cell_type": "code",
      "metadata": {
        "colab_type": "code",
        "id": "QxPXqveMAFvA",
        "colab": {
          "base_uri": "https://localhost:8080/",
          "height": 69
        },
        "outputId": "ac59d040-c1d8-489d-ce8d-000d61659c8b"
      },
      "source": [
        "dataset.SUBSCRIPTION_FLAG.value_counts()"
      ],
      "execution_count": null,
      "outputs": [
        {
          "output_type": "execute_result",
          "data": {
            "text/plain": [
              "1    60\n",
              "0    40\n",
              "Name: SUBSCRIPTION_FLAG, dtype: int64"
            ]
          },
          "metadata": {
            "tags": []
          },
          "execution_count": 7
        }
      ]
    },
    {
      "cell_type": "code",
      "metadata": {
        "colab_type": "code",
        "id": "ia2LMBOfAFvD",
        "colab": {}
      },
      "source": [
        "target_var = 'SUBSCRIPTION_FLAG'"
      ],
      "execution_count": null,
      "outputs": []
    },
    {
      "cell_type": "code",
      "metadata": {
        "colab_type": "code",
        "id": "dWdOtIdJAFvG",
        "colab": {}
      },
      "source": [
        "# Si no está familiarizado con esta parte del código, revise list comprehensions de Python\n",
        "features   = [x for x in dataset.columns.values if x!=target_var]\n",
        "X = dataset.copy()[features]\n",
        "y = dataset.copy()[target_var]"
      ],
      "execution_count": null,
      "outputs": []
    },
    {
      "cell_type": "markdown",
      "metadata": {
        "id": "n398JCTzW-GO",
        "colab_type": "text"
      },
      "source": [
        "Se le pide también, que balancee su dataset. Hacer un sampling aleatorio de los datos, de manera que se tenga la misma cantidad de afiliados y no afiliados."
      ]
    },
    {
      "cell_type": "code",
      "metadata": {
        "id": "MIujlSEbXNZ1",
        "colab_type": "code",
        "colab": {}
      },
      "source": [
        "# TO DO :::"
      ],
      "execution_count": null,
      "outputs": []
    },
    {
      "cell_type": "markdown",
      "metadata": {
        "id": "nirJee8jXPjL",
        "colab_type": "text"
      },
      "source": [
        "Verificar el balanceo. ¿Qué valores deberían estar aquí?"
      ]
    },
    {
      "cell_type": "code",
      "metadata": {
        "id": "eO0tuZewXRjz",
        "colab_type": "code",
        "colab": {}
      },
      "source": [
        "dataset.SUBSCRIPTION_FLAG.value_counts()"
      ],
      "execution_count": null,
      "outputs": []
    },
    {
      "cell_type": "markdown",
      "metadata": {
        "id": "Bx5zC276XWFr",
        "colab_type": "text"
      },
      "source": [
        "Divida su nuevo dataset en subconjuntos de train y test. ¿Por qué es necesario hacer esto? ¿Hay un valor \"perfecto\" universal para el ratio de test/train? Para su tarea, considere que *aproximadamente*, por cada dato de test deberían haber 4 datos de train. Utilice `random_state=22`."
      ]
    },
    {
      "cell_type": "code",
      "metadata": {
        "colab_type": "code",
        "id": "t9Xc-cBNAFvI",
        "colab": {}
      },
      "source": [
        "from sklearn.model_selection import train_test_split\n",
        "X_train, X_test, y_train, y_test = ..."
      ],
      "execution_count": null,
      "outputs": []
    },
    {
      "cell_type": "markdown",
      "metadata": {
        "id": "UMLOA3u6YPBO",
        "colab_type": "text"
      },
      "source": [
        "Realice una normalización de los valores numéricos de los atributos, al rango 0 a 1. ¿Cuáles son los atributos que debes considerar aquí? ¿Todos?"
      ]
    },
    {
      "cell_type": "markdown",
      "metadata": {
        "id": "yiF-NR7_Ysae",
        "colab_type": "text"
      },
      "source": [
        "**BONUS**: ¿Por qué hacemos este escalamiento? [Puedes revisar este enlace](https://towardsdatascience.com/scale-standardize-or-normalize-with-scikit-learn-6ccc7d176a02)"
      ]
    },
    {
      "cell_type": "code",
      "metadata": {
        "colab_type": "code",
        "id": "fFrWjJCFAFvL",
        "colab": {}
      },
      "source": [
        "from sklearn.preprocessing import MinMaxScaler #por defecto a qué rango lleva los datos?\n",
        "scaler = MinMaxScaler()\n",
        "scaler...\n",
        "# Notar que la transformación se debe hacer con el mismo scaler tanto a los datos de train como a los de test!\n",
        "X_train_s = scaler.transform(...\n",
        "X_test_s  = ..."
      ],
      "execution_count": null,
      "outputs": []
    },
    {
      "cell_type": "markdown",
      "metadata": {
        "colab_type": "text",
        "id": "tJF-RuRrAFvN"
      },
      "source": [
        "Otra práctica usual en ML consiste en estandarizar los datos: $X' = \\frac{X - \\mu}{\\sigma}$; donde $X$ es el data vector, $\\mu$ es el vector de promedios, y $\\sigma$ es el standard deviation vector."
      ]
    },
    {
      "cell_type": "code",
      "metadata": {
        "colab_type": "code",
        "id": "13VckMrMAFvN",
        "colab": {}
      },
      "source": [
        "# Definir y entrenar el clasificador...\n",
        "# ESTO LO VEREMOS MÁS ADELANTE EN EL CURSO ;)"
      ],
      "execution_count": null,
      "outputs": []
    }
  ]
}