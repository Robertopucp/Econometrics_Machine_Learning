{
  "nbformat": 4,
  "nbformat_minor": 0,
  "metadata": {
    "colab": {
      "name": "Sesion4_MLCetam_Clasificacion_Tarea",
      "provenance": [],
      "collapsed_sections": [],
      "toc_visible": true
    },
    "kernelspec": {
      "name": "python3",
      "display_name": "Python 3"
    }
  },
  "cells": [
    {
      "cell_type": "markdown",
      "metadata": {
        "id": "DyrXknmySOUI"
      },
      "source": [
        "# Curso de Capacitación en Machine Learning para la Industria (ML CETAM) - Sesión 4 (Tarea)\n",
        "\n",
        "<img src='http://ia.inf.pucp.edu.pe/static/images/logo.svg' width=300px>\n",
        "<img src='https://dci.pucp.edu.pe/wp-content/uploads/2014/02/logo-color-pucp1.gif' width=200px>\n",
        "\n",
        "\n",
        "PhD. Edwin Villanueva, PhD. Soledad Espezua, BSc. Daniel Saromo"
      ]
    },
    {
      "cell_type": "markdown",
      "metadata": {
        "id": "HWV9A-zMtpFg"
      },
      "source": [
        "<font color='#008B72'> Modelos de clasificación: Predicción de la edad de abalones </font>"
      ]
    },
    {
      "cell_type": "markdown",
      "metadata": {
        "id": "BM6jFGRb_phR"
      },
      "source": [
        "## Caso: Determinación de la edad de un abalón usando sus anillos internos: Abalone Dataset"
      ]
    },
    {
      "cell_type": "markdown",
      "metadata": {
        "id": "SloEcdzC7RQz"
      },
      "source": [
        "Fuente del dataset: https://archive.ics.uci.edu/ml/datasets/Abalone\n",
        "\n",
        "<img src='https://mnc-asia.com/wp-content/uploads/2018/04/ormeaux-sauvages-1kg.jpg' width=200px>\n",
        "\n",
        "La edad de un abalón es determinada al cortar su caparazón a través de su cono, teñirlo y contar el número de anillos usando una lupa o un microscopio. Otras medidas, que son más fáciles de obtener, son usadas para predecir dicha edad. Información adicional, como patrones de climma y localización (por lo tanto, disponibilidad de alimento), también pueden ser usados para resolver el problema de predicción.\n",
        "\n",
        "**Información de los atributos:**\n",
        "\n",
        "Se indican el nombre del atributo, su tipo, la unidad de medida y una pequeña descripción. El número de anillos es el valor a predecir (clasificación).\n",
        "\n",
        "```\n",
        "Name / Data Type / Measurement Unit / Description\n",
        "-----------------------------\n",
        "Sex / nominal / -- / M, F, and I (infant)\n",
        "Length / continuous / mm / Longest shell measurement\n",
        "Diameter / continuous / mm / perpendicular to length\n",
        "Height / continuous / mm / with meat in shell\n",
        "Whole weight / continuous / grams / whole abalone\n",
        "Shucked weight / continuous / grams / weight of meat\n",
        "Viscera weight / continuous / grams / gut weight (after bleeding)\n",
        "Shell weight / continuous / grams / after being dried\n",
        "Rings / integer / -- / +1.5 gives the age in years\n",
        "```"
      ]
    },
    {
      "cell_type": "markdown",
      "metadata": {
        "id": "P24Ro5TV_rt8"
      },
      "source": [
        "De acuerdo al caso planteado, el objetivo del proyecto es predecir la edad de un abalón usando mediciones físicas que son fáciles de realizar.\n",
        "\n",
        "Completar con su código los campos indicados y subir su notebook solucionado a la plataforma PAIDEIA.\n",
        "\n",
        "El formato del nombre del archivo es: `Desafio4_APELLIDOPATERNO_NOMBRE.ipynb`. Respetar los lineamientos de la entrega de archivo influirá en su calificación. La fecha límite de entrega del presente desafío se encuentra en PAIDEIA. No subir el archivo `abalones.csv`, solamente se debe subir el notebook (extensión `ipynb`)."
      ]
    },
    {
      "cell_type": "code",
      "metadata": {
        "id": "_KGMsQ89jXYE"
      },
      "source": [
        "import numpy as np\n",
        "import pandas as pd\n",
        "import matplotlib.pyplot as plt\n",
        "\n",
        "data = pd.read_csv('abalones.csv', names=['Sex', 'Length', 'Diameter', 'Height', 'Whole weight', 'Shucked weight', 'Viscera weight', 'Shell weight', 'Rings'])"
      ],
      "execution_count": null,
      "outputs": []
    },
    {
      "cell_type": "code",
      "metadata": {
        "id": "w39En94DkPCl",
        "outputId": "cb9220ea-b34c-4675-a5f4-3c739b5529b7",
        "colab": {
          "base_uri": "https://localhost:8080/",
          "height": 195
        }
      },
      "source": [
        "data.head()"
      ],
      "execution_count": null,
      "outputs": [
        {
          "output_type": "execute_result",
          "data": {
            "text/html": [
              "<div>\n",
              "<style scoped>\n",
              "    .dataframe tbody tr th:only-of-type {\n",
              "        vertical-align: middle;\n",
              "    }\n",
              "\n",
              "    .dataframe tbody tr th {\n",
              "        vertical-align: top;\n",
              "    }\n",
              "\n",
              "    .dataframe thead th {\n",
              "        text-align: right;\n",
              "    }\n",
              "</style>\n",
              "<table border=\"1\" class=\"dataframe\">\n",
              "  <thead>\n",
              "    <tr style=\"text-align: right;\">\n",
              "      <th></th>\n",
              "      <th>Sex</th>\n",
              "      <th>Length</th>\n",
              "      <th>Diameter</th>\n",
              "      <th>Height</th>\n",
              "      <th>Whole weight</th>\n",
              "      <th>Shucked weight</th>\n",
              "      <th>Viscera weight</th>\n",
              "      <th>Shell weight</th>\n",
              "      <th>Rings</th>\n",
              "    </tr>\n",
              "  </thead>\n",
              "  <tbody>\n",
              "    <tr>\n",
              "      <th>0</th>\n",
              "      <td>M</td>\n",
              "      <td>0.455</td>\n",
              "      <td>0.365</td>\n",
              "      <td>0.095</td>\n",
              "      <td>0.5140</td>\n",
              "      <td>0.2245</td>\n",
              "      <td>0.1010</td>\n",
              "      <td>0.150</td>\n",
              "      <td>15</td>\n",
              "    </tr>\n",
              "    <tr>\n",
              "      <th>1</th>\n",
              "      <td>M</td>\n",
              "      <td>0.350</td>\n",
              "      <td>0.265</td>\n",
              "      <td>0.090</td>\n",
              "      <td>0.2255</td>\n",
              "      <td>0.0995</td>\n",
              "      <td>0.0485</td>\n",
              "      <td>0.070</td>\n",
              "      <td>7</td>\n",
              "    </tr>\n",
              "    <tr>\n",
              "      <th>2</th>\n",
              "      <td>F</td>\n",
              "      <td>0.530</td>\n",
              "      <td>0.420</td>\n",
              "      <td>0.135</td>\n",
              "      <td>0.6770</td>\n",
              "      <td>0.2565</td>\n",
              "      <td>0.1415</td>\n",
              "      <td>0.210</td>\n",
              "      <td>9</td>\n",
              "    </tr>\n",
              "    <tr>\n",
              "      <th>3</th>\n",
              "      <td>M</td>\n",
              "      <td>0.440</td>\n",
              "      <td>0.365</td>\n",
              "      <td>0.125</td>\n",
              "      <td>0.5160</td>\n",
              "      <td>0.2155</td>\n",
              "      <td>0.1140</td>\n",
              "      <td>0.155</td>\n",
              "      <td>10</td>\n",
              "    </tr>\n",
              "    <tr>\n",
              "      <th>4</th>\n",
              "      <td>I</td>\n",
              "      <td>0.330</td>\n",
              "      <td>0.255</td>\n",
              "      <td>0.080</td>\n",
              "      <td>0.2050</td>\n",
              "      <td>0.0895</td>\n",
              "      <td>0.0395</td>\n",
              "      <td>0.055</td>\n",
              "      <td>7</td>\n",
              "    </tr>\n",
              "  </tbody>\n",
              "</table>\n",
              "</div>"
            ],
            "text/plain": [
              "  Sex  Length  Diameter  ...  Viscera weight  Shell weight  Rings\n",
              "0   M   0.455     0.365  ...          0.1010         0.150     15\n",
              "1   M   0.350     0.265  ...          0.0485         0.070      7\n",
              "2   F   0.530     0.420  ...          0.1415         0.210      9\n",
              "3   M   0.440     0.365  ...          0.1140         0.155     10\n",
              "4   I   0.330     0.255  ...          0.0395         0.055      7\n",
              "\n",
              "[5 rows x 9 columns]"
            ]
          },
          "metadata": {
            "tags": []
          },
          "execution_count": 75
        }
      ]
    },
    {
      "cell_type": "code",
      "metadata": {
        "id": "C8oMx0UI7yUa",
        "outputId": "aae00e8d-e87f-4714-8811-e3ff429d7f4f",
        "colab": {
          "base_uri": "https://localhost:8080/",
          "height": 284
        }
      },
      "source": [
        "data.describe()"
      ],
      "execution_count": null,
      "outputs": [
        {
          "output_type": "execute_result",
          "data": {
            "text/html": [
              "<div>\n",
              "<style scoped>\n",
              "    .dataframe tbody tr th:only-of-type {\n",
              "        vertical-align: middle;\n",
              "    }\n",
              "\n",
              "    .dataframe tbody tr th {\n",
              "        vertical-align: top;\n",
              "    }\n",
              "\n",
              "    .dataframe thead th {\n",
              "        text-align: right;\n",
              "    }\n",
              "</style>\n",
              "<table border=\"1\" class=\"dataframe\">\n",
              "  <thead>\n",
              "    <tr style=\"text-align: right;\">\n",
              "      <th></th>\n",
              "      <th>Length</th>\n",
              "      <th>Diameter</th>\n",
              "      <th>Height</th>\n",
              "      <th>Whole weight</th>\n",
              "      <th>Shucked weight</th>\n",
              "      <th>Viscera weight</th>\n",
              "      <th>Shell weight</th>\n",
              "      <th>Rings</th>\n",
              "    </tr>\n",
              "  </thead>\n",
              "  <tbody>\n",
              "    <tr>\n",
              "      <th>count</th>\n",
              "      <td>4177.000000</td>\n",
              "      <td>4177.000000</td>\n",
              "      <td>4177.000000</td>\n",
              "      <td>4177.000000</td>\n",
              "      <td>4177.000000</td>\n",
              "      <td>4177.000000</td>\n",
              "      <td>4177.000000</td>\n",
              "      <td>4177.000000</td>\n",
              "    </tr>\n",
              "    <tr>\n",
              "      <th>mean</th>\n",
              "      <td>0.523992</td>\n",
              "      <td>0.407881</td>\n",
              "      <td>0.139516</td>\n",
              "      <td>0.828742</td>\n",
              "      <td>0.359367</td>\n",
              "      <td>0.180594</td>\n",
              "      <td>0.238831</td>\n",
              "      <td>9.933684</td>\n",
              "    </tr>\n",
              "    <tr>\n",
              "      <th>std</th>\n",
              "      <td>0.120093</td>\n",
              "      <td>0.099240</td>\n",
              "      <td>0.041827</td>\n",
              "      <td>0.490389</td>\n",
              "      <td>0.221963</td>\n",
              "      <td>0.109614</td>\n",
              "      <td>0.139203</td>\n",
              "      <td>3.224169</td>\n",
              "    </tr>\n",
              "    <tr>\n",
              "      <th>min</th>\n",
              "      <td>0.075000</td>\n",
              "      <td>0.055000</td>\n",
              "      <td>0.000000</td>\n",
              "      <td>0.002000</td>\n",
              "      <td>0.001000</td>\n",
              "      <td>0.000500</td>\n",
              "      <td>0.001500</td>\n",
              "      <td>1.000000</td>\n",
              "    </tr>\n",
              "    <tr>\n",
              "      <th>25%</th>\n",
              "      <td>0.450000</td>\n",
              "      <td>0.350000</td>\n",
              "      <td>0.115000</td>\n",
              "      <td>0.441500</td>\n",
              "      <td>0.186000</td>\n",
              "      <td>0.093500</td>\n",
              "      <td>0.130000</td>\n",
              "      <td>8.000000</td>\n",
              "    </tr>\n",
              "    <tr>\n",
              "      <th>50%</th>\n",
              "      <td>0.545000</td>\n",
              "      <td>0.425000</td>\n",
              "      <td>0.140000</td>\n",
              "      <td>0.799500</td>\n",
              "      <td>0.336000</td>\n",
              "      <td>0.171000</td>\n",
              "      <td>0.234000</td>\n",
              "      <td>9.000000</td>\n",
              "    </tr>\n",
              "    <tr>\n",
              "      <th>75%</th>\n",
              "      <td>0.615000</td>\n",
              "      <td>0.480000</td>\n",
              "      <td>0.165000</td>\n",
              "      <td>1.153000</td>\n",
              "      <td>0.502000</td>\n",
              "      <td>0.253000</td>\n",
              "      <td>0.329000</td>\n",
              "      <td>11.000000</td>\n",
              "    </tr>\n",
              "    <tr>\n",
              "      <th>max</th>\n",
              "      <td>0.815000</td>\n",
              "      <td>0.650000</td>\n",
              "      <td>1.130000</td>\n",
              "      <td>2.825500</td>\n",
              "      <td>1.488000</td>\n",
              "      <td>0.760000</td>\n",
              "      <td>1.005000</td>\n",
              "      <td>29.000000</td>\n",
              "    </tr>\n",
              "  </tbody>\n",
              "</table>\n",
              "</div>"
            ],
            "text/plain": [
              "            Length     Diameter  ...  Shell weight        Rings\n",
              "count  4177.000000  4177.000000  ...   4177.000000  4177.000000\n",
              "mean      0.523992     0.407881  ...      0.238831     9.933684\n",
              "std       0.120093     0.099240  ...      0.139203     3.224169\n",
              "min       0.075000     0.055000  ...      0.001500     1.000000\n",
              "25%       0.450000     0.350000  ...      0.130000     8.000000\n",
              "50%       0.545000     0.425000  ...      0.234000     9.000000\n",
              "75%       0.615000     0.480000  ...      0.329000    11.000000\n",
              "max       0.815000     0.650000  ...      1.005000    29.000000\n",
              "\n",
              "[8 rows x 8 columns]"
            ]
          },
          "metadata": {
            "tags": []
          },
          "execution_count": 76
        }
      ]
    },
    {
      "cell_type": "markdown",
      "metadata": {
        "id": "zdINIe9vboCS"
      },
      "source": [
        "## 1) Preprocesamiento de datos\n",
        "Se tienen las siguientes etapas:"
      ]
    },
    {
      "cell_type": "markdown",
      "metadata": {
        "id": "FaLdJ9CvfJIU"
      },
      "source": [
        "### Transformación de datos cualitativos a cuantitativos"
      ]
    },
    {
      "cell_type": "code",
      "metadata": {
        "id": "spsxO1_ykmDc",
        "outputId": "95747448-b388-4501-f2f3-6b5e2de3e073",
        "colab": {
          "base_uri": "https://localhost:8080/",
          "height": 195
        }
      },
      "source": [
        "from sklearn import preprocessing\n",
        "def encode_features(df):\n",
        "    features = ['Sex']\n",
        "    \n",
        "    for feature in features:\n",
        "        le = preprocessing.LabelEncoder()\n",
        "        le = le.fit(df[feature])\n",
        "        df[feature] = le.transform(df[feature])\n",
        "\n",
        "    return df\n",
        "    \n",
        "data_train = encode_features(data)\n",
        "data_train.head()"
      ],
      "execution_count": null,
      "outputs": [
        {
          "output_type": "execute_result",
          "data": {
            "text/html": [
              "<div>\n",
              "<style scoped>\n",
              "    .dataframe tbody tr th:only-of-type {\n",
              "        vertical-align: middle;\n",
              "    }\n",
              "\n",
              "    .dataframe tbody tr th {\n",
              "        vertical-align: top;\n",
              "    }\n",
              "\n",
              "    .dataframe thead th {\n",
              "        text-align: right;\n",
              "    }\n",
              "</style>\n",
              "<table border=\"1\" class=\"dataframe\">\n",
              "  <thead>\n",
              "    <tr style=\"text-align: right;\">\n",
              "      <th></th>\n",
              "      <th>Sex</th>\n",
              "      <th>Length</th>\n",
              "      <th>Diameter</th>\n",
              "      <th>Height</th>\n",
              "      <th>Whole weight</th>\n",
              "      <th>Shucked weight</th>\n",
              "      <th>Viscera weight</th>\n",
              "      <th>Shell weight</th>\n",
              "      <th>Rings</th>\n",
              "    </tr>\n",
              "  </thead>\n",
              "  <tbody>\n",
              "    <tr>\n",
              "      <th>0</th>\n",
              "      <td>2</td>\n",
              "      <td>0.455</td>\n",
              "      <td>0.365</td>\n",
              "      <td>0.095</td>\n",
              "      <td>0.5140</td>\n",
              "      <td>0.2245</td>\n",
              "      <td>0.1010</td>\n",
              "      <td>0.150</td>\n",
              "      <td>15</td>\n",
              "    </tr>\n",
              "    <tr>\n",
              "      <th>1</th>\n",
              "      <td>2</td>\n",
              "      <td>0.350</td>\n",
              "      <td>0.265</td>\n",
              "      <td>0.090</td>\n",
              "      <td>0.2255</td>\n",
              "      <td>0.0995</td>\n",
              "      <td>0.0485</td>\n",
              "      <td>0.070</td>\n",
              "      <td>7</td>\n",
              "    </tr>\n",
              "    <tr>\n",
              "      <th>2</th>\n",
              "      <td>0</td>\n",
              "      <td>0.530</td>\n",
              "      <td>0.420</td>\n",
              "      <td>0.135</td>\n",
              "      <td>0.6770</td>\n",
              "      <td>0.2565</td>\n",
              "      <td>0.1415</td>\n",
              "      <td>0.210</td>\n",
              "      <td>9</td>\n",
              "    </tr>\n",
              "    <tr>\n",
              "      <th>3</th>\n",
              "      <td>2</td>\n",
              "      <td>0.440</td>\n",
              "      <td>0.365</td>\n",
              "      <td>0.125</td>\n",
              "      <td>0.5160</td>\n",
              "      <td>0.2155</td>\n",
              "      <td>0.1140</td>\n",
              "      <td>0.155</td>\n",
              "      <td>10</td>\n",
              "    </tr>\n",
              "    <tr>\n",
              "      <th>4</th>\n",
              "      <td>1</td>\n",
              "      <td>0.330</td>\n",
              "      <td>0.255</td>\n",
              "      <td>0.080</td>\n",
              "      <td>0.2050</td>\n",
              "      <td>0.0895</td>\n",
              "      <td>0.0395</td>\n",
              "      <td>0.055</td>\n",
              "      <td>7</td>\n",
              "    </tr>\n",
              "  </tbody>\n",
              "</table>\n",
              "</div>"
            ],
            "text/plain": [
              "   Sex  Length  Diameter  ...  Viscera weight  Shell weight  Rings\n",
              "0    2   0.455     0.365  ...          0.1010         0.150     15\n",
              "1    2   0.350     0.265  ...          0.0485         0.070      7\n",
              "2    0   0.530     0.420  ...          0.1415         0.210      9\n",
              "3    2   0.440     0.365  ...          0.1140         0.155     10\n",
              "4    1   0.330     0.255  ...          0.0395         0.055      7\n",
              "\n",
              "[5 rows x 9 columns]"
            ]
          },
          "metadata": {
            "tags": []
          },
          "execution_count": 78
        }
      ]
    },
    {
      "cell_type": "markdown",
      "metadata": {
        "id": "1eqkntla8dwS"
      },
      "source": [
        "### Revisando balanceo de los datos"
      ]
    },
    {
      "cell_type": "code",
      "metadata": {
        "id": "3l9JxBYN8flh",
        "outputId": "49d70c2f-1da2-4824-f8b1-a82dde01f639",
        "colab": {
          "base_uri": "https://localhost:8080/",
          "height": 504
        }
      },
      "source": [
        "data.Rings.value_counts()"
      ],
      "execution_count": null,
      "outputs": [
        {
          "output_type": "execute_result",
          "data": {
            "text/plain": [
              "9     689\n",
              "10    634\n",
              "8     568\n",
              "11    487\n",
              "7     391\n",
              "12    267\n",
              "6     259\n",
              "13    203\n",
              "14    126\n",
              "5     115\n",
              "15    103\n",
              "16     67\n",
              "17     58\n",
              "4      57\n",
              "18     42\n",
              "19     32\n",
              "20     26\n",
              "3      15\n",
              "21     14\n",
              "23      9\n",
              "22      6\n",
              "24      2\n",
              "27      2\n",
              "1       1\n",
              "25      1\n",
              "2       1\n",
              "26      1\n",
              "29      1\n",
              "Name: Rings, dtype: int64"
            ]
          },
          "metadata": {
            "tags": []
          },
          "execution_count": 79
        }
      ]
    },
    {
      "cell_type": "markdown",
      "metadata": {
        "id": "tjATAnoX8zi_"
      },
      "source": [
        "### Simplificación del problema de predicción\n",
        "Se pide extraer un subconjunto de datos, de manera que el nuevo dataset esté conformado por las 11 categorías con mayor cantidad de muestras (a.k.a. filas o samples). "
      ]
    },
    {
      "cell_type": "markdown",
      "metadata": {
        "id": "cE6pKXZDVx-Q"
      },
      "source": [
        "Hint: Primera hoja de [este documento](https://pandas.pydata.org/Pandas_Cheat_Sheet.pdf)."
      ]
    },
    {
      "cell_type": "code",
      "metadata": {
        "id": "2baZUTHR9zUZ",
        "outputId": "a0fac70e-4fd8-4581-e4b0-0c2ed72df42e",
        "colab": {
          "base_uri": "https://localhost:8080/",
          "height": 218
        }
      },
      "source": [
        "## TO DO ##\n",
        "#sub_data = ...\n",
        "#...\n",
        "###########\n",
        "\n",
        "sub_data.Rings.value_counts()"
      ],
      "execution_count": null,
      "outputs": [
        {
          "output_type": "execute_result",
          "data": {
            "text/plain": [
              "9     689\n",
              "10    634\n",
              "8     568\n",
              "11    487\n",
              "7     391\n",
              "12    267\n",
              "6     259\n",
              "13    203\n",
              "14    126\n",
              "5     115\n",
              "15    103\n",
              "Name: Rings, dtype: int64"
            ]
          },
          "metadata": {
            "tags": []
          },
          "execution_count": 80
        }
      ]
    },
    {
      "cell_type": "code",
      "metadata": {
        "id": "ooXLsHOT_lTK"
      },
      "source": [
        "assert (sub_data.shape[0]==3842),'La cantidad de filas es incorrecta'\n",
        "assert (sub_data.shape[1]==9),'La cantidad de columnas es incorrecta'"
      ],
      "execution_count": null,
      "outputs": []
    },
    {
      "cell_type": "markdown",
      "metadata": {
        "id": "DGbgkR34fOuU"
      },
      "source": [
        "### Separación del dataset en conjuntos de entrenamiento (train) y prueba (test)\n",
        "La proporción del dataset que debe estar en el subconjunto de prueba debe ser de la **cuarta parte** del total."
      ]
    },
    {
      "cell_type": "code",
      "metadata": {
        "id": "ECJv9IQDrIFO"
      },
      "source": [
        "X_all = ... #dropeamos la columna con la variable a predecir\n",
        "y_all = ... #nos quedamos únicamente con la columna con la variable a predecir"
      ],
      "execution_count": null,
      "outputs": []
    },
    {
      "cell_type": "code",
      "metadata": {
        "id": "pPYOrtSarIFQ"
      },
      "source": [
        "from sklearn.model_selection import train_test_split\n",
        "\n",
        "num_test = ...\n",
        "X_train, X_test, y_train, y_test = ..."
      ],
      "execution_count": null,
      "outputs": []
    },
    {
      "cell_type": "code",
      "metadata": {
        "id": "yZQRyMxOlR_w",
        "outputId": "37de25f8-d458-488e-b844-6b0b5aa2caeb",
        "colab": {
          "base_uri": "https://localhost:8080/",
          "height": 34
        }
      },
      "source": [
        "X_train.shape"
      ],
      "execution_count": null,
      "outputs": [
        {
          "output_type": "execute_result",
          "data": {
            "text/plain": [
              "(2881, 8)"
            ]
          },
          "metadata": {
            "tags": []
          },
          "execution_count": 84
        }
      ]
    },
    {
      "cell_type": "code",
      "metadata": {
        "id": "VGTCH6tIlUfE"
      },
      "source": [
        "assert (X_train.shape[0]==2881),'La cantidad de datos es incorrecta'\n",
        "assert (X_train.shape[1]==8),'La cantidad de características es incorrecta'"
      ],
      "execution_count": null,
      "outputs": []
    },
    {
      "cell_type": "markdown",
      "metadata": {
        "id": "Vr3DnPP3nvON"
      },
      "source": [
        "## 2) Árbol de Clasificación"
      ]
    },
    {
      "cell_type": "code",
      "metadata": {
        "id": "lNwTEBj8n2rk",
        "cellView": "form"
      },
      "source": [
        "#@title Función para mostrar el árbol de decisión\n",
        "# No es necesario que modifique esta función!\n",
        "def draw_tree(tree, df):\n",
        "    import graphviz\n",
        "    from sklearn.tree import export_graphviz\n",
        "    s = export_graphviz(tree, out_file=None, feature_names=df.columns, filled=True)\n",
        "    return graphviz.Source(s)"
      ],
      "execution_count": null,
      "outputs": []
    },
    {
      "cell_type": "code",
      "metadata": {
        "id": "nqoUra9sn-MF",
        "outputId": "040d3cab-6f1d-4ff2-8ba3-f5a78ab3e03b",
        "colab": {
          "base_uri": "https://localhost:8080/",
          "height": 118
        }
      },
      "source": [
        "from sklearn.tree import DecisionTreeClassifier\n",
        "# Entrenamos un arbol con poca profundidad, para visualizarlo cómodamente:\n",
        "# Entrenar un DecisionTreeClassifier() con profundidad máxima de 3 y con los demás parámetros por defecto (solo debe ingresar el argumento `max_dept`)\n",
        "m = ...\n",
        "m.fit(X_train, y_train)"
      ],
      "execution_count": null,
      "outputs": [
        {
          "output_type": "execute_result",
          "data": {
            "text/plain": [
              "DecisionTreeClassifier(ccp_alpha=0.0, class_weight=None, criterion='gini',\n",
              "                       max_depth=3, max_features=None, max_leaf_nodes=None,\n",
              "                       min_impurity_decrease=0.0, min_impurity_split=None,\n",
              "                       min_samples_leaf=1, min_samples_split=2,\n",
              "                       min_weight_fraction_leaf=0.0, presort='deprecated',\n",
              "                       random_state=None, splitter='best')"
            ]
          },
          "metadata": {
            "tags": []
          },
          "execution_count": 111
        }
      ]
    },
    {
      "cell_type": "code",
      "metadata": {
        "id": "XIw3Ff7R-zeX"
      },
      "source": [
        "indicePrueba = 27 \n",
        "muestraPrueba = X_test.iloc[indicePrueba]\n",
        "targetPrueba  = y_test.iloc[indicePrueba]"
      ],
      "execution_count": null,
      "outputs": []
    },
    {
      "cell_type": "code",
      "metadata": {
        "id": "WnGpZvNBBEfQ",
        "outputId": "2887d878-ccd6-48dc-af53-4f48359acd3b",
        "colab": {
          "base_uri": "https://localhost:8080/",
          "height": 168
        }
      },
      "source": [
        "muestraPrueba"
      ],
      "execution_count": null,
      "outputs": [
        {
          "output_type": "execute_result",
          "data": {
            "text/plain": [
              "Sex               0.0000\n",
              "Length            0.6450\n",
              "Diameter          0.5000\n",
              "Height            0.2000\n",
              "Whole weight      1.4285\n",
              "Shucked weight    0.6390\n",
              "Viscera weight    0.3050\n",
              "Shell weight      0.3600\n",
              "Name: 2253, dtype: float64"
            ]
          },
          "metadata": {
            "tags": []
          },
          "execution_count": 158
        }
      ]
    },
    {
      "cell_type": "code",
      "metadata": {
        "id": "j6cfgjdQ_EzW",
        "outputId": "8a2b3138-6012-4251-c79e-a0b9e7970890",
        "colab": {
          "base_uri": "https://localhost:8080/",
          "height": 34
        }
      },
      "source": [
        "#comparamos la predicción con el target que debería resultar\n",
        "m.predict(muestraPrueba.values.reshape(1, -1)), targetPrueba \n",
        "#como el modelo no es 100% perfecto, a veces no coinciden estos valores. Por ejm, probar con indicePrueba = 23"
      ],
      "execution_count": null,
      "outputs": [
        {
          "output_type": "execute_result",
          "data": {
            "text/plain": [
              "(array([11]), 11)"
            ]
          },
          "metadata": {
            "tags": []
          },
          "execution_count": 159
        }
      ]
    },
    {
      "cell_type": "code",
      "metadata": {
        "id": "VTc5OsXioxHB",
        "outputId": "b7cc8019-c73f-4d74-a200-c4cce0368e4a",
        "colab": {
          "base_uri": "https://localhost:8080/",
          "height": 34
        }
      },
      "source": [
        "m.score(X_train, y_train)"
      ],
      "execution_count": null,
      "outputs": [
        {
          "output_type": "execute_result",
          "data": {
            "text/plain": [
              "0.30336688649774385"
            ]
          },
          "metadata": {
            "tags": []
          },
          "execution_count": 115
        }
      ]
    },
    {
      "cell_type": "code",
      "metadata": {
        "id": "ltNNpBcNot7P",
        "outputId": "cec7ffeb-20ca-40dd-87b3-80b20907f25b",
        "colab": {
          "base_uri": "https://localhost:8080/",
          "height": 34
        }
      },
      "source": [
        "m.score(X_test, y_test)"
      ],
      "execution_count": null,
      "outputs": [
        {
          "output_type": "execute_result",
          "data": {
            "text/plain": [
              "0.25078043704474506"
            ]
          },
          "metadata": {
            "tags": []
          },
          "execution_count": 116
        }
      ]
    },
    {
      "cell_type": "code",
      "metadata": {
        "id": "EEikrvGGDG_X"
      },
      "source": [
        "X_train_np = X_train.values\n",
        "X_test_np  = X_test.values\n",
        "y_train_np = y_train.values\n",
        "y_test_np = y_test.values"
      ],
      "execution_count": null,
      "outputs": []
    },
    {
      "cell_type": "code",
      "metadata": {
        "id": "5twudLzBC1gT",
        "cellView": "form",
        "outputId": "e1c41735-af7d-46b1-fe74-9d2cdb5ccca5",
        "colab": {
          "base_uri": "https://localhost:8080/",
          "height": 302
        }
      },
      "source": [
        "#@title Interpretación de la estructura interna del árbol\n",
        "estimator = m\n",
        "\n",
        "# Adaptado de: https://scikit-learn.org/stable/auto_examples/tree/plot_unveil_tree_structure.html\n",
        "\n",
        "# The decision estimator has an attribute called tree_  which stores the entire\n",
        "# tree structure and allows access to low level attributes. The binary tree\n",
        "# tree_ is represented as a number of parallel arrays. The i-th element of each\n",
        "# array holds information about the node `i`. Node 0 is the tree's root. NOTE:\n",
        "# Some of the arrays only apply to either leaves or split nodes, resp. In this\n",
        "# case the values of nodes of the other type are arbitrary!\n",
        "#\n",
        "# Among those arrays, we have:\n",
        "#   - left_child, id of the left child of the node\n",
        "#   - right_child, id of the right child of the node\n",
        "#   - feature, feature used for splitting the node\n",
        "#   - threshold, threshold value at the node\n",
        "#\n",
        "\n",
        "# Using those arrays, we can parse the tree structure:\n",
        "\n",
        "n_nodes = estimator.tree_.node_count\n",
        "children_left = estimator.tree_.children_left\n",
        "children_right = estimator.tree_.children_right\n",
        "feature = estimator.tree_.feature\n",
        "threshold = estimator.tree_.threshold\n",
        "\n",
        "\n",
        "# The tree structure can be traversed to compute various properties such\n",
        "# as the depth of each node and whether or not it is a leaf.\n",
        "node_depth = np.zeros(shape=n_nodes, dtype=np.int64)\n",
        "is_leaves = np.zeros(shape=n_nodes, dtype=bool)\n",
        "stack = [(0, -1)]  # seed is the root node id and its parent depth\n",
        "while len(stack) > 0:\n",
        "    node_id, parent_depth = stack.pop()\n",
        "    node_depth[node_id] = parent_depth + 1\n",
        "\n",
        "    # If we have a test node\n",
        "    if (children_left[node_id] != children_right[node_id]):\n",
        "        stack.append((children_left[node_id], parent_depth + 1))\n",
        "        stack.append((children_right[node_id], parent_depth + 1))\n",
        "    else:\n",
        "        is_leaves[node_id] = True\n",
        "\n",
        "print(\"The binary tree structure has %s nodes and has \"\n",
        "      \"the following tree structure:\"\n",
        "      % n_nodes)\n",
        "for i in range(n_nodes):\n",
        "    if is_leaves[i]:\n",
        "        print(\"%snode=%s leaf node.\" % (node_depth[i] * \"\\t\", i))\n",
        "    else:\n",
        "        print(\"%snode=%s test node: go to node %s if X[:, %s] (%s) <= %s else to \"\n",
        "              \"node %s.\"\n",
        "              % (node_depth[i] * \"\\t\",\n",
        "                 i,\n",
        "                 children_left[i],\n",
        "                 feature[i],\n",
        "                 X_train.columns[feature[i]],\n",
        "                 threshold[i],\n",
        "                 children_right[i],\n",
        "                 ))\n",
        "print()"
      ],
      "execution_count": null,
      "outputs": [
        {
          "output_type": "stream",
          "text": [
            "The binary tree structure has 15 nodes and has the following tree structure:\n",
            "node=0 test node: go to node 1 if X[:, 7] (Shell weight) <= 0.1444999948143959 else to node 8.\n",
            "\tnode=1 test node: go to node 2 if X[:, 2] (Diameter) <= 0.2224999964237213 else to node 5.\n",
            "\t\tnode=2 test node: go to node 3 if X[:, 2] (Diameter) <= 0.19249999523162842 else to node 4.\n",
            "\t\t\tnode=3 leaf node.\n",
            "\t\t\tnode=4 leaf node.\n",
            "\t\tnode=5 test node: go to node 6 if X[:, 7] (Shell weight) <= 0.11475000157952309 else to node 7.\n",
            "\t\t\tnode=6 leaf node.\n",
            "\t\t\tnode=7 leaf node.\n",
            "\tnode=8 test node: go to node 9 if X[:, 7] (Shell weight) <= 0.25175000727176666 else to node 12.\n",
            "\t\tnode=9 test node: go to node 10 if X[:, 5] (Shucked weight) <= 0.377250000834465 else to node 11.\n",
            "\t\t\tnode=10 leaf node.\n",
            "\t\t\tnode=11 leaf node.\n",
            "\t\tnode=12 test node: go to node 13 if X[:, 7] (Shell weight) <= 0.35975000262260437 else to node 14.\n",
            "\t\t\tnode=13 leaf node.\n",
            "\t\t\tnode=14 leaf node.\n",
            "\n"
          ],
          "name": "stdout"
        }
      ]
    },
    {
      "cell_type": "code",
      "metadata": {
        "id": "_onFJCS_M_U7",
        "outputId": "3e274ea9-e688-4591-88ac-e42bd8e21b13",
        "colab": {
          "base_uri": "https://localhost:8080/",
          "height": 218
        }
      },
      "source": [
        "y_train.value_counts().sort_index()"
      ],
      "execution_count": null,
      "outputs": [
        {
          "output_type": "execute_result",
          "data": {
            "text/plain": [
              "5      85\n",
              "6     191\n",
              "7     302\n",
              "8     444\n",
              "9     505\n",
              "10    477\n",
              "11    337\n",
              "12    209\n",
              "13    150\n",
              "14    102\n",
              "15     79\n",
              "Name: Rings, dtype: int64"
            ]
          },
          "metadata": {
            "tags": []
          },
          "execution_count": 149
        }
      ]
    },
    {
      "cell_type": "code",
      "metadata": {
        "id": "oTG5Ihbco0D0",
        "outputId": "cf6ec0f1-2fe8-45d3-c4bc-504a3e0e8a13",
        "colab": {
          "base_uri": "https://localhost:8080/",
          "height": 558
        }
      },
      "source": [
        "draw_tree(m, X_test) #hover leaf to see node number"
      ],
      "execution_count": null,
      "outputs": [
        {
          "output_type": "execute_result",
          "data": {
            "text/plain": [
              "<graphviz.files.Source at 0x7f8c446af6a0>"
            ],
            "image/svg+xml": "<?xml version=\"1.0\" encoding=\"UTF-8\" standalone=\"no\"?>\n<!DOCTYPE svg PUBLIC \"-//W3C//DTD SVG 1.1//EN\"\n \"http://www.w3.org/Graphics/SVG/1.1/DTD/svg11.dtd\">\n<!-- Generated by graphviz version 2.40.1 (20161225.0304)\n -->\n<!-- Title: Tree Pages: 1 -->\n<svg width=\"2383pt\" height=\"388pt\"\n viewBox=\"0.00 0.00 2383.00 388.00\" xmlns=\"http://www.w3.org/2000/svg\" xmlns:xlink=\"http://www.w3.org/1999/xlink\">\n<g id=\"graph0\" class=\"graph\" transform=\"scale(1 1) rotate(0) translate(4 384)\">\n<title>Tree</title>\n<polygon fill=\"#ffffff\" stroke=\"transparent\" points=\"-4,4 -4,-384 2379,-384 2379,4 -4,4\"/>\n<!-- 0 -->\n<g id=\"node1\" class=\"node\">\n<title>0</title>\n<polygon fill=\"#fdfffe\" stroke=\"#000000\" points=\"1292.5,-380 939.5,-380 939.5,-297 1292.5,-297 1292.5,-380\"/>\n<text text-anchor=\"middle\" x=\"1116\" y=\"-364.8\" font-family=\"Times,serif\" font-size=\"14.00\" fill=\"#000000\">Shell weight &lt;= 0.144</text>\n<text text-anchor=\"middle\" x=\"1116\" y=\"-349.8\" font-family=\"Times,serif\" font-size=\"14.00\" fill=\"#000000\">gini = 0.878</text>\n<text text-anchor=\"middle\" x=\"1116\" y=\"-334.8\" font-family=\"Times,serif\" font-size=\"14.00\" fill=\"#000000\">samples = 2881</text>\n<text text-anchor=\"middle\" x=\"1116\" y=\"-319.8\" font-family=\"Times,serif\" font-size=\"14.00\" fill=\"#000000\">value = [85, 191, 302, 444, 505, 477, 337, 209, 150, 102</text>\n<text text-anchor=\"middle\" x=\"1116\" y=\"-304.8\" font-family=\"Times,serif\" font-size=\"14.00\" fill=\"#000000\">79]</text>\n</g>\n<!-- 1 -->\n<g id=\"node2\" class=\"node\">\n<title>1</title>\n<polygon fill=\"#f4fcec\" stroke=\"#000000\" points=\"976,-261 656,-261 656,-193 976,-193 976,-261\"/>\n<text text-anchor=\"middle\" x=\"816\" y=\"-245.8\" font-family=\"Times,serif\" font-size=\"14.00\" fill=\"#000000\">Diameter &lt;= 0.222</text>\n<text text-anchor=\"middle\" x=\"816\" y=\"-230.8\" font-family=\"Times,serif\" font-size=\"14.00\" fill=\"#000000\">gini = 0.81</text>\n<text text-anchor=\"middle\" x=\"816\" y=\"-215.8\" font-family=\"Times,serif\" font-size=\"14.00\" fill=\"#000000\">samples = 824</text>\n<text text-anchor=\"middle\" x=\"816\" y=\"-200.8\" font-family=\"Times,serif\" font-size=\"14.00\" fill=\"#000000\">value = [85, 180, 243, 150, 74, 42, 21, 13, 10, 3, 3]</text>\n</g>\n<!-- 0&#45;&gt;1 -->\n<g id=\"edge1\" class=\"edge\">\n<title>0&#45;&gt;1</title>\n<path fill=\"none\" stroke=\"#000000\" d=\"M1004.2911,-296.9815C975.7039,-286.3566 945.1282,-274.9926 917.1081,-264.5785\"/>\n<polygon fill=\"#000000\" stroke=\"#000000\" points=\"918.3031,-261.2888 907.7102,-261.0856 915.8644,-267.8503 918.3031,-261.2888\"/>\n<text text-anchor=\"middle\" x=\"918.1218\" y=\"-280.1144\" font-family=\"Times,serif\" font-size=\"14.00\" fill=\"#000000\">True</text>\n</g>\n<!-- 8 -->\n<g id=\"node9\" class=\"node\">\n<title>8</title>\n<polygon fill=\"#ffffff\" stroke=\"#000000\" points=\"1596.5,-261 1247.5,-261 1247.5,-193 1596.5,-193 1596.5,-261\"/>\n<text text-anchor=\"middle\" x=\"1422\" y=\"-245.8\" font-family=\"Times,serif\" font-size=\"14.00\" fill=\"#000000\">Shell weight &lt;= 0.252</text>\n<text text-anchor=\"middle\" x=\"1422\" y=\"-230.8\" font-family=\"Times,serif\" font-size=\"14.00\" fill=\"#000000\">gini = 0.849</text>\n<text text-anchor=\"middle\" x=\"1422\" y=\"-215.8\" font-family=\"Times,serif\" font-size=\"14.00\" fill=\"#000000\">samples = 2057</text>\n<text text-anchor=\"middle\" x=\"1422\" y=\"-200.8\" font-family=\"Times,serif\" font-size=\"14.00\" fill=\"#000000\">value = [0, 11, 59, 294, 431, 435, 316, 196, 140, 99, 76]</text>\n</g>\n<!-- 0&#45;&gt;8 -->\n<g id=\"edge8\" class=\"edge\">\n<title>0&#45;&gt;8</title>\n<path fill=\"none\" stroke=\"#000000\" d=\"M1229.9431,-296.9815C1259.102,-286.3566 1290.2892,-274.9926 1318.8697,-264.5785\"/>\n<polygon fill=\"#000000\" stroke=\"#000000\" points=\"1320.2582,-267.7978 1328.4556,-261.0856 1317.8616,-261.2208 1320.2582,-267.7978\"/>\n<text text-anchor=\"middle\" x=\"1317.8983\" y=\"-280.0471\" font-family=\"Times,serif\" font-size=\"14.00\" fill=\"#000000\">False</text>\n</g>\n<!-- 2 -->\n<g id=\"node3\" class=\"node\">\n<title>2</title>\n<polygon fill=\"#f6d3ba\" stroke=\"#000000\" points=\"514,-157 262,-157 262,-89 514,-89 514,-157\"/>\n<text text-anchor=\"middle\" x=\"388\" y=\"-141.8\" font-family=\"Times,serif\" font-size=\"14.00\" fill=\"#000000\">Diameter &lt;= 0.192</text>\n<text text-anchor=\"middle\" x=\"388\" y=\"-126.8\" font-family=\"Times,serif\" font-size=\"14.00\" fill=\"#000000\">gini = 0.603</text>\n<text text-anchor=\"middle\" x=\"388\" y=\"-111.8\" font-family=\"Times,serif\" font-size=\"14.00\" fill=\"#000000\">samples = 113</text>\n<text text-anchor=\"middle\" x=\"388\" y=\"-96.8\" font-family=\"Times,serif\" font-size=\"14.00\" fill=\"#000000\">value = [61, 33, 16, 3, 0, 0, 0, 0, 0, 0, 0]</text>\n</g>\n<!-- 1&#45;&gt;2 -->\n<g id=\"edge2\" class=\"edge\">\n<title>1&#45;&gt;2</title>\n<path fill=\"none\" stroke=\"#000000\" d=\"M675.8568,-192.9465C627.0474,-181.0863 572.3954,-167.8064 523.9331,-156.0305\"/>\n<polygon fill=\"#000000\" stroke=\"#000000\" points=\"524.5527,-152.5792 514.009,-153.619 522.8998,-159.3813 524.5527,-152.5792\"/>\n</g>\n<!-- 5 -->\n<g id=\"node6\" class=\"node\">\n<title>5</title>\n<polygon fill=\"#effbe3\" stroke=\"#000000\" points=\"976,-157 656,-157 656,-89 976,-89 976,-157\"/>\n<text text-anchor=\"middle\" x=\"816\" y=\"-141.8\" font-family=\"Times,serif\" font-size=\"14.00\" fill=\"#000000\">Shell weight &lt;= 0.115</text>\n<text text-anchor=\"middle\" x=\"816\" y=\"-126.8\" font-family=\"Times,serif\" font-size=\"14.00\" fill=\"#000000\">gini = 0.796</text>\n<text text-anchor=\"middle\" x=\"816\" y=\"-111.8\" font-family=\"Times,serif\" font-size=\"14.00\" fill=\"#000000\">samples = 711</text>\n<text text-anchor=\"middle\" x=\"816\" y=\"-96.8\" font-family=\"Times,serif\" font-size=\"14.00\" fill=\"#000000\">value = [24, 147, 227, 147, 74, 42, 21, 13, 10, 3, 3]</text>\n</g>\n<!-- 1&#45;&gt;5 -->\n<g id=\"edge5\" class=\"edge\">\n<title>1&#45;&gt;5</title>\n<path fill=\"none\" stroke=\"#000000\" d=\"M816,-192.9465C816,-184.776 816,-175.9318 816,-167.3697\"/>\n<polygon fill=\"#000000\" stroke=\"#000000\" points=\"819.5001,-167.13 816,-157.13 812.5001,-167.13 819.5001,-167.13\"/>\n</g>\n<!-- 3 -->\n<g id=\"node4\" class=\"node\">\n<title>3</title>\n<polygon fill=\"#eeae80\" stroke=\"#000000\" points=\"244,-53 0,-53 0,0 244,0 244,-53\"/>\n<text text-anchor=\"middle\" x=\"122\" y=\"-37.8\" font-family=\"Times,serif\" font-size=\"14.00\" fill=\"#000000\">gini = 0.42</text>\n<text text-anchor=\"middle\" x=\"122\" y=\"-22.8\" font-family=\"Times,serif\" font-size=\"14.00\" fill=\"#000000\">samples = 47</text>\n<text text-anchor=\"middle\" x=\"122\" y=\"-7.8\" font-family=\"Times,serif\" font-size=\"14.00\" fill=\"#000000\">value = [34, 11, 2, 0, 0, 0, 0, 0, 0, 0, 0]</text>\n</g>\n<!-- 2&#45;&gt;3 -->\n<g id=\"edge3\" class=\"edge\">\n<title>2&#45;&gt;3</title>\n<path fill=\"none\" stroke=\"#000000\" d=\"M294.2184,-88.9777C265.0568,-78.3984 233.1328,-66.817 204.7784,-56.5305\"/>\n<polygon fill=\"#000000\" stroke=\"#000000\" points=\"205.9027,-53.2152 195.3086,-53.095 203.5154,-59.7956 205.9027,-53.2152\"/>\n</g>\n<!-- 4 -->\n<g id=\"node5\" class=\"node\">\n<title>4</title>\n<polygon fill=\"#fcf1e8\" stroke=\"#000000\" points=\"514,-53 262,-53 262,0 514,0 514,-53\"/>\n<text text-anchor=\"middle\" x=\"388\" y=\"-37.8\" font-family=\"Times,serif\" font-size=\"14.00\" fill=\"#000000\">gini = 0.674</text>\n<text text-anchor=\"middle\" x=\"388\" y=\"-22.8\" font-family=\"Times,serif\" font-size=\"14.00\" fill=\"#000000\">samples = 66</text>\n<text text-anchor=\"middle\" x=\"388\" y=\"-7.8\" font-family=\"Times,serif\" font-size=\"14.00\" fill=\"#000000\">value = [27, 22, 14, 3, 0, 0, 0, 0, 0, 0, 0]</text>\n</g>\n<!-- 2&#45;&gt;4 -->\n<g id=\"edge4\" class=\"edge\">\n<title>2&#45;&gt;4</title>\n<path fill=\"none\" stroke=\"#000000\" d=\"M388,-88.9777C388,-80.7364 388,-71.887 388,-63.5153\"/>\n<polygon fill=\"#000000\" stroke=\"#000000\" points=\"391.5001,-63.2484 388,-53.2485 384.5001,-63.2485 391.5001,-63.2484\"/>\n</g>\n<!-- 6 -->\n<g id=\"node7\" class=\"node\">\n<title>6</title>\n<polygon fill=\"#f1fce6\" stroke=\"#000000\" points=\"829.5,-53 532.5,-53 532.5,0 829.5,0 829.5,-53\"/>\n<text text-anchor=\"middle\" x=\"681\" y=\"-37.8\" font-family=\"Times,serif\" font-size=\"14.00\" fill=\"#000000\">gini = 0.771</text>\n<text text-anchor=\"middle\" x=\"681\" y=\"-22.8\" font-family=\"Times,serif\" font-size=\"14.00\" fill=\"#000000\">samples = 499</text>\n<text text-anchor=\"middle\" x=\"681\" y=\"-7.8\" font-family=\"Times,serif\" font-size=\"14.00\" fill=\"#000000\">value = [24, 130, 177, 75, 44, 24, 12, 6, 3, 2, 2]</text>\n</g>\n<!-- 5&#45;&gt;6 -->\n<g id=\"edge6\" class=\"edge\">\n<title>5&#45;&gt;6</title>\n<path fill=\"none\" stroke=\"#000000\" d=\"M768.4041,-88.9777C754.8252,-79.2713 740.0661,-68.7213 726.6088,-59.1018\"/>\n<polygon fill=\"#000000\" stroke=\"#000000\" points=\"728.5908,-56.2164 718.4202,-53.2485 724.5201,-61.9111 728.5908,-56.2164\"/>\n</g>\n<!-- 7 -->\n<g id=\"node8\" class=\"node\">\n<title>7</title>\n<polygon fill=\"#e4fbe5\" stroke=\"#000000\" points=\"1114.5,-53 847.5,-53 847.5,0 1114.5,0 1114.5,-53\"/>\n<text text-anchor=\"middle\" x=\"981\" y=\"-37.8\" font-family=\"Times,serif\" font-size=\"14.00\" fill=\"#000000\">gini = 0.791</text>\n<text text-anchor=\"middle\" x=\"981\" y=\"-22.8\" font-family=\"Times,serif\" font-size=\"14.00\" fill=\"#000000\">samples = 212</text>\n<text text-anchor=\"middle\" x=\"981\" y=\"-7.8\" font-family=\"Times,serif\" font-size=\"14.00\" fill=\"#000000\">value = [0, 17, 50, 72, 30, 18, 9, 7, 7, 1, 1]</text>\n</g>\n<!-- 5&#45;&gt;7 -->\n<g id=\"edge7\" class=\"edge\">\n<title>5&#45;&gt;7</title>\n<path fill=\"none\" stroke=\"#000000\" d=\"M874.1728,-88.9777C891.318,-78.9504 910.0025,-68.0228 926.882,-58.1508\"/>\n<polygon fill=\"#000000\" stroke=\"#000000\" points=\"928.6615,-61.1648 935.5266,-53.095 925.1276,-55.1223 928.6615,-61.1648\"/>\n</g>\n<!-- 9 -->\n<g id=\"node10\" class=\"node\">\n<title>9</title>\n<polygon fill=\"#fdfffd\" stroke=\"#000000\" points=\"1582,-157 1262,-157 1262,-89 1582,-89 1582,-157\"/>\n<text text-anchor=\"middle\" x=\"1422\" y=\"-141.8\" font-family=\"Times,serif\" font-size=\"14.00\" fill=\"#000000\">Shucked weight &lt;= 0.377</text>\n<text text-anchor=\"middle\" x=\"1422\" y=\"-126.8\" font-family=\"Times,serif\" font-size=\"14.00\" fill=\"#000000\">gini = 0.82</text>\n<text text-anchor=\"middle\" x=\"1422\" y=\"-111.8\" font-family=\"Times,serif\" font-size=\"14.00\" fill=\"#000000\">samples = 841</text>\n<text text-anchor=\"middle\" x=\"1422\" y=\"-96.8\" font-family=\"Times,serif\" font-size=\"14.00\" fill=\"#000000\">value = [0, 8, 49, 223, 218, 129, 75, 58, 33, 29, 19]</text>\n</g>\n<!-- 8&#45;&gt;9 -->\n<g id=\"edge9\" class=\"edge\">\n<title>8&#45;&gt;9</title>\n<path fill=\"none\" stroke=\"#000000\" d=\"M1422,-192.9465C1422,-184.776 1422,-175.9318 1422,-167.3697\"/>\n<polygon fill=\"#000000\" stroke=\"#000000\" points=\"1425.5001,-167.13 1422,-157.13 1418.5001,-167.13 1425.5001,-167.13\"/>\n</g>\n<!-- 12 -->\n<g id=\"node13\" class=\"node\">\n<title>12</title>\n<polygon fill=\"#f2fcfd\" stroke=\"#000000\" points=\"2064.5,-157 1729.5,-157 1729.5,-89 2064.5,-89 2064.5,-157\"/>\n<text text-anchor=\"middle\" x=\"1897\" y=\"-141.8\" font-family=\"Times,serif\" font-size=\"14.00\" fill=\"#000000\">Shell weight &lt;= 0.36</text>\n<text text-anchor=\"middle\" x=\"1897\" y=\"-126.8\" font-family=\"Times,serif\" font-size=\"14.00\" fill=\"#000000\">gini = 0.837</text>\n<text text-anchor=\"middle\" x=\"1897\" y=\"-111.8\" font-family=\"Times,serif\" font-size=\"14.00\" fill=\"#000000\">samples = 1216</text>\n<text text-anchor=\"middle\" x=\"1897\" y=\"-96.8\" font-family=\"Times,serif\" font-size=\"14.00\" fill=\"#000000\">value = [0, 3, 10, 71, 213, 306, 241, 138, 107, 70, 57]</text>\n</g>\n<!-- 8&#45;&gt;12 -->\n<g id=\"edge12\" class=\"edge\">\n<title>8&#45;&gt;12</title>\n<path fill=\"none\" stroke=\"#000000\" d=\"M1577.5328,-192.9465C1626.8689,-182.1445 1681.5837,-170.1648 1731.5886,-159.2164\"/>\n<polygon fill=\"#000000\" stroke=\"#000000\" points=\"1732.5038,-162.599 1741.5237,-157.0411 1731.0065,-155.761 1732.5038,-162.599\"/>\n</g>\n<!-- 10 -->\n<g id=\"node11\" class=\"node\">\n<title>10</title>\n<polygon fill=\"#fafefa\" stroke=\"#000000\" points=\"1453,-53 1133,-53 1133,0 1453,0 1453,-53\"/>\n<text text-anchor=\"middle\" x=\"1293\" y=\"-37.8\" font-family=\"Times,serif\" font-size=\"14.00\" fill=\"#000000\">gini = 0.838</text>\n<text text-anchor=\"middle\" x=\"1293\" y=\"-22.8\" font-family=\"Times,serif\" font-size=\"14.00\" fill=\"#000000\">samples = 669</text>\n<text text-anchor=\"middle\" x=\"1293\" y=\"-7.8\" font-family=\"Times,serif\" font-size=\"14.00\" fill=\"#000000\">value = [0, 8, 41, 166, 152, 102, 66, 55, 33, 28, 18]</text>\n</g>\n<!-- 9&#45;&gt;10 -->\n<g id=\"edge10\" class=\"edge\">\n<title>9&#45;&gt;10</title>\n<path fill=\"none\" stroke=\"#000000\" d=\"M1376.5194,-88.9777C1363.6665,-79.3629 1349.7069,-68.9203 1336.946,-59.3743\"/>\n<polygon fill=\"#000000\" stroke=\"#000000\" points=\"1338.861,-56.436 1328.757,-53.2485 1334.668,-62.0412 1338.861,-56.436\"/>\n</g>\n<!-- 11 -->\n<g id=\"node12\" class=\"node\">\n<title>11</title>\n<polygon fill=\"#f0fdf7\" stroke=\"#000000\" points=\"1723,-53 1471,-53 1471,0 1723,0 1723,-53\"/>\n<text text-anchor=\"middle\" x=\"1597\" y=\"-37.8\" font-family=\"Times,serif\" font-size=\"14.00\" fill=\"#000000\">gini = 0.713</text>\n<text text-anchor=\"middle\" x=\"1597\" y=\"-22.8\" font-family=\"Times,serif\" font-size=\"14.00\" fill=\"#000000\">samples = 172</text>\n<text text-anchor=\"middle\" x=\"1597\" y=\"-7.8\" font-family=\"Times,serif\" font-size=\"14.00\" fill=\"#000000\">value = [0, 0, 8, 57, 66, 27, 9, 3, 0, 1, 1]</text>\n</g>\n<!-- 9&#45;&gt;11 -->\n<g id=\"edge11\" class=\"edge\">\n<title>9&#45;&gt;11</title>\n<path fill=\"none\" stroke=\"#000000\" d=\"M1483.6985,-88.9777C1501.8827,-78.9504 1521.6997,-68.0228 1539.6021,-58.1508\"/>\n<polygon fill=\"#000000\" stroke=\"#000000\" points=\"1541.7039,-60.9888 1548.7707,-53.095 1538.3237,-54.859 1541.7039,-60.9888\"/>\n</g>\n<!-- 13 -->\n<g id=\"node14\" class=\"node\">\n<title>13</title>\n<polygon fill=\"#f4fcfe\" stroke=\"#000000\" points=\"2052.5,-53 1741.5,-53 1741.5,0 2052.5,0 2052.5,-53\"/>\n<text text-anchor=\"middle\" x=\"1897\" y=\"-37.8\" font-family=\"Times,serif\" font-size=\"14.00\" fill=\"#000000\">gini = 0.824</text>\n<text text-anchor=\"middle\" x=\"1897\" y=\"-22.8\" font-family=\"Times,serif\" font-size=\"14.00\" fill=\"#000000\">samples = 750</text>\n<text text-anchor=\"middle\" x=\"1897\" y=\"-7.8\" font-family=\"Times,serif\" font-size=\"14.00\" fill=\"#000000\">value = [0, 3, 9, 60, 174, 206, 115, 65, 56, 32, 30]</text>\n</g>\n<!-- 12&#45;&gt;13 -->\n<g id=\"edge13\" class=\"edge\">\n<title>12&#45;&gt;13</title>\n<path fill=\"none\" stroke=\"#000000\" d=\"M1897,-88.9777C1897,-80.7364 1897,-71.887 1897,-63.5153\"/>\n<polygon fill=\"#000000\" stroke=\"#000000\" points=\"1900.5001,-63.2484 1897,-53.2485 1893.5001,-63.2485 1900.5001,-63.2484\"/>\n</g>\n<!-- 14 -->\n<g id=\"node15\" class=\"node\">\n<title>14</title>\n<polygon fill=\"#f1f5fd\" stroke=\"#000000\" points=\"2375,-53 2071,-53 2071,0 2375,0 2375,-53\"/>\n<text text-anchor=\"middle\" x=\"2223\" y=\"-37.8\" font-family=\"Times,serif\" font-size=\"14.00\" fill=\"#000000\">gini = 0.827</text>\n<text text-anchor=\"middle\" x=\"2223\" y=\"-22.8\" font-family=\"Times,serif\" font-size=\"14.00\" fill=\"#000000\">samples = 466</text>\n<text text-anchor=\"middle\" x=\"2223\" y=\"-7.8\" font-family=\"Times,serif\" font-size=\"14.00\" fill=\"#000000\">value = [0, 0, 1, 11, 39, 100, 126, 73, 51, 38, 27]</text>\n</g>\n<!-- 12&#45;&gt;14 -->\n<g id=\"edge14\" class=\"edge\">\n<title>12&#45;&gt;14</title>\n<path fill=\"none\" stroke=\"#000000\" d=\"M2011.9354,-88.9777C2048.38,-78.1897 2088.3452,-66.3595 2123.602,-55.923\"/>\n<polygon fill=\"#000000\" stroke=\"#000000\" points=\"2124.8193,-59.2129 2133.4145,-53.0184 2122.8324,-52.5008 2124.8193,-59.2129\"/>\n</g>\n</g>\n</svg>\n"
          },
          "metadata": {
            "tags": []
          },
          "execution_count": 117
        }
      ]
    },
    {
      "cell_type": "code",
      "metadata": {
        "id": "5qyrhNCMK-zu",
        "outputId": "0b37e7c8-a4ac-449b-c32f-043d23a16a4c",
        "colab": {
          "base_uri": "https://localhost:8080/",
          "height": 67
        }
      },
      "source": [
        "X_all.columns"
      ],
      "execution_count": null,
      "outputs": [
        {
          "output_type": "execute_result",
          "data": {
            "text/plain": [
              "Index(['Sex', 'Length', 'Diameter', 'Height', 'Whole weight', 'Shucked weight',\n",
              "       'Viscera weight', 'Shell weight'],\n",
              "      dtype='object')"
            ]
          },
          "metadata": {
            "tags": []
          },
          "execution_count": 131
        }
      ]
    },
    {
      "cell_type": "code",
      "metadata": {
        "id": "jPQLNyliKebO",
        "outputId": "77d3edd8-59d9-4f5a-88f3-6064d9d23cf4",
        "colab": {
          "base_uri": "https://localhost:8080/",
          "height": 437
        }
      },
      "source": [
        "from sklearn.tree import export_text\n",
        "columnas = [col for col in X_all.columns]# observar en la fila anterior el objeto que recorna X_all.columns\n",
        "r = export_text(m, feature_names=columnas)\n",
        "\n",
        "print(r)\n",
        "\n",
        "print()\n",
        "\n",
        "print(\"Las columnas son:\", columnas)"
      ],
      "execution_count": null,
      "outputs": [
        {
          "output_type": "stream",
          "text": [
            "|--- Shell weight <= 0.14\n",
            "|   |--- Diameter <= 0.22\n",
            "|   |   |--- Diameter <= 0.19\n",
            "|   |   |   |--- class: 5\n",
            "|   |   |--- Diameter >  0.19\n",
            "|   |   |   |--- class: 5\n",
            "|   |--- Diameter >  0.22\n",
            "|   |   |--- Shell weight <= 0.11\n",
            "|   |   |   |--- class: 7\n",
            "|   |   |--- Shell weight >  0.11\n",
            "|   |   |   |--- class: 8\n",
            "|--- Shell weight >  0.14\n",
            "|   |--- Shell weight <= 0.25\n",
            "|   |   |--- Shucked weight <= 0.38\n",
            "|   |   |   |--- class: 8\n",
            "|   |   |--- Shucked weight >  0.38\n",
            "|   |   |   |--- class: 9\n",
            "|   |--- Shell weight >  0.25\n",
            "|   |   |--- Shell weight <= 0.36\n",
            "|   |   |   |--- class: 10\n",
            "|   |   |--- Shell weight >  0.36\n",
            "|   |   |   |--- class: 11\n",
            "\n",
            "\n",
            "Las columnas son: ['Sex', 'Length', 'Diameter', 'Height', 'Whole weight', 'Shucked weight', 'Viscera weight', 'Shell weight']\n"
          ],
          "name": "stdout"
        }
      ]
    },
    {
      "cell_type": "markdown",
      "metadata": {
        "id": "lFE_Ay4kOfYx"
      },
      "source": [
        "¿Cómo se calcula la predicción de una hoja de la fila inferior que contiene más de un valor de la variable target? Se considera que la salida es aquella categoría que tenga la mayor cantidad de elementos, porque es más probable que la muestra pertenezca a dicha categoría.\n",
        "\n",
        "Ver la ejecución de `y_train.value_counts().sort_index()`, junto con la estructura del árbol exportada en formato de texto (en la celda anterior a esta)."
      ]
    },
    {
      "cell_type": "markdown",
      "metadata": {
        "id": "vpMUL8HlPuxw"
      },
      "source": [
        "Veamos un ejemplo."
      ]
    },
    {
      "cell_type": "code",
      "metadata": {
        "id": "MYqcIBp3L8m8",
        "cellView": "form",
        "outputId": "b0d9e766-f45b-409d-9040-a86bc892d87c",
        "colab": {
          "base_uri": "https://localhost:8080/",
          "height": 118
        }
      },
      "source": [
        "#@title Hagamos una predicción para la muestra de índice `indicePrueba` { form-width: \"300px\" }\n",
        "\n",
        "sample_id = indicePrueba\n",
        "\n",
        "# Let's retrieve the decision path of each sample. The decision_path\n",
        "# method allows to retrieve the node indicator functions. A non zero element of\n",
        "# indicator matrix at the position (i, j) indicates that the sample i goes\n",
        "# through the node j.\n",
        "\n",
        "node_indicator = estimator.decision_path(X_test_np)\n",
        "\n",
        "# Similarly, we can also have the leaves ids reached by each sample.\n",
        "\n",
        "leave_id = estimator.apply(X_test_np)\n",
        "\n",
        "# Now, it's possible to get the tests that were used to predict a sample or\n",
        "# a group of samples. First, let's make it for the sample.\n",
        "\n",
        "\n",
        "node_index = node_indicator.indices[node_indicator.indptr[sample_id]:\n",
        "                                    node_indicator.indptr[sample_id + 1]]\n",
        "\n",
        "print('Rules used to predict sample %s: ' % sample_id)\n",
        "for node_id in node_index:\n",
        "    if leave_id[sample_id] == node_id:\n",
        "        continue\n",
        "\n",
        "    if (X_test_np[sample_id, feature[node_id]] <= threshold[node_id]):\n",
        "        threshold_sign = \"<=\"\n",
        "    else:\n",
        "        threshold_sign = \">\"\n",
        "\n",
        "    print(\"decision id node %s : (X_test_np[%s, %s] (= %s) %s %s)\"\n",
        "          % (node_id,\n",
        "             sample_id,\n",
        "             feature[node_id],\n",
        "             X_test_np[sample_id, feature[node_id]],\n",
        "             threshold_sign,\n",
        "             threshold[node_id]))\n",
        "    \n",
        "print()\n",
        "print(\"For the sample %s, the predicted class is %s.\" % (sample_id, targetPrueba))\n",
        "\n",
        "# For a group of samples, we have the following common node.\n",
        "#sample_ids = [0, 1]\n",
        "#common_nodes = (node_indicator.toarray()[sample_ids].sum(axis=0) == len(sample_ids))\n",
        "\n",
        "#common_node_id = np.arange(n_nodes)[common_nodes]\n",
        "\n",
        "#print(\"\\nThe following samples %s share the node %s in the tree\"       % (sample_ids, common_node_id))\n",
        "#print(\"It is %s %% of all nodes.\" % (100 * len(common_node_id) / n_nodes,))"
      ],
      "execution_count": null,
      "outputs": [
        {
          "output_type": "stream",
          "text": [
            "Rules used to predict sample 27: \n",
            "decision id node 0 : (X_test_np[27, 7] (= 0.36) > 0.1444999948143959)\n",
            "decision id node 8 : (X_test_np[27, 7] (= 0.36) > 0.25175000727176666)\n",
            "decision id node 12 : (X_test_np[27, 7] (= 0.36) > 0.35975000262260437)\n",
            "\n",
            "For the sample 27, the predicted class is 11.\n"
          ],
          "name": "stdout"
        }
      ]
    },
    {
      "cell_type": "markdown",
      "metadata": {
        "id": "_EtEvvVyQgYw"
      },
      "source": [
        "Verificamos que cumple con la gráfica a colores mostrada, y siguiendo las reglas del árbol exportado como texto."
      ]
    },
    {
      "cell_type": "markdown",
      "metadata": {
        "id": "lVtVjKYt8JUP"
      },
      "source": [
        "## 3) Comparando modelos de predicción"
      ]
    },
    {
      "cell_type": "markdown",
      "metadata": {
        "id": "GEWiH1_c8JUU"
      },
      "source": [
        "Evaluar el dataset usando crosvalidación para los siguientes algoritmos de clasificación: `LogisticRegression()`, `KNeighborsClassifier()`, `DecisionTreeClassifier()` y `SVC()`. Hacer una crossvalidación con 7 folds y `random_state=seed`. Usar [`f1_macro`](https://scikit-learn.org/stable/modules/generated/sklearn.metrics.f1_score.html) como [métrica de scoring](https://scikit-learn.org/stable/modules/model_evaluation.html#scoring-parameter).\n",
        "\n",
        "\n",
        "\n",
        "Debe mostrar un resultado como este (con la media y la desviación estándar de la precisión):\n",
        "\n",
        "```\n",
        "Regresión Logística: 0.987654 (0.123456)\n",
        "K vecinos más cercanos: 0.987654 (0.123456)\n",
        "Árbol: 0.987654 (0.123456)\n",
        "SVM: 0.987654 (0.123456)\n",
        "```\n",
        "Luego, realizar las siguientes tareas:\n",
        "\n",
        "1. Escoger el algoritmo que tenga el mejor score.\n",
        "2. Luego, ajustar un modelo basado en el algoritmo seleccionado.\n",
        "3. Después, evaluar dicho modelo entrenado en la data de test.\n",
        "4. Finalmente, mostrar la matriz de confusión indicando en cuál clase se erra más (es decir, para cuál de las clases el modelo entrenado predice la mayor cantidad de veces una clase incorrecta).\n"
      ]
    }
  ]
}