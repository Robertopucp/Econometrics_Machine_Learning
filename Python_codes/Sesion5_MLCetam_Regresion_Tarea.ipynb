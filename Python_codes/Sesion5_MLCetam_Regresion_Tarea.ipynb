{
  "nbformat": 4,
  "nbformat_minor": 0,
  "metadata": {
    "colab": {
      "name": "Sesion5_MLCetam_Regresion_Tarea",
      "provenance": [],
      "collapsed_sections": [],
      "toc_visible": true
    },
    "kernelspec": {
      "name": "python3",
      "display_name": "Python 3"
    }
  },
  "cells": [
    {
      "cell_type": "markdown",
      "metadata": {
        "id": "DyrXknmySOUI"
      },
      "source": [
        "# Curso de Capacitación en Machine Learning para la Industria (ML CETAM) - Sesión 5 (Tarea)\n",
        "\n",
        "<img src='http://ia.inf.pucp.edu.pe/static/images/logo.svg' width=300px>\n",
        "<img src='https://dci.pucp.edu.pe/wp-content/uploads/2014/02/logo-color-pucp1.gif' width=200px>\n",
        "\n",
        "\n",
        "PhD. Edwin Villanueva, PhD. Soledad Espezua, BSc. Daniel Saromo"
      ]
    },
    {
      "cell_type": "markdown",
      "metadata": {
        "id": "gP4UmiasJdEu"
      },
      "source": [
        "<font color='#008B72'> Modelos de regresión: Predicción del esfuerzo de compresión de muestras de concreto </font>"
      ]
    },
    {
      "cell_type": "markdown",
      "metadata": {
        "id": "eTSNIORZ-ukb"
      },
      "source": [
        "Fuente del dataset: https://archive.ics.uci.edu/ml/datasets/Concrete+Compressive+Strength\n",
        "\n",
        "\n",
        "<img src='https://i2.wp.com/civilblog.org/wp-content/uploads/2014/04/Compressive-Strength-Test-on-Concrete.jpg' width=180px>\n",
        "\n",
        "En ingeniería civil, se estudia el esfuerzo de compresión del concreto que forma la estructura de los edificios. Este valor está relacionado con la resistencia mecánica del concreto y, por consiguiente, la capacidad del edificio de resistir sismos o el paso del tiempo. El valor del esfuerzo de compresión (en megapascales: MPa) de probetas hechas de concreto es determinado en un laboratorio, usando una máquina de ensayos. Sin embargo, hacer dichos experimentos tiene un costo elevado en términos de tiempo y dinero. El dataset que usaremos tiene información de distintos componentes utilizados durante la fabricación del concreto, por lo que sus valores son más fáciles de obtener.\n",
        "\n",
        "[Video](https://youtu.be/dtvm7YNsSU0?t=35)\n",
        "\n",
        "**Información de los atributos:**\n",
        "\n",
        "Se indican el nombre del atributo, su tipo, la unidad de medida y una pequeña descripción. El esfuerzo de compresión de la probeta de concreto es el valor a predecir (regresión).\n",
        "\n",
        "```\n",
        "Name -- Data Type -- Measurement -- Description\n",
        "----------------------------------------------------------------\n",
        "Cement (component 1) -- quantitative -- kg in a m3 mixture -- Input Variable\n",
        "Blast Furnace Slag (component 2) -- quantitative -- kg in a m3 mixture -- Input Variable\n",
        "Fly Ash (component 3) -- quantitative -- kg in a m3 mixture -- Input Variable\n",
        "Water (component 4) -- quantitative -- kg in a m3 mixture -- Input Variable\n",
        "Superplasticizer (component 5) -- quantitative -- kg in a m3 mixture -- Input Variable\n",
        "Coarse Aggregate (component 6) -- quantitative -- kg in a m3 mixture -- Input Variable\n",
        "Fine Aggregate (component 7) -- quantitative -- kg in a m3 mixture -- Input Variable\n",
        "Age -- quantitative -- Day (1~365) -- Input Variable\n",
        "\n",
        "Concrete compressive strength -- quantitative -- MPa -- Output Variable\n",
        "```"
      ]
    },
    {
      "cell_type": "markdown",
      "metadata": {
        "id": "BM6jFGRb_phR"
      },
      "source": [
        "## Solución desde el punto de vista de ML"
      ]
    },
    {
      "cell_type": "markdown",
      "metadata": {
        "id": "P24Ro5TV_rt8"
      },
      "source": [
        "De acuerdo al caso planteado, el objetivo del proyecto es poder realizar una estimación del módulo de compresión del concreto, usando información de la cantidad de componentes usados durante su fabricación.\n",
        "\n",
        "Completar con su código los campos indicados y subir su notebook solucionado a la plataforma PAIDEIA.\n",
        "\n",
        "Es responsabilidad del alumno verificar que el archivo que subió es el correcto.\n",
        "\n",
        "El formato del nombre del archivo es: `Desafio5_APELLIDOPATERNO_NOMBRE.ipynb`. Subir solo su notebook resuelto, y **no el dataset**. Respetar los lineamientos de la entrega de archivo influirá en su calificación. La fecha límite de entrega del presente desafío se encuentra en PAIDEIA."
      ]
    },
    {
      "cell_type": "markdown",
      "metadata": {
        "id": "xgUA-vg2GH1Y"
      },
      "source": [
        "A modo de práctica y de afianzar los conocimientos de las sesiones anteriores, se pide lo siguiente:\n",
        "\n",
        "0. Hacer el preprocesamiento necesario para ejecutar PCA (ya está completado).\n",
        "1. Plotear la matriz de correlación de los atributos del dataset.\n",
        "2. Realizar un análisis PCA con `n=2`.\n",
        "3. Realizar un análisis PCA con `n=3`.\n",
        "4. Evaluar el dataset mediante validación cruzada usando todos los atributos (columnas).\n",
        "5. Evaluar el dataset mediante validación cruzada usando el modelo de PCA con `n=3`."
      ]
    },
    {
      "cell_type": "markdown",
      "metadata": {
        "id": "gxUHWzU-rGrC"
      },
      "source": [
        "## Importamos los datos"
      ]
    },
    {
      "cell_type": "code",
      "metadata": {
        "id": "jaHSo2kv_5GI"
      },
      "source": [
        "#libraries required\n",
        "import numpy as np\n",
        "import pandas as pd\n",
        "import matplotlib.pyplot as plt\n",
        "\n",
        "%matplotlib inline"
      ],
      "execution_count": null,
      "outputs": []
    },
    {
      "cell_type": "markdown",
      "metadata": {
        "id": "to93Faj_EAvv"
      },
      "source": [
        "Ahora, vamos a leer el dataset."
      ]
    },
    {
      "cell_type": "code",
      "metadata": {
        "id": "uT885TQaAFua"
      },
      "source": [
        "# Read the dataset\n",
        "\n",
        "dataset = pd.read_csv('dataset_concreto.csv', names=['cement', 'blast_furnace_slag', 'fly_ash', 'water', 'superplasticizer',\n",
        "                              'coarse_aggregate','fine_aggregate', 'age', 'compressive_strength'],\n",
        "                      sep=',',#siempre revisar!\n",
        "                      encoding='utf-8',\n",
        "                      na_values=' ')"
      ],
      "execution_count": null,
      "outputs": []
    },
    {
      "cell_type": "code",
      "metadata": {
        "id": "iSPLZROTAFui",
        "outputId": "7e2f8495-8b07-46ac-d679-8a2fcc140015",
        "colab": {
          "base_uri": "https://localhost:8080/",
          "height": 168
        }
      },
      "source": [
        "dataset.columns.values.tolist()"
      ],
      "execution_count": null,
      "outputs": [
        {
          "output_type": "execute_result",
          "data": {
            "text/plain": [
              "['cement',\n",
              " 'blast_furnace_slag',\n",
              " 'fly_ash',\n",
              " 'water',\n",
              " 'superplasticizer',\n",
              " 'coarse_aggregate',\n",
              " 'fine_aggregate',\n",
              " 'age',\n",
              " 'compressive_strength']"
            ]
          },
          "metadata": {
            "tags": []
          },
          "execution_count": 163
        }
      ]
    },
    {
      "cell_type": "markdown",
      "metadata": {
        "id": "wasoCsu_RMjN"
      },
      "source": [
        "Primero, hacemos una exploración preliminar de los datos. ¿Cuál sería la variable objetivo (target)?"
      ]
    },
    {
      "cell_type": "code",
      "metadata": {
        "id": "iFKYbHE9AFut",
        "outputId": "ec6e318a-70ee-4a49-e1d1-86bc03addebc",
        "colab": {
          "base_uri": "https://localhost:8080/",
          "height": 166
        }
      },
      "source": [
        "dataset.describe()"
      ],
      "execution_count": null,
      "outputs": [
        {
          "output_type": "execute_result",
          "data": {
            "text/html": [
              "<div>\n",
              "<style scoped>\n",
              "    .dataframe tbody tr th:only-of-type {\n",
              "        vertical-align: middle;\n",
              "    }\n",
              "\n",
              "    .dataframe tbody tr th {\n",
              "        vertical-align: top;\n",
              "    }\n",
              "\n",
              "    .dataframe thead th {\n",
              "        text-align: right;\n",
              "    }\n",
              "</style>\n",
              "<table border=\"1\" class=\"dataframe\">\n",
              "  <thead>\n",
              "    <tr style=\"text-align: right;\">\n",
              "      <th></th>\n",
              "      <th>cement</th>\n",
              "      <th>blast_furnace_slag</th>\n",
              "      <th>fly_ash</th>\n",
              "      <th>water</th>\n",
              "      <th>superplasticizer</th>\n",
              "      <th>coarse_aggregate</th>\n",
              "      <th>fine_aggregate</th>\n",
              "      <th>age</th>\n",
              "      <th>compressive_strength</th>\n",
              "    </tr>\n",
              "  </thead>\n",
              "  <tbody>\n",
              "    <tr>\n",
              "      <th>count</th>\n",
              "      <td>1031</td>\n",
              "      <td>1031</td>\n",
              "      <td>1031</td>\n",
              "      <td>1031</td>\n",
              "      <td>1031</td>\n",
              "      <td>1031</td>\n",
              "      <td>1031</td>\n",
              "      <td>1031</td>\n",
              "      <td>1031</td>\n",
              "    </tr>\n",
              "    <tr>\n",
              "      <th>unique</th>\n",
              "      <td>281</td>\n",
              "      <td>188</td>\n",
              "      <td>164</td>\n",
              "      <td>206</td>\n",
              "      <td>156</td>\n",
              "      <td>285</td>\n",
              "      <td>305</td>\n",
              "      <td>15</td>\n",
              "      <td>939</td>\n",
              "    </tr>\n",
              "    <tr>\n",
              "      <th>top</th>\n",
              "      <td>425</td>\n",
              "      <td>0</td>\n",
              "      <td>0</td>\n",
              "      <td>192</td>\n",
              "      <td>0</td>\n",
              "      <td>932</td>\n",
              "      <td>755.8</td>\n",
              "      <td>28</td>\n",
              "      <td>33.39821744</td>\n",
              "    </tr>\n",
              "    <tr>\n",
              "      <th>freq</th>\n",
              "      <td>20</td>\n",
              "      <td>466</td>\n",
              "      <td>566</td>\n",
              "      <td>118</td>\n",
              "      <td>379</td>\n",
              "      <td>57</td>\n",
              "      <td>30</td>\n",
              "      <td>425</td>\n",
              "      <td>5</td>\n",
              "    </tr>\n",
              "  </tbody>\n",
              "</table>\n",
              "</div>"
            ],
            "text/plain": [
              "       cement blast_furnace_slag  ...   age compressive_strength\n",
              "count    1031               1031  ...  1031                 1031\n",
              "unique    281                188  ...    15                  939\n",
              "top       425                  0  ...    28          33.39821744\n",
              "freq       20                466  ...   425                    5\n",
              "\n",
              "[4 rows x 9 columns]"
            ]
          },
          "metadata": {
            "tags": []
          },
          "execution_count": 164
        }
      ]
    },
    {
      "cell_type": "code",
      "metadata": {
        "id": "X1wfol5-oFPN",
        "outputId": "954f3f01-7eb7-458e-f95d-f2a19434827e",
        "colab": {
          "base_uri": "https://localhost:8080/",
          "height": 34
        }
      },
      "source": [
        "targets = dataset.compressive_strength[1:] #labels en un numpy array\n",
        "targets = np.reshape(targets.values,(targets.shape[0],1))\n",
        "targets.shape"
      ],
      "execution_count": null,
      "outputs": [
        {
          "output_type": "execute_result",
          "data": {
            "text/plain": [
              "(1030, 1)"
            ]
          },
          "metadata": {
            "tags": []
          },
          "execution_count": 191
        }
      ]
    },
    {
      "cell_type": "code",
      "metadata": {
        "id": "er2chQT4oWM5",
        "outputId": "ebf8895d-5e16-4cce-8d76-f52a50861acf",
        "colab": {
          "base_uri": "https://localhost:8080/",
          "height": 67
        }
      },
      "source": [
        "feature_names = dataset.drop('compressive_strength', axis=1).columns #vemos los nombres de los atributos\n",
        "feature_names"
      ],
      "execution_count": null,
      "outputs": [
        {
          "output_type": "execute_result",
          "data": {
            "text/plain": [
              "Index(['cement', 'blast_furnace_slag', 'fly_ash', 'water', 'superplasticizer',\n",
              "       'coarse_aggregate', 'fine_aggregate', 'age'],\n",
              "      dtype='object')"
            ]
          },
          "metadata": {
            "tags": []
          },
          "execution_count": 167
        }
      ]
    },
    {
      "cell_type": "code",
      "metadata": {
        "id": "kHQ3rhekpilS"
      },
      "source": [
        " #seleccionamos todas las filas, pero solamente las columnas cuyas etiquetas estén en la variable features\n",
        "x = dataset.loc[1:, feature_names].values\n",
        "\n",
        "#la siguiente fila es un auto-verificador para que vean si realizaron correctamente la extracción\n",
        "assert x.shape == (1030, 8), \"La extracción de los datos para aplicar StandardScaler no está bien ejecutada\""
      ],
      "execution_count": null,
      "outputs": []
    },
    {
      "cell_type": "markdown",
      "metadata": {
        "id": "YVj6NzQ2RjIb"
      },
      "source": [
        "Revisamos si es que hay valores faltantes (null), para determinar si se requiere hacer una imputación o no."
      ]
    },
    {
      "cell_type": "code",
      "metadata": {
        "id": "RhE_aw2dAFu0",
        "outputId": "054ad7fa-fe49-4eaa-caef-993fc56d6593",
        "colab": {
          "base_uri": "https://localhost:8080/",
          "height": 185
        }
      },
      "source": [
        "dataset.isna().sum(axis=0)"
      ],
      "execution_count": null,
      "outputs": [
        {
          "output_type": "execute_result",
          "data": {
            "text/plain": [
              "cement                  0\n",
              "blast_furnace_slag      0\n",
              "fly_ash                 0\n",
              "water                   0\n",
              "superplasticizer        0\n",
              "coarse_aggregate        0\n",
              "fine_aggregate          0\n",
              "age                     0\n",
              "compressive_strength    0\n",
              "dtype: int64"
            ]
          },
          "metadata": {
            "tags": []
          },
          "execution_count": 169
        }
      ]
    },
    {
      "cell_type": "markdown",
      "metadata": {
        "id": "Z5yaZtMPT_Y0"
      },
      "source": [
        "Se observa que no se tienen datos faltantes. "
      ]
    },
    {
      "cell_type": "markdown",
      "metadata": {
        "id": "JO-3q1bAKi1t"
      },
      "source": [
        "## 1) Matriz de correlación"
      ]
    },
    {
      "cell_type": "code",
      "metadata": {
        "id": "bHspDhwFKlyi"
      },
      "source": [
        "#inserte su código aquí. muestre las correlaciones de las variables antes de hacer el preprocesamiento"
      ],
      "execution_count": null,
      "outputs": []
    },
    {
      "cell_type": "markdown",
      "metadata": {
        "id": "zA1MIJEUrN-A"
      },
      "source": [
        "## 0) Preprocesamiento para PCA"
      ]
    },
    {
      "cell_type": "code",
      "metadata": {
        "id": "Gmzo8Vx837ZR"
      },
      "source": [
        "from sklearn.preprocessing import StandardScaler\n",
        "x = StandardScaler().fit_transform(x)"
      ],
      "execution_count": null,
      "outputs": []
    },
    {
      "cell_type": "code",
      "metadata": {
        "id": "rCwYXQSU5wip",
        "outputId": "f0d21f64-c498-46cb-8ca2-f546b988f50a",
        "colab": {
          "base_uri": "https://localhost:8080/",
          "height": 34
        }
      },
      "source": [
        "np.mean(x),np.std(x)"
      ],
      "execution_count": null,
      "outputs": [
        {
          "output_type": "execute_result",
          "data": {
            "text/plain": [
              "(5.4756630729085393e-17, 1.0)"
            ]
          },
          "metadata": {
            "tags": []
          },
          "execution_count": 172
        }
      ]
    },
    {
      "cell_type": "markdown",
      "metadata": {
        "id": "oNYrlt0b58X4"
      },
      "source": [
        "## 2) Principal Component Analysis (PCA) 2D"
      ]
    },
    {
      "cell_type": "markdown",
      "metadata": {
        "id": "LN1y4GlZ6Hko"
      },
      "source": [
        "Por comodidad, cambiemos las etiquetas de las columnas a una forma más genérica:"
      ]
    },
    {
      "cell_type": "code",
      "metadata": {
        "id": "9zdweuWC6Mno",
        "outputId": "b158f7ec-066e-4d02-ae13-3a31a5b78e9e",
        "colab": {
          "base_uri": "https://localhost:8080/",
          "height": 151
        }
      },
      "source": [
        "feat_cols = ['feature'+str(i) for i in range(x.shape[1])]\n",
        "feat_cols"
      ],
      "execution_count": null,
      "outputs": [
        {
          "output_type": "execute_result",
          "data": {
            "text/plain": [
              "['feature0',\n",
              " 'feature1',\n",
              " 'feature2',\n",
              " 'feature3',\n",
              " 'feature4',\n",
              " 'feature5',\n",
              " 'feature6',\n",
              " 'feature7']"
            ]
          },
          "metadata": {
            "tags": []
          },
          "execution_count": 173
        }
      ]
    },
    {
      "cell_type": "code",
      "metadata": {
        "id": "7oNA3g-P6Qwg"
      },
      "source": [
        "normalised_dataset = pd.DataFrame(x,columns=feat_cols)"
      ],
      "execution_count": null,
      "outputs": []
    },
    {
      "cell_type": "code",
      "metadata": {
        "id": "2hOF2nxa6dv7",
        "outputId": "f7ac6c99-e5a7-40cc-f7ff-323e8c0f73c5",
        "colab": {
          "base_uri": "https://localhost:8080/",
          "height": 195
        }
      },
      "source": [
        "normalised_dataset.tail()"
      ],
      "execution_count": null,
      "outputs": [
        {
          "output_type": "execute_result",
          "data": {
            "text/html": [
              "<div>\n",
              "<style scoped>\n",
              "    .dataframe tbody tr th:only-of-type {\n",
              "        vertical-align: middle;\n",
              "    }\n",
              "\n",
              "    .dataframe tbody tr th {\n",
              "        vertical-align: top;\n",
              "    }\n",
              "\n",
              "    .dataframe thead th {\n",
              "        text-align: right;\n",
              "    }\n",
              "</style>\n",
              "<table border=\"1\" class=\"dataframe\">\n",
              "  <thead>\n",
              "    <tr style=\"text-align: right;\">\n",
              "      <th></th>\n",
              "      <th>feature0</th>\n",
              "      <th>feature1</th>\n",
              "      <th>feature2</th>\n",
              "      <th>feature3</th>\n",
              "      <th>feature4</th>\n",
              "      <th>feature5</th>\n",
              "      <th>feature6</th>\n",
              "      <th>feature7</th>\n",
              "    </tr>\n",
              "  </thead>\n",
              "  <tbody>\n",
              "    <tr>\n",
              "      <th>1025</th>\n",
              "      <td>-0.045623</td>\n",
              "      <td>0.488241</td>\n",
              "      <td>0.564569</td>\n",
              "      <td>-0.092122</td>\n",
              "      <td>0.451695</td>\n",
              "      <td>-1.323003</td>\n",
              "      <td>-0.065874</td>\n",
              "      <td>-0.279733</td>\n",
              "    </tr>\n",
              "    <tr>\n",
              "      <th>1026</th>\n",
              "      <td>0.392837</td>\n",
              "      <td>-0.856886</td>\n",
              "      <td>0.960095</td>\n",
              "      <td>0.676201</td>\n",
              "      <td>0.702927</td>\n",
              "      <td>-1.994679</td>\n",
              "      <td>0.496916</td>\n",
              "      <td>-0.279733</td>\n",
              "    </tr>\n",
              "    <tr>\n",
              "      <th>1027</th>\n",
              "      <td>-1.270057</td>\n",
              "      <td>0.759585</td>\n",
              "      <td>0.850661</td>\n",
              "      <td>0.521599</td>\n",
              "      <td>-0.017270</td>\n",
              "      <td>-1.036061</td>\n",
              "      <td>0.080127</td>\n",
              "      <td>-0.279733</td>\n",
              "    </tr>\n",
              "    <tr>\n",
              "      <th>1028</th>\n",
              "      <td>-1.168580</td>\n",
              "      <td>1.308072</td>\n",
              "      <td>-0.847132</td>\n",
              "      <td>-0.279518</td>\n",
              "      <td>0.853666</td>\n",
              "      <td>0.214646</td>\n",
              "      <td>0.191188</td>\n",
              "      <td>-0.279733</td>\n",
              "    </tr>\n",
              "    <tr>\n",
              "      <th>1029</th>\n",
              "      <td>-0.194010</td>\n",
              "      <td>0.308504</td>\n",
              "      <td>0.376967</td>\n",
              "      <td>0.891706</td>\n",
              "      <td>0.401449</td>\n",
              "      <td>-1.395060</td>\n",
              "      <td>-0.150729</td>\n",
              "      <td>-0.279733</td>\n",
              "    </tr>\n",
              "  </tbody>\n",
              "</table>\n",
              "</div>"
            ],
            "text/plain": [
              "      feature0  feature1  feature2  ...  feature5  feature6  feature7\n",
              "1025 -0.045623  0.488241  0.564569  ... -1.323003 -0.065874 -0.279733\n",
              "1026  0.392837 -0.856886  0.960095  ... -1.994679  0.496916 -0.279733\n",
              "1027 -1.270057  0.759585  0.850661  ... -1.036061  0.080127 -0.279733\n",
              "1028 -1.168580  1.308072 -0.847132  ...  0.214646  0.191188 -0.279733\n",
              "1029 -0.194010  0.308504  0.376967  ... -1.395060 -0.150729 -0.279733\n",
              "\n",
              "[5 rows x 8 columns]"
            ]
          },
          "metadata": {
            "tags": []
          },
          "execution_count": 175
        }
      ]
    },
    {
      "cell_type": "markdown",
      "metadata": {
        "id": "DghINbkm6j4Y"
      },
      "source": [
        "Ejecutamos un análisis de componentes principales:"
      ]
    },
    {
      "cell_type": "code",
      "metadata": {
        "id": "y3CdJJ9B6jIo"
      },
      "source": [
        "from sklearn.decomposition import PCA\n",
        "pca_dataset = ...\n",
        "principalComponents_dataset = ..."
      ],
      "execution_count": null,
      "outputs": []
    },
    {
      "cell_type": "markdown",
      "metadata": {
        "id": "sd_S_Z9K63oD"
      },
      "source": [
        "Vamos a crear un nuevo dataframe con los componentes principales:"
      ]
    },
    {
      "cell_type": "code",
      "metadata": {
        "id": "Zvw5aa8B66Ay"
      },
      "source": [
        "principal_Df = pd.DataFrame(data = principalComponents_dataset\n",
        "             , columns = ['componente principal 1', 'componente principal 2'])\n",
        "\n",
        "principal_Df.tail()"
      ],
      "execution_count": null,
      "outputs": []
    },
    {
      "cell_type": "markdown",
      "metadata": {
        "id": "XjAqrBfE7cRB"
      },
      "source": [
        "Computamos el ratio de varianza explicada (`explained_variance_ratio`). Nos indica la cantidad de información (o varianza) que posee cada componente principal luego de proyectar los datos en un sub-espacio de una dimensión menor."
      ]
    },
    {
      "cell_type": "code",
      "metadata": {
        "id": "IrUaHsOR7beo"
      },
      "source": [
        "print('explained_variance_ratio de cada componente principal: {}'.format(pca_dataset.explained_variance_ratio_))"
      ],
      "execution_count": null,
      "outputs": []
    },
    {
      "cell_type": "markdown",
      "metadata": {
        "id": "5Ti_cSx77zq_"
      },
      "source": [
        "Se observa que el primer componente principal tiene el ...% de la información, y el segundo solamente el ...%. Al proyectar en un espacio de dimensión 2, se ha perdido aproximadamente un ...% de información."
      ]
    },
    {
      "cell_type": "markdown",
      "metadata": {
        "id": "aMFIdceE8HnQ"
      },
      "source": [
        "## Interpretación gráfica del PCA 2D"
      ]
    },
    {
      "cell_type": "code",
      "metadata": {
        "id": "vchzIAIVuyD3"
      },
      "source": [
        "equis1 = principal_Df['componente principal 1'].values\n",
        "equis2 = principal_Df['componente principal 2'].values"
      ],
      "execution_count": null,
      "outputs": []
    },
    {
      "cell_type": "code",
      "metadata": {
        "id": "9B2G-Sdrt0G5"
      },
      "source": [
        "import seaborn as sns\n",
        "cmap = sns.color_palette(\"viridis\", as_cmap=True)"
      ],
      "execution_count": null,
      "outputs": []
    },
    {
      "cell_type": "code",
      "metadata": {
        "id": "E7-ZoGk3uRDA",
        "outputId": "418dcf93-6549-49d6-837c-0ab2e23054a1",
        "colab": {
          "base_uri": "https://localhost:8080/",
          "height": 282
        }
      },
      "source": [
        "f, ax = plt.subplots()\n",
        "points = ax.scatter(equis1, equis2, c=targets,s=50, cmap=cmap)\n",
        "f.colorbar(points)"
      ],
      "execution_count": null,
      "outputs": [
        {
          "output_type": "execute_result",
          "data": {
            "text/plain": [
              "<matplotlib.colorbar.Colorbar at 0x7fd00e7c76a0>"
            ]
          },
          "metadata": {
            "tags": []
          },
          "execution_count": 181
        },
        {
          "output_type": "display_data",
          "data": {
            "image/png": "[encoded data removed]",
            "text/plain": [
              "<Figure size 432x288 with 2 Axes>"
            ]
          },
          "metadata": {
            "tags": [],
            "needs_background": "light"
          }
        }
      ]
    },
    {
      "cell_type": "markdown",
      "metadata": {
        "id": "iqOlsMRO-vq4"
      },
      "source": [
        "## 3) Principal Component Analysis (PCA) 3D"
      ]
    },
    {
      "cell_type": "code",
      "metadata": {
        "id": "VEwcQvKp-vrG"
      },
      "source": [
        "normalised_dataset = pd.DataFrame(x,columns=feat_cols)"
      ],
      "execution_count": null,
      "outputs": []
    },
    {
      "cell_type": "code",
      "metadata": {
        "id": "8FPSS5LL-vrJ"
      },
      "source": [
        "normalised_dataset.tail()"
      ],
      "execution_count": null,
      "outputs": []
    },
    {
      "cell_type": "markdown",
      "metadata": {
        "id": "teWJr51--vrL"
      },
      "source": [
        "Ejecutamos un análisis de componentes principales:"
      ]
    },
    {
      "cell_type": "code",
      "metadata": {
        "id": "_ZDZgoYN-vrL"
      },
      "source": [
        "from sklearn.decomposition import PCA\n",
        "...\n",
        "..."
      ],
      "execution_count": null,
      "outputs": []
    },
    {
      "cell_type": "markdown",
      "metadata": {
        "id": "N6lJTxP_-vrN"
      },
      "source": [
        "Vamos a crear un nuevo dataframe con los componentes principales:"
      ]
    },
    {
      "cell_type": "code",
      "metadata": {
        "id": "W_ym8wN5-vrO"
      },
      "source": [
        "principal_Df_3D = ...\n",
        "\n",
        "principal_Df_3D.tail()"
      ],
      "execution_count": null,
      "outputs": []
    },
    {
      "cell_type": "markdown",
      "metadata": {
        "id": "7sBX51yH-vrQ"
      },
      "source": [
        "Computamos el ratio de varianza explicada (`explained_variance_ratio`). Nos indica la cantidad de información (o varianza) que posee cada componente principal luego de proyectar los datos en un sub-espacio de una dimensión menor."
      ]
    },
    {
      "cell_type": "code",
      "metadata": {
        "id": "DL0nh2At-vrQ"
      },
      "source": [
        "print('explained_variance_ratio de cada componente principal: {}'.format(pca_dataset_3D.explained_variance_ratio_))"
      ],
      "execution_count": null,
      "outputs": []
    },
    {
      "cell_type": "markdown",
      "metadata": {
        "id": "USy4-iUs-vrS"
      },
      "source": [
        "Se observa que el primer componente principal tiene el ...% de la información, el segundo solamente el ...%, y el tercero ...%. Al proyectar en un espacio de dimensión 3, se ha perdido aproximadamente un 3...% de información."
      ]
    },
    {
      "cell_type": "markdown",
      "metadata": {
        "id": "MqQ4l57x-vrS"
      },
      "source": [
        "## Interpretación gráfica del PCA 3D"
      ]
    },
    {
      "cell_type": "code",
      "metadata": {
        "id": "9lONRaHo-vrT",
        "outputId": "aa01f85c-4661-4c22-dca9-e6679a628de3",
        "colab": {
          "base_uri": "https://localhost:8080/",
          "height": 336
        }
      },
      "source": [
        "from mpl_toolkits.mplot3d import Axes3D\n",
        "fig = plt.figure()\n",
        "\n",
        "plt.clf()\n",
        "\n",
        "elev = +20\n",
        "azim = -66\n",
        "\n",
        "\n",
        "ax = Axes3D(fig, rect=[0, 0, .95, 1], elev=elev, azim=azim)\n",
        "\n",
        "ax.set_xlabel('Componente Principal 1')\n",
        "ax.set_ylabel('Componente Principal 2')\n",
        "ax.set_zlabel('Componente Principal 3')\n",
        "ax.set_title(\"PCA para el Concrete compressive strength Dataset\")\n",
        "\n",
        "points = ax.scatter(principal_Df_3D['componente principal 1'].values ,\n",
        "           principal_Df_3D['componente principal 2'].values ,\n",
        "           principal_Df_3D['componente principal 3'].values , c = targets, s = 50, cmap = cmap)\n",
        "\n",
        "fig.colorbar(points)"
      ],
      "execution_count": null,
      "outputs": [
        {
          "output_type": "execute_result",
          "data": {
            "text/plain": [
              "<matplotlib.colorbar.Colorbar at 0x7fd00e0d8278>"
            ]
          },
          "metadata": {
            "tags": []
          },
          "execution_count": 203
        },
        {
          "output_type": "display_data",
          "data": {
            "image/png": "[encoded data removed]",
            "text/plain": [
              "<Figure size 432x288 with 2 Axes>"
            ]
          },
          "metadata": {
            "tags": [],
            "needs_background": "light"
          }
        }
      ]
    },
    {
      "cell_type": "markdown",
      "metadata": {
        "id": "S7hA2hNzQvKa"
      },
      "source": [
        "## 4) Comparando modelos de predicción"
      ]
    },
    {
      "cell_type": "markdown",
      "metadata": {
        "id": "QB6UCJzURAle"
      },
      "source": [
        "Evaluar el dataset usando crosvalidación para los siguientes algoritmos de clasificación: `LinearReg()`, `Ridge()`, `Lasso()`,`ElasticNet()`, `KNN()`, `RegTrees()`, y `SVR()`. Hacer una crossvalidación con 8 folds y `random_state=seed=17` . Usar [`r2`](https://scikit-learn.org/stable/modules/generated/sklearn.metrics.r2_score.html) como [métrica de scoring](https://scikit-learn.org/stable/modules/model_evaluation.html#scoring-parameter).\n",
        "\n",
        "\n",
        "Debe mostrar un resultado como este (con la media y la desviación estándar de la precisión):\n",
        "\n",
        "```\n",
        "LinearReg: -22.006008541988745 (12.188886010681149)\n",
        "Ridge: -21.988408595885396 (12.189610389336641)\n",
        "Lasso: -27.205895658130324 (12.124418229519783)\n",
        "ElasticNet: -28.30115970360337 (13.609109541638535)\n",
        "KNN: -21.45686665853659 (15.016217766474995)\n",
        "RegTrees: -25.586471341463415 (16.998262117002646)\n",
        "SVR: -29.57043293858262 (18.05296397264449)\n",
        "```\n",
        "Luego, realizar las siguientes tareas:\n",
        "\n",
        "1. Escoger el algoritmo que tenga el mejor score.\n",
        "2. Luego, ajustar un modelo basado en el algoritmo seleccionado.\n",
        "3. Después, evaluar dicho modelo entrenado en el conjunto de validación.\n",
        "4. Finalmente, plotear los valores reales Vs los predichos en el conjunto de validacion.\n"
      ]
    },
    {
      "cell_type": "markdown",
      "metadata": {
        "id": "fLM8WvOWI2cv"
      },
      "source": [
        "## 5) Comparando modelos de predicción con los 3 componentes principales"
      ]
    },
    {
      "cell_type": "markdown",
      "metadata": {
        "id": "oSprp-rhI5xy"
      },
      "source": [
        "Realizar el mismo análisis anterior, pero con los 3 componentes principales del dataset."
      ]
    },
    {
      "cell_type": "code",
      "metadata": {
        "id": "XwTWz5CECGE9"
      },
      "source": [
        ""
      ],
      "execution_count": null,
      "outputs": []
    }
  ]
}