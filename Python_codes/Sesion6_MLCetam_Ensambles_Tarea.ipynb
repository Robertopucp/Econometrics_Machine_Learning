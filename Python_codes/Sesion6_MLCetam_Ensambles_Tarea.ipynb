{
  "nbformat": 4,
  "nbformat_minor": 0,
  "metadata": {
    "colab": {
      "name": "Sesion6_MLCetam_Ensambles_Tarea",
      "provenance": [],
      "collapsed_sections": [],
      "toc_visible": true
    },
    "kernelspec": {
      "name": "python3",
      "display_name": "Python 3"
    }
  },
  "cells": [
    {
      "cell_type": "markdown",
      "metadata": {
        "id": "DyrXknmySOUI"
      },
      "source": [
        "# Curso de Capacitación en Machine Learning para la Industria (ML CETAM) - Sesión 6 (Tarea)\n",
        "\n",
        "<img src='data:image/png;base64,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' width=100px>\n",
        "<img src='https://dci.pucp.edu.pe/wp-content/uploads/2014/02/logo-color-pucp1.gif' width=200px>\n",
        "\n",
        "\n",
        "PhD. Edwin Villanueva, PhD. Soledad Espezua, BSc. Daniel Saromo"
      ]
    },
    {
      "cell_type": "markdown",
      "metadata": {
        "id": "gP4UmiasJdEu"
      },
      "source": [
        "<font color='#008B72'> Modelos ensamblados: Predicción de la calidad en la industria vinícola </font>"
      ]
    },
    {
      "cell_type": "markdown",
      "metadata": {
        "id": "UcF04IUo85Or"
      },
      "source": [
        "## Caso: Determinación de la calidad de vinos"
      ]
    },
    {
      "cell_type": "markdown",
      "metadata": {
        "id": "eTSNIORZ-ukb"
      },
      "source": [
        "Fuente del dataset: https://archive.ics.uci.edu/ml/datasets/Wine+Quality\n",
        "\n",
        "Enlace de descarga del dataset: https://archive.ics.uci.edu/ml/machine-learning-databases/wine-quality/winequality-white.csv\n",
        "\n",
        "<img src='https://miro.medium.com/max/3840/1*2ayKmvVZCYaLPl-nmLLp5g.png' width=180px>\n",
        "\n",
        "En la industria vinícola, una etapa importante consiste en la determinación de la calidad del vino elaborado. Este etiquetado es realizado por catadores profesionales, quienes prueban el vino y dan su veredicto. El presente dataset contiene información de características físicas (medibles) del vino, así como de la calidad indicada por catadores profesionales.\n",
        "\n",
        "**Información de los atributos:**\n",
        "\n",
        "Se tienen los siguientes atributos:\n",
        "\n",
        "- Fixed acidity\n",
        "- Volatile acidity\n",
        "- Citric acid\n",
        "- Residual sugar\n",
        "- Chlorides\n",
        "- Free sulfur dioxide\n",
        "- Total sulfur dioxide\n",
        "- Density\n",
        "- pH\n",
        "- Sulfates\n",
        "- Alcohol\n",
        "- Quality (Target)"
      ]
    },
    {
      "cell_type": "markdown",
      "metadata": {
        "id": "BM6jFGRb_phR"
      },
      "source": [
        "## Solución desde el punto de vista de ML"
      ]
    },
    {
      "cell_type": "markdown",
      "metadata": {
        "id": "P24Ro5TV_rt8"
      },
      "source": [
        "De acuerdo al caso planteado, el objetivo del proyecto es poder realizar una estimación de la calidad del vino, utilizando parámetros físicos. De esta manera, se podrían realizar mejoras en los procesos de fabricación del vino, para poder orientar mejor la calidad resultante y el costo de fabricación.\n",
        "\n",
        "Completar con su código los campos indicados y subir su notebook solucionado a la plataforma PAIDEIA.\n",
        "\n",
        "Es responsabilidad del alumno verificar que el archivo que subió es el correcto.\n",
        "\n",
        "El formato del nombre del archivo es: `Desafio6_APELLIDOPATERNO_NOMBRE.ipynb`. Subir solo su notebook resuelto, y **no el dataset**. Esta vez, se les brinda el enlace del dataset para que lo descarguen ustedes mismos. Respetar los lineamientos de la entrega de archivo influirá en su calificación. La fecha límite de entrega del presente desafío se encuentra en PAIDEIA."
      ]
    },
    {
      "cell_type": "markdown",
      "metadata": {
        "id": "xgUA-vg2GH1Y"
      },
      "source": [
        "Se pide lo siguiente:\n",
        "\n",
        "1. Plotear la matriz de correlación de los atributos del dataset.\n",
        "2. Se les pide seleccionar un subconjunto de los datos, ya que el dataset no está balanceado.\n",
        "3. A modo de tener un baseline de un resultado, se les deja ya entrenado un modelo de árbol de clasificación.\n",
        "4. Evaluar el dataset mediante validación cruzada para los algoritmos indicados. Hacer un pipeline para escalar en cada fold.\n",
        "5. Optimizar un hiperparámetro (usted lo elige), del mejor algoritmo encontrado en el paso 4, usando `GridSearchCV()`.\n",
        "6. Entrenar el modelo final con el algoritmo e hiperparámetros seleccionados, y probarlo en la data de validación. Responder la pregunta."
      ]
    },
    {
      "cell_type": "markdown",
      "metadata": {
        "id": "gxUHWzU-rGrC"
      },
      "source": [
        "## Importamos los datos"
      ]
    },
    {
      "cell_type": "code",
      "metadata": {
        "id": "jaHSo2kv_5GI"
      },
      "source": [
        "#libraries required\n",
        "import numpy as np\n",
        "import pandas as pd\n",
        "import matplotlib.pyplot as plt\n",
        "import seaborn as sns\n",
        "\n",
        "%matplotlib inline"
      ],
      "execution_count": null,
      "outputs": []
    },
    {
      "cell_type": "markdown",
      "metadata": {
        "id": "to93Faj_EAvv"
      },
      "source": [
        "Ahora, vamos a leer el dataset."
      ]
    },
    {
      "cell_type": "code",
      "metadata": {
        "id": "uT885TQaAFua"
      },
      "source": [
        "# Read the dataset\n",
        "\n",
        "dataset = pd.read_csv('winequality-white.csv', names=['fixed_acidity', 'volatile_acidity', 'citric_acid', 'residual_sugar', 'chlorides',\n",
        "                              'free_sulfur_dioxide','total_sulfur_dioxide', 'density','pH','sulphates','alcohol','quality'],\n",
        "                      sep=';',#siempre revisar! esta vez fue `;`\n",
        "                      encoding='utf-8',\n",
        "                      na_values=' ', skiprows=1)"
      ],
      "execution_count": null,
      "outputs": []
    },
    {
      "cell_type": "code",
      "metadata": {
        "id": "WmtyKubv5gcm",
        "outputId": "4167536e-0717-4aec-c5a4-043e1847d8f9",
        "colab": {
          "base_uri": "https://localhost:8080/",
          "height": 215
        }
      },
      "source": [
        "dataset.head()"
      ],
      "execution_count": null,
      "outputs": [
        {
          "output_type": "execute_result",
          "data": {
            "text/html": [
              "<div>\n",
              "<style scoped>\n",
              "    .dataframe tbody tr th:only-of-type {\n",
              "        vertical-align: middle;\n",
              "    }\n",
              "\n",
              "    .dataframe tbody tr th {\n",
              "        vertical-align: top;\n",
              "    }\n",
              "\n",
              "    .dataframe thead th {\n",
              "        text-align: right;\n",
              "    }\n",
              "</style>\n",
              "<table border=\"1\" class=\"dataframe\">\n",
              "  <thead>\n",
              "    <tr style=\"text-align: right;\">\n",
              "      <th></th>\n",
              "      <th>fixed_acidity</th>\n",
              "      <th>volatile_acidity</th>\n",
              "      <th>citric_acid</th>\n",
              "      <th>residual_sugar</th>\n",
              "      <th>chlorides</th>\n",
              "      <th>free_sulfur_dioxide</th>\n",
              "      <th>total_sulfur_dioxide</th>\n",
              "      <th>density</th>\n",
              "      <th>pH</th>\n",
              "      <th>sulphates</th>\n",
              "      <th>alcohol</th>\n",
              "      <th>quality</th>\n",
              "    </tr>\n",
              "  </thead>\n",
              "  <tbody>\n",
              "    <tr>\n",
              "      <th>0</th>\n",
              "      <td>7.0</td>\n",
              "      <td>0.27</td>\n",
              "      <td>0.36</td>\n",
              "      <td>20.7</td>\n",
              "      <td>0.045</td>\n",
              "      <td>45.0</td>\n",
              "      <td>170.0</td>\n",
              "      <td>1.0010</td>\n",
              "      <td>3.00</td>\n",
              "      <td>0.45</td>\n",
              "      <td>8.8</td>\n",
              "      <td>6</td>\n",
              "    </tr>\n",
              "    <tr>\n",
              "      <th>1</th>\n",
              "      <td>6.3</td>\n",
              "      <td>0.30</td>\n",
              "      <td>0.34</td>\n",
              "      <td>1.6</td>\n",
              "      <td>0.049</td>\n",
              "      <td>14.0</td>\n",
              "      <td>132.0</td>\n",
              "      <td>0.9940</td>\n",
              "      <td>3.30</td>\n",
              "      <td>0.49</td>\n",
              "      <td>9.5</td>\n",
              "      <td>6</td>\n",
              "    </tr>\n",
              "    <tr>\n",
              "      <th>2</th>\n",
              "      <td>8.1</td>\n",
              "      <td>0.28</td>\n",
              "      <td>0.40</td>\n",
              "      <td>6.9</td>\n",
              "      <td>0.050</td>\n",
              "      <td>30.0</td>\n",
              "      <td>97.0</td>\n",
              "      <td>0.9951</td>\n",
              "      <td>3.26</td>\n",
              "      <td>0.44</td>\n",
              "      <td>10.1</td>\n",
              "      <td>6</td>\n",
              "    </tr>\n",
              "    <tr>\n",
              "      <th>3</th>\n",
              "      <td>7.2</td>\n",
              "      <td>0.23</td>\n",
              "      <td>0.32</td>\n",
              "      <td>8.5</td>\n",
              "      <td>0.058</td>\n",
              "      <td>47.0</td>\n",
              "      <td>186.0</td>\n",
              "      <td>0.9956</td>\n",
              "      <td>3.19</td>\n",
              "      <td>0.40</td>\n",
              "      <td>9.9</td>\n",
              "      <td>6</td>\n",
              "    </tr>\n",
              "    <tr>\n",
              "      <th>4</th>\n",
              "      <td>7.2</td>\n",
              "      <td>0.23</td>\n",
              "      <td>0.32</td>\n",
              "      <td>8.5</td>\n",
              "      <td>0.058</td>\n",
              "      <td>47.0</td>\n",
              "      <td>186.0</td>\n",
              "      <td>0.9956</td>\n",
              "      <td>3.19</td>\n",
              "      <td>0.40</td>\n",
              "      <td>9.9</td>\n",
              "      <td>6</td>\n",
              "    </tr>\n",
              "  </tbody>\n",
              "</table>\n",
              "</div>"
            ],
            "text/plain": [
              "   fixed_acidity  volatile_acidity  citric_acid  ...  sulphates  alcohol  quality\n",
              "0            7.0              0.27         0.36  ...       0.45      8.8        6\n",
              "1            6.3              0.30         0.34  ...       0.49      9.5        6\n",
              "2            8.1              0.28         0.40  ...       0.44     10.1        6\n",
              "3            7.2              0.23         0.32  ...       0.40      9.9        6\n",
              "4            7.2              0.23         0.32  ...       0.40      9.9        6\n",
              "\n",
              "[5 rows x 12 columns]"
            ]
          },
          "metadata": {
            "tags": []
          },
          "execution_count": 14
        }
      ]
    },
    {
      "cell_type": "code",
      "metadata": {
        "id": "iSPLZROTAFui",
        "outputId": "0f3f09e8-a143-4068-c519-30852f69e0c2",
        "colab": {
          "base_uri": "https://localhost:8080/",
          "height": 218
        }
      },
      "source": [
        "feat_names = dataset.columns.values.tolist()\n",
        "feat_names"
      ],
      "execution_count": null,
      "outputs": [
        {
          "output_type": "execute_result",
          "data": {
            "text/plain": [
              "['fixed_acidity',\n",
              " 'volatile_acidity',\n",
              " 'citric_acid',\n",
              " 'residual_sugar',\n",
              " 'chlorides',\n",
              " 'free_sulfur_dioxide',\n",
              " 'total_sulfur_dioxide',\n",
              " 'density',\n",
              " 'pH',\n",
              " 'sulphates',\n",
              " 'alcohol',\n",
              " 'quality']"
            ]
          },
          "metadata": {
            "tags": []
          },
          "execution_count": 16
        }
      ]
    },
    {
      "cell_type": "markdown",
      "metadata": {
        "id": "wasoCsu_RMjN"
      },
      "source": [
        "Primero, hacemos una exploración preliminar de los datos. ¿Cuál sería la variable objetivo (target)?"
      ]
    },
    {
      "cell_type": "code",
      "metadata": {
        "id": "iFKYbHE9AFut",
        "outputId": "9a00a4c5-738a-4828-9476-071ddd4ddda8",
        "colab": {
          "base_uri": "https://localhost:8080/",
          "height": 304
        }
      },
      "source": [
        "dataset.describe()"
      ],
      "execution_count": null,
      "outputs": [
        {
          "output_type": "execute_result",
          "data": {
            "text/html": [
              "<div>\n",
              "<style scoped>\n",
              "    .dataframe tbody tr th:only-of-type {\n",
              "        vertical-align: middle;\n",
              "    }\n",
              "\n",
              "    .dataframe tbody tr th {\n",
              "        vertical-align: top;\n",
              "    }\n",
              "\n",
              "    .dataframe thead th {\n",
              "        text-align: right;\n",
              "    }\n",
              "</style>\n",
              "<table border=\"1\" class=\"dataframe\">\n",
              "  <thead>\n",
              "    <tr style=\"text-align: right;\">\n",
              "      <th></th>\n",
              "      <th>fixed_acidity</th>\n",
              "      <th>volatile_acidity</th>\n",
              "      <th>citric_acid</th>\n",
              "      <th>residual_sugar</th>\n",
              "      <th>chlorides</th>\n",
              "      <th>free_sulfur_dioxide</th>\n",
              "      <th>total_sulfur_dioxide</th>\n",
              "      <th>density</th>\n",
              "      <th>pH</th>\n",
              "      <th>sulphates</th>\n",
              "      <th>alcohol</th>\n",
              "      <th>quality</th>\n",
              "    </tr>\n",
              "  </thead>\n",
              "  <tbody>\n",
              "    <tr>\n",
              "      <th>count</th>\n",
              "      <td>4898.000000</td>\n",
              "      <td>4898.000000</td>\n",
              "      <td>4898.000000</td>\n",
              "      <td>4898.000000</td>\n",
              "      <td>4898.000000</td>\n",
              "      <td>4898.000000</td>\n",
              "      <td>4898.000000</td>\n",
              "      <td>4898.000000</td>\n",
              "      <td>4898.000000</td>\n",
              "      <td>4898.000000</td>\n",
              "      <td>4898.000000</td>\n",
              "      <td>4898.000000</td>\n",
              "    </tr>\n",
              "    <tr>\n",
              "      <th>mean</th>\n",
              "      <td>6.854788</td>\n",
              "      <td>0.278241</td>\n",
              "      <td>0.334192</td>\n",
              "      <td>6.391415</td>\n",
              "      <td>0.045772</td>\n",
              "      <td>35.308085</td>\n",
              "      <td>138.360657</td>\n",
              "      <td>0.994027</td>\n",
              "      <td>3.188267</td>\n",
              "      <td>0.489847</td>\n",
              "      <td>10.514267</td>\n",
              "      <td>5.877909</td>\n",
              "    </tr>\n",
              "    <tr>\n",
              "      <th>std</th>\n",
              "      <td>0.843868</td>\n",
              "      <td>0.100795</td>\n",
              "      <td>0.121020</td>\n",
              "      <td>5.072058</td>\n",
              "      <td>0.021848</td>\n",
              "      <td>17.007137</td>\n",
              "      <td>42.498065</td>\n",
              "      <td>0.002991</td>\n",
              "      <td>0.151001</td>\n",
              "      <td>0.114126</td>\n",
              "      <td>1.230621</td>\n",
              "      <td>0.885639</td>\n",
              "    </tr>\n",
              "    <tr>\n",
              "      <th>min</th>\n",
              "      <td>3.800000</td>\n",
              "      <td>0.080000</td>\n",
              "      <td>0.000000</td>\n",
              "      <td>0.600000</td>\n",
              "      <td>0.009000</td>\n",
              "      <td>2.000000</td>\n",
              "      <td>9.000000</td>\n",
              "      <td>0.987110</td>\n",
              "      <td>2.720000</td>\n",
              "      <td>0.220000</td>\n",
              "      <td>8.000000</td>\n",
              "      <td>3.000000</td>\n",
              "    </tr>\n",
              "    <tr>\n",
              "      <th>25%</th>\n",
              "      <td>6.300000</td>\n",
              "      <td>0.210000</td>\n",
              "      <td>0.270000</td>\n",
              "      <td>1.700000</td>\n",
              "      <td>0.036000</td>\n",
              "      <td>23.000000</td>\n",
              "      <td>108.000000</td>\n",
              "      <td>0.991723</td>\n",
              "      <td>3.090000</td>\n",
              "      <td>0.410000</td>\n",
              "      <td>9.500000</td>\n",
              "      <td>5.000000</td>\n",
              "    </tr>\n",
              "    <tr>\n",
              "      <th>50%</th>\n",
              "      <td>6.800000</td>\n",
              "      <td>0.260000</td>\n",
              "      <td>0.320000</td>\n",
              "      <td>5.200000</td>\n",
              "      <td>0.043000</td>\n",
              "      <td>34.000000</td>\n",
              "      <td>134.000000</td>\n",
              "      <td>0.993740</td>\n",
              "      <td>3.180000</td>\n",
              "      <td>0.470000</td>\n",
              "      <td>10.400000</td>\n",
              "      <td>6.000000</td>\n",
              "    </tr>\n",
              "    <tr>\n",
              "      <th>75%</th>\n",
              "      <td>7.300000</td>\n",
              "      <td>0.320000</td>\n",
              "      <td>0.390000</td>\n",
              "      <td>9.900000</td>\n",
              "      <td>0.050000</td>\n",
              "      <td>46.000000</td>\n",
              "      <td>167.000000</td>\n",
              "      <td>0.996100</td>\n",
              "      <td>3.280000</td>\n",
              "      <td>0.550000</td>\n",
              "      <td>11.400000</td>\n",
              "      <td>6.000000</td>\n",
              "    </tr>\n",
              "    <tr>\n",
              "      <th>max</th>\n",
              "      <td>14.200000</td>\n",
              "      <td>1.100000</td>\n",
              "      <td>1.660000</td>\n",
              "      <td>65.800000</td>\n",
              "      <td>0.346000</td>\n",
              "      <td>289.000000</td>\n",
              "      <td>440.000000</td>\n",
              "      <td>1.038980</td>\n",
              "      <td>3.820000</td>\n",
              "      <td>1.080000</td>\n",
              "      <td>14.200000</td>\n",
              "      <td>9.000000</td>\n",
              "    </tr>\n",
              "  </tbody>\n",
              "</table>\n",
              "</div>"
            ],
            "text/plain": [
              "       fixed_acidity  volatile_acidity  ...      alcohol      quality\n",
              "count    4898.000000       4898.000000  ...  4898.000000  4898.000000\n",
              "mean        6.854788          0.278241  ...    10.514267     5.877909\n",
              "std         0.843868          0.100795  ...     1.230621     0.885639\n",
              "min         3.800000          0.080000  ...     8.000000     3.000000\n",
              "25%         6.300000          0.210000  ...     9.500000     5.000000\n",
              "50%         6.800000          0.260000  ...    10.400000     6.000000\n",
              "75%         7.300000          0.320000  ...    11.400000     6.000000\n",
              "max        14.200000          1.100000  ...    14.200000     9.000000\n",
              "\n",
              "[8 rows x 12 columns]"
            ]
          },
          "metadata": {
            "tags": []
          },
          "execution_count": 17
        }
      ]
    },
    {
      "cell_type": "code",
      "metadata": {
        "id": "X1wfol5-oFPN",
        "outputId": "b99224c4-2ce6-47ba-834d-ec67da6bb2cd",
        "colab": {
          "base_uri": "https://localhost:8080/",
          "height": 34
        }
      },
      "source": [
        "targets = dataset.quality #labels en un numpy array\n",
        "targets = np.reshape(targets.values,(targets.shape[0],1))\n",
        "targets.shape"
      ],
      "execution_count": null,
      "outputs": [
        {
          "output_type": "execute_result",
          "data": {
            "text/plain": [
              "(4898, 1)"
            ]
          },
          "metadata": {
            "tags": []
          },
          "execution_count": 19
        }
      ]
    },
    {
      "cell_type": "code",
      "metadata": {
        "id": "er2chQT4oWM5",
        "outputId": "b33d4e46-431b-438f-d4f7-eb58d16d7104",
        "colab": {
          "base_uri": "https://localhost:8080/",
          "height": 84
        }
      },
      "source": [
        "feature_names = dataset.drop('quality', axis=1).columns #vemos los nombres de los atributos\n",
        "feature_names"
      ],
      "execution_count": null,
      "outputs": [
        {
          "output_type": "execute_result",
          "data": {
            "text/plain": [
              "Index(['fixed_acidity', 'volatile_acidity', 'citric_acid', 'residual_sugar',\n",
              "       'chlorides', 'free_sulfur_dioxide', 'total_sulfur_dioxide', 'density',\n",
              "       'pH', 'sulphates', 'alcohol'],\n",
              "      dtype='object')"
            ]
          },
          "metadata": {
            "tags": []
          },
          "execution_count": 21
        }
      ]
    },
    {
      "cell_type": "code",
      "metadata": {
        "id": "kHQ3rhekpilS"
      },
      "source": [
        " #seleccionamos todas las filas, pero solamente las columnas cuyas etiquetas estén en la variable features\n",
        "x = dataset.loc[:, feature_names].values\n",
        "\n",
        "#la siguiente fila es un auto-verificador para que vean si realizaron correctamente la extracción\n",
        "assert x.shape == (4898, 11), \"La extracción de los datos para aplicar StandardScaler no está bien ejecutada\""
      ],
      "execution_count": null,
      "outputs": []
    },
    {
      "cell_type": "markdown",
      "metadata": {
        "id": "YVj6NzQ2RjIb"
      },
      "source": [
        "Revisamos si es que hay valores faltantes (null), para determinar si se requiere hacer una imputación o no."
      ]
    },
    {
      "cell_type": "code",
      "metadata": {
        "id": "RhE_aw2dAFu0",
        "outputId": "81a15a07-4e33-4c5e-9c67-bc2c28eb8d4f",
        "colab": {
          "base_uri": "https://localhost:8080/",
          "height": 235
        }
      },
      "source": [
        "dataset.isna().sum(axis=0)"
      ],
      "execution_count": null,
      "outputs": [
        {
          "output_type": "execute_result",
          "data": {
            "text/plain": [
              "fixed_acidity           0\n",
              "volatile_acidity        0\n",
              "citric_acid             0\n",
              "residual_sugar          0\n",
              "chlorides               0\n",
              "free_sulfur_dioxide     0\n",
              "total_sulfur_dioxide    0\n",
              "density                 0\n",
              "pH                      0\n",
              "sulphates               0\n",
              "alcohol                 0\n",
              "quality                 0\n",
              "dtype: int64"
            ]
          },
          "metadata": {
            "tags": []
          },
          "execution_count": 24
        }
      ]
    },
    {
      "cell_type": "markdown",
      "metadata": {
        "id": "Z5yaZtMPT_Y0"
      },
      "source": [
        "Se observa que no se tienen datos faltantes. "
      ]
    },
    {
      "cell_type": "markdown",
      "metadata": {
        "id": "JO-3q1bAKi1t"
      },
      "source": [
        "## 1) Matriz de correlación"
      ]
    },
    {
      "cell_type": "code",
      "metadata": {
        "id": "bHspDhwFKlyi"
      },
      "source": [
        "#inserte su código aquí. muestre las correlaciones de las variables antes de hacer el preprocesamiento"
      ],
      "execution_count": null,
      "outputs": []
    },
    {
      "cell_type": "markdown",
      "metadata": {
        "id": "Y2ex3n2_K09w"
      },
      "source": [
        "## 2) Preprocesamiento"
      ]
    },
    {
      "cell_type": "markdown",
      "metadata": {
        "id": "1eqkntla8dwS"
      },
      "source": [
        "### Revisando balanceo de los datos"
      ]
    },
    {
      "cell_type": "code",
      "metadata": {
        "id": "3l9JxBYN8flh",
        "outputId": "f21cf8d6-d8a7-428b-beee-bfc0e0714c29",
        "colab": {
          "base_uri": "https://localhost:8080/",
          "height": 151
        }
      },
      "source": [
        "dataset.quality.value_counts()"
      ],
      "execution_count": null,
      "outputs": [
        {
          "output_type": "execute_result",
          "data": {
            "text/plain": [
              "6    2198\n",
              "5    1457\n",
              "7     880\n",
              "8     175\n",
              "4     163\n",
              "3      20\n",
              "9       5\n",
              "Name: quality, dtype: int64"
            ]
          },
          "metadata": {
            "tags": []
          },
          "execution_count": 44
        }
      ]
    },
    {
      "cell_type": "markdown",
      "metadata": {
        "id": "tjATAnoX8zi_"
      },
      "source": [
        "### Simplificación del problema de predicción\n",
        "Se pide extraer un subconjunto de datos, de manera que el nuevo dataset esté conformado por las **5** categorías con mayor cantidad de muestras (que corresponden a un atributo `quality` con valor 4, 5, 6, 7 y 8). "
      ]
    },
    {
      "cell_type": "code",
      "metadata": {
        "id": "axHiGDsBKn03",
        "outputId": "b6874754-256b-4e20-bc82-98ce0a4571ae",
        "colab": {
          "base_uri": "https://localhost:8080/",
          "height": 35
        }
      },
      "source": [
        "dataset.columns[11]"
      ],
      "execution_count": null,
      "outputs": [
        {
          "output_type": "execute_result",
          "data": {
            "application/vnd.google.colaboratory.intrinsic+json": {
              "type": "string"
            },
            "text/plain": [
              "'quality'"
            ]
          },
          "metadata": {
            "tags": []
          },
          "execution_count": 46
        }
      ]
    },
    {
      "cell_type": "code",
      "metadata": {
        "id": "2baZUTHR9zUZ",
        "outputId": "de0ded32-516e-4352-dd2d-828aff9c0968",
        "colab": {
          "base_uri": "https://localhost:8080/",
          "height": 118
        }
      },
      "source": [
        "\n",
        "## TO DO ##\n",
        "#sub_data = ?\n",
        "###########\n",
        "\n",
        "sub_data.quality.value_counts()"
      ],
      "execution_count": null,
      "outputs": [
        {
          "output_type": "execute_result",
          "data": {
            "text/plain": [
              "6    2198\n",
              "5    1457\n",
              "7     880\n",
              "8     175\n",
              "4     163\n",
              "Name: quality, dtype: int64"
            ]
          },
          "metadata": {
            "tags": []
          },
          "execution_count": 119
        }
      ]
    },
    {
      "cell_type": "code",
      "metadata": {
        "id": "sUcPnn2_9szA",
        "outputId": "e51a4509-6123-4108-95de-e932c9ddae40",
        "colab": {
          "base_uri": "https://localhost:8080/",
          "height": 34
        }
      },
      "source": [
        "sub_data.shape"
      ],
      "execution_count": null,
      "outputs": [
        {
          "output_type": "execute_result",
          "data": {
            "text/plain": [
              "(4873, 12)"
            ]
          },
          "metadata": {
            "tags": []
          },
          "execution_count": 120
        }
      ]
    },
    {
      "cell_type": "code",
      "metadata": {
        "id": "ooXLsHOT_lTK"
      },
      "source": [
        "assert (sub_data.shape[0]==4873),'La cantidad de filas es incorrecta'\n",
        "assert (sub_data.shape[1]==12),'La cantidad de columnas es incorrecta'"
      ],
      "execution_count": null,
      "outputs": []
    },
    {
      "cell_type": "markdown",
      "metadata": {
        "id": "DGbgkR34fOuU"
      },
      "source": [
        "### Separación del dataset en conjuntos de entrenamiento (train) y prueba (test)\n",
        "La proporción del dataset que debe estar en el subconjunto de prueba debe ser de la **quinta parte** del total y `random_state=123`."
      ]
    },
    {
      "cell_type": "code",
      "metadata": {
        "id": "ECJv9IQDrIFO"
      },
      "source": [
        "X_all = #dropeamos la columna con la variable a predecir (target)\n",
        "y_all =  #nos quedamos únicamente con la columna con la variable a predecir"
      ],
      "execution_count": null,
      "outputs": []
    },
    {
      "cell_type": "code",
      "metadata": {
        "id": "pPYOrtSarIFQ"
      },
      "source": [
        "\n",
        "X_train, X_test, y_train, y_test = ..."
      ],
      "execution_count": null,
      "outputs": []
    },
    {
      "cell_type": "code",
      "metadata": {
        "id": "yZQRyMxOlR_w",
        "outputId": "fe7b05d7-626f-4c5a-fc32-8f4ec9870da1",
        "colab": {
          "base_uri": "https://localhost:8080/",
          "height": 34
        }
      },
      "source": [
        "X_train.shape"
      ],
      "execution_count": null,
      "outputs": [
        {
          "output_type": "execute_result",
          "data": {
            "text/plain": [
              "(3898, 11)"
            ]
          },
          "metadata": {
            "tags": []
          },
          "execution_count": 124
        }
      ]
    },
    {
      "cell_type": "code",
      "metadata": {
        "id": "VGTCH6tIlUfE"
      },
      "source": [
        "assert (X_train.shape[0]==3898),'La cantidad de datos es incorrecta'\n",
        "assert (X_train.shape[1]==11),'La cantidad de características es incorrecta'"
      ],
      "execution_count": null,
      "outputs": []
    },
    {
      "cell_type": "markdown",
      "metadata": {
        "id": "Vr3DnPP3nvON"
      },
      "source": [
        "## 3) Árbol de Clasificación"
      ]
    },
    {
      "cell_type": "code",
      "metadata": {
        "id": "lNwTEBj8n2rk",
        "cellView": "form"
      },
      "source": [
        "#@title Función para mostrar el árbol de decisión\n",
        "# No es necesario que modifique esta función!\n",
        "def draw_tree(tree, df):\n",
        "    import graphviz\n",
        "    from sklearn.tree import export_graphviz\n",
        "    s = export_graphviz(tree, out_file=None, feature_names=df.columns, filled=True)\n",
        "    return graphviz.Source(s)"
      ],
      "execution_count": null,
      "outputs": []
    },
    {
      "cell_type": "code",
      "metadata": {
        "id": "nqoUra9sn-MF",
        "outputId": "0d5dc313-43f0-4519-a11f-05da856cbeb4",
        "colab": {
          "base_uri": "https://localhost:8080/",
          "height": 118
        }
      },
      "source": [
        "from sklearn.tree import DecisionTreeClassifier\n",
        "# Entrenamos un arbol con poca profundidad, para visualizarlo cómodamente:\n",
        "m = DecisionTreeClassifier(max_depth=4, criterion='entropy')\n",
        "m.fit(X_train, y_train)"
      ],
      "execution_count": null,
      "outputs": [
        {
          "output_type": "execute_result",
          "data": {
            "text/plain": [
              "DecisionTreeClassifier(ccp_alpha=0.0, class_weight=None, criterion='gini',\n",
              "                       max_depth=4, max_features=None, max_leaf_nodes=None,\n",
              "                       min_impurity_decrease=0.0, min_impurity_split=None,\n",
              "                       min_samples_leaf=1, min_samples_split=2,\n",
              "                       min_weight_fraction_leaf=0.0, presort='deprecated',\n",
              "                       random_state=None, splitter='best')"
            ]
          },
          "metadata": {
            "tags": []
          },
          "execution_count": 142
        }
      ]
    },
    {
      "cell_type": "code",
      "metadata": {
        "id": "XIw3Ff7R-zeX"
      },
      "source": [
        "indicePrueba = 27 \n",
        "muestraPrueba = X_test.iloc[indicePrueba]\n",
        "targetPrueba  = y_test.iloc[indicePrueba]"
      ],
      "execution_count": null,
      "outputs": []
    },
    {
      "cell_type": "code",
      "metadata": {
        "id": "WnGpZvNBBEfQ",
        "outputId": "3ab006e9-0438-4f99-b5c2-41af1b85d505",
        "colab": {
          "base_uri": "https://localhost:8080/",
          "height": 218
        }
      },
      "source": [
        "muestraPrueba"
      ],
      "execution_count": null,
      "outputs": [
        {
          "output_type": "execute_result",
          "data": {
            "text/plain": [
              "fixed_acidity             6.5000\n",
              "volatile_acidity          0.4100\n",
              "citric_acid               0.2400\n",
              "residual_sugar           14.0000\n",
              "chlorides                 0.0480\n",
              "free_sulfur_dioxide      24.0000\n",
              "total_sulfur_dioxide    113.0000\n",
              "density                   0.9982\n",
              "pH                        3.4400\n",
              "sulphates                 0.5300\n",
              "alcohol                   9.8000\n",
              "Name: 448, dtype: float64"
            ]
          },
          "metadata": {
            "tags": []
          },
          "execution_count": 144
        }
      ]
    },
    {
      "cell_type": "code",
      "metadata": {
        "id": "j6cfgjdQ_EzW",
        "outputId": "df63b0c8-580c-4ab6-93e5-d99668e7d2fa",
        "colab": {
          "base_uri": "https://localhost:8080/",
          "height": 34
        }
      },
      "source": [
        "#comparamos la predicción con el target que debería resultar\n",
        "m.predict(muestraPrueba.values.reshape(1, -1)), targetPrueba \n",
        "#como el modelo no es 100% perfecto, a veces no coinciden estos valores. Por ejm, probar con 23"
      ],
      "execution_count": null,
      "outputs": [
        {
          "output_type": "execute_result",
          "data": {
            "text/plain": [
              "(array([6]), 6)"
            ]
          },
          "metadata": {
            "tags": []
          },
          "execution_count": 145
        }
      ]
    },
    {
      "cell_type": "code",
      "metadata": {
        "id": "VTc5OsXioxHB",
        "outputId": "e742d7ba-fad8-4241-86c1-f5dbdae423fa",
        "colab": {
          "base_uri": "https://localhost:8080/",
          "height": 34
        }
      },
      "source": [
        "m.score(X_train, y_train)"
      ],
      "execution_count": null,
      "outputs": [
        {
          "output_type": "execute_result",
          "data": {
            "text/plain": [
              "0.5600307850179579"
            ]
          },
          "metadata": {
            "tags": []
          },
          "execution_count": 146
        }
      ]
    },
    {
      "cell_type": "code",
      "metadata": {
        "id": "ltNNpBcNot7P",
        "outputId": "d8fcda6a-6be7-458d-859e-2f74029ac87e",
        "colab": {
          "base_uri": "https://localhost:8080/",
          "height": 34
        }
      },
      "source": [
        "m.score(X_test, y_test)"
      ],
      "execution_count": null,
      "outputs": [
        {
          "output_type": "execute_result",
          "data": {
            "text/plain": [
              "0.5138461538461538"
            ]
          },
          "metadata": {
            "tags": []
          },
          "execution_count": 147
        }
      ]
    },
    {
      "cell_type": "code",
      "metadata": {
        "id": "EEikrvGGDG_X"
      },
      "source": [
        "X_train_np = X_train.values\n",
        "X_test_np  = X_test.values\n",
        "y_train_np = y_train.values\n",
        "y_test_np = y_test.values"
      ],
      "execution_count": null,
      "outputs": []
    },
    {
      "cell_type": "code",
      "metadata": {
        "id": "5twudLzBC1gT",
        "outputId": "ef0b10ab-d2a5-427a-90b3-4706b8d05456",
        "colab": {
          "base_uri": "https://localhost:8080/",
          "height": 571
        }
      },
      "source": [
        "#@title Interpretación de la estructura interna del árbol\n",
        "estimator = m\n",
        "\n",
        "# Adaptado de: https://scikit-learn.org/stable/auto_examples/tree/plot_unveil_tree_structure.html\n",
        "\n",
        "# The decision estimator has an attribute called tree_  which stores the entire\n",
        "# tree structure and allows access to low level attributes. The binary tree\n",
        "# tree_ is represented as a number of parallel arrays. The i-th element of each\n",
        "# array holds information about the node `i`. Node 0 is the tree's root. NOTE:\n",
        "# Some of the arrays only apply to either leaves or split nodes, resp. In this\n",
        "# case the values of nodes of the other type are arbitrary!\n",
        "#\n",
        "# Among those arrays, we have:\n",
        "#   - left_child, id of the left child of the node\n",
        "#   - right_child, id of the right child of the node\n",
        "#   - feature, feature used for splitting the node\n",
        "#   - threshold, threshold value at the node\n",
        "#\n",
        "\n",
        "# Using those arrays, we can parse the tree structure:\n",
        "\n",
        "n_nodes = estimator.tree_.node_count\n",
        "children_left = estimator.tree_.children_left\n",
        "children_right = estimator.tree_.children_right\n",
        "feature = estimator.tree_.feature\n",
        "threshold = estimator.tree_.threshold\n",
        "\n",
        "\n",
        "# The tree structure can be traversed to compute various properties such\n",
        "# as the depth of each node and whether or not it is a leaf.\n",
        "node_depth = np.zeros(shape=n_nodes, dtype=np.int64)\n",
        "is_leaves = np.zeros(shape=n_nodes, dtype=bool)\n",
        "stack = [(0, -1)]  # seed is the root node id and its parent depth\n",
        "while len(stack) > 0:\n",
        "    node_id, parent_depth = stack.pop()\n",
        "    node_depth[node_id] = parent_depth + 1\n",
        "\n",
        "    # If we have a test node\n",
        "    if (children_left[node_id] != children_right[node_id]):\n",
        "        stack.append((children_left[node_id], parent_depth + 1))\n",
        "        stack.append((children_right[node_id], parent_depth + 1))\n",
        "    else:\n",
        "        is_leaves[node_id] = True\n",
        "\n",
        "print(\"The binary tree structure has %s nodes and has \"\n",
        "      \"the following tree structure:\"\n",
        "      % n_nodes)\n",
        "for i in range(n_nodes):\n",
        "    if is_leaves[i]:\n",
        "        print(\"%snode=%s leaf node.\" % (node_depth[i] * \"\\t\", i))\n",
        "    else:\n",
        "        print(\"%snode=%s test node: go to node %s if X[:, %s] (%s) <= %s else to \"\n",
        "              \"node %s.\"\n",
        "              % (node_depth[i] * \"\\t\",\n",
        "                 i,\n",
        "                 children_left[i],\n",
        "                 feature[i],\n",
        "                 X_train.columns[feature[i]],\n",
        "                 threshold[i],\n",
        "                 children_right[i],\n",
        "                 ))\n",
        "print()"
      ],
      "execution_count": null,
      "outputs": [
        {
          "output_type": "stream",
          "text": [
            "The binary tree structure has 31 nodes and has the following tree structure:\n",
            "node=0 test node: go to node 1 if X[:, 10] (alcohol) <= 10.849999904632568 else to node 16.\n",
            "\tnode=1 test node: go to node 2 if X[:, 1] (volatile_acidity) <= 0.23749999701976776 else to node 9.\n",
            "\t\tnode=2 test node: go to node 3 if X[:, 5] (free_sulfur_dioxide) <= 13.5 else to node 6.\n",
            "\t\t\tnode=3 test node: go to node 4 if X[:, 3] (residual_sugar) <= 3.100000023841858 else to node 5.\n",
            "\t\t\t\tnode=4 leaf node.\n",
            "\t\t\t\tnode=5 leaf node.\n",
            "\t\t\tnode=6 test node: go to node 7 if X[:, 10] (alcohol) <= 9.050000190734863 else to node 8.\n",
            "\t\t\t\tnode=7 leaf node.\n",
            "\t\t\t\tnode=8 leaf node.\n",
            "\t\tnode=9 test node: go to node 10 if X[:, 10] (alcohol) <= 9.775000095367432 else to node 13.\n",
            "\t\t\tnode=10 test node: go to node 11 if X[:, 1] (volatile_acidity) <= 0.30250000953674316 else to node 12.\n",
            "\t\t\t\tnode=11 leaf node.\n",
            "\t\t\t\tnode=12 leaf node.\n",
            "\t\t\tnode=13 test node: go to node 14 if X[:, 5] (free_sulfur_dioxide) <= 17.5 else to node 15.\n",
            "\t\t\t\tnode=14 leaf node.\n",
            "\t\t\t\tnode=15 leaf node.\n",
            "\tnode=16 test node: go to node 17 if X[:, 10] (alcohol) <= 12.550000190734863 else to node 24.\n",
            "\t\tnode=17 test node: go to node 18 if X[:, 5] (free_sulfur_dioxide) <= 11.5 else to node 21.\n",
            "\t\t\tnode=18 test node: go to node 19 if X[:, 2] (citric_acid) <= 0.22500000149011612 else to node 20.\n",
            "\t\t\t\tnode=19 leaf node.\n",
            "\t\t\t\tnode=20 leaf node.\n",
            "\t\t\tnode=21 test node: go to node 22 if X[:, 9] (sulphates) <= 0.5649999976158142 else to node 23.\n",
            "\t\t\t\tnode=22 leaf node.\n",
            "\t\t\t\tnode=23 leaf node.\n",
            "\t\tnode=24 test node: go to node 25 if X[:, 4] (chlorides) <= 0.045500000938773155 else to node 28.\n",
            "\t\t\tnode=25 test node: go to node 26 if X[:, 2] (citric_acid) <= 0.39499999582767487 else to node 27.\n",
            "\t\t\t\tnode=26 leaf node.\n",
            "\t\t\t\tnode=27 leaf node.\n",
            "\t\t\tnode=28 test node: go to node 29 if X[:, 1] (volatile_acidity) <= 0.29500000178813934 else to node 30.\n",
            "\t\t\t\tnode=29 leaf node.\n",
            "\t\t\t\tnode=30 leaf node.\n",
            "\n"
          ],
          "name": "stdout"
        }
      ]
    },
    {
      "cell_type": "code",
      "metadata": {
        "id": "_onFJCS_M_U7",
        "outputId": "b22a6497-b644-418e-acbe-a2298029fe11",
        "colab": {
          "base_uri": "https://localhost:8080/",
          "height": 118
        }
      },
      "source": [
        "y_train.value_counts().sort_index()"
      ],
      "execution_count": null,
      "outputs": [
        {
          "output_type": "execute_result",
          "data": {
            "text/plain": [
              "4     127\n",
              "5    1170\n",
              "6    1769\n",
              "7     701\n",
              "8     131\n",
              "Name: quality, dtype: int64"
            ]
          },
          "metadata": {
            "tags": []
          },
          "execution_count": 150
        }
      ]
    },
    {
      "cell_type": "code",
      "metadata": {
        "id": "oTG5Ihbco0D0",
        "outputId": "d69e94a8-a2ae-4291-9888-0dfb36db29f1",
        "colab": {
          "base_uri": "https://localhost:8080/",
          "height": 677
        }
      },
      "source": [
        "draw_tree(m, X_test) #hover leaf to see node number"
      ],
      "execution_count": null,
      "outputs": [
        {
          "output_type": "execute_result",
          "data": {
            "text/plain": [
              "<graphviz.files.Source at 0x7ff5200577b8>"
            ],
            "image/svg+xml": "<?xml version=\"1.0\" encoding=\"UTF-8\" standalone=\"no\"?>\n<!DOCTYPE svg PUBLIC \"-//W3C//DTD SVG 1.1//EN\"\n \"http://www.w3.org/Graphics/SVG/1.1/DTD/svg11.dtd\">\n<!-- Generated by graphviz version 2.40.1 (20161225.0304)\n -->\n<!-- Title: Tree Pages: 1 -->\n<svg width=\"2921pt\" height=\"477pt\"\n viewBox=\"0.00 0.00 2920.50 477.00\" xmlns=\"http://www.w3.org/2000/svg\" xmlns:xlink=\"http://www.w3.org/1999/xlink\">\n<g id=\"graph0\" class=\"graph\" transform=\"scale(1 1) rotate(0) translate(4 473)\">\n<title>Tree</title>\n<polygon fill=\"#ffffff\" stroke=\"transparent\" points=\"-4,4 -4,-473 2916.5,-473 2916.5,4 -4,4\"/>\n<!-- 0 -->\n<g id=\"node1\" class=\"node\">\n<title>0</title>\n<polygon fill=\"#d4f9f2\" stroke=\"#000000\" points=\"1591,-469 1362,-469 1362,-401 1591,-401 1591,-469\"/>\n<text text-anchor=\"middle\" x=\"1476.5\" y=\"-453.8\" font-family=\"Times,serif\" font-size=\"14.00\" fill=\"#000000\">alcohol &lt;= 10.85</text>\n<text text-anchor=\"middle\" x=\"1476.5\" y=\"-438.8\" font-family=\"Times,serif\" font-size=\"14.00\" fill=\"#000000\">gini = 0.669</text>\n<text text-anchor=\"middle\" x=\"1476.5\" y=\"-423.8\" font-family=\"Times,serif\" font-size=\"14.00\" fill=\"#000000\">samples = 3898</text>\n<text text-anchor=\"middle\" x=\"1476.5\" y=\"-408.8\" font-family=\"Times,serif\" font-size=\"14.00\" fill=\"#000000\">value = [127, 1170, 1769, 701, 131]</text>\n</g>\n<!-- 1 -->\n<g id=\"node2\" class=\"node\">\n<title>1</title>\n<polygon fill=\"#f5fefc\" stroke=\"#000000\" points=\"1221,-365 1006,-365 1006,-297 1221,-297 1221,-365\"/>\n<text text-anchor=\"middle\" x=\"1113.5\" y=\"-349.8\" font-family=\"Times,serif\" font-size=\"14.00\" fill=\"#000000\">volatile_acidity &lt;= 0.237</text>\n<text text-anchor=\"middle\" x=\"1113.5\" y=\"-334.8\" font-family=\"Times,serif\" font-size=\"14.00\" fill=\"#000000\">gini = 0.619</text>\n<text text-anchor=\"middle\" x=\"1113.5\" y=\"-319.8\" font-family=\"Times,serif\" font-size=\"14.00\" fill=\"#000000\">samples = 2466</text>\n<text text-anchor=\"middle\" x=\"1113.5\" y=\"-304.8\" font-family=\"Times,serif\" font-size=\"14.00\" fill=\"#000000\">value = [98, 1025, 1099, 218, 26]</text>\n</g>\n<!-- 0&#45;&gt;1 -->\n<g id=\"edge1\" class=\"edge\">\n<title>0&#45;&gt;1</title>\n<path fill=\"none\" stroke=\"#000000\" d=\"M1361.6445,-402.0938C1319.925,-390.141 1272.75,-376.6253 1230.8203,-364.6124\"/>\n<polygon fill=\"#000000\" stroke=\"#000000\" points=\"1231.6997,-361.2236 1221.1225,-361.834 1229.7717,-367.9529 1231.6997,-361.2236\"/>\n<text text-anchor=\"middle\" x=\"1233.2477\" y=\"-379.9968\" font-family=\"Times,serif\" font-size=\"14.00\" fill=\"#000000\">True</text>\n</g>\n<!-- 16 -->\n<g id=\"node17\" class=\"node\">\n<title>16</title>\n<polygon fill=\"#d8faf4\" stroke=\"#000000\" points=\"1948,-365 1741,-365 1741,-297 1948,-297 1948,-365\"/>\n<text text-anchor=\"middle\" x=\"1844.5\" y=\"-349.8\" font-family=\"Times,serif\" font-size=\"14.00\" fill=\"#000000\">alcohol &lt;= 12.55</text>\n<text text-anchor=\"middle\" x=\"1844.5\" y=\"-334.8\" font-family=\"Times,serif\" font-size=\"14.00\" fill=\"#000000\">gini = 0.651</text>\n<text text-anchor=\"middle\" x=\"1844.5\" y=\"-319.8\" font-family=\"Times,serif\" font-size=\"14.00\" fill=\"#000000\">samples = 1432</text>\n<text text-anchor=\"middle\" x=\"1844.5\" y=\"-304.8\" font-family=\"Times,serif\" font-size=\"14.00\" fill=\"#000000\">value = [29, 145, 670, 483, 105]</text>\n</g>\n<!-- 0&#45;&gt;16 -->\n<g id=\"edge16\" class=\"edge\">\n<title>0&#45;&gt;16</title>\n<path fill=\"none\" stroke=\"#000000\" d=\"M1591.172,-402.5927C1635.7821,-389.9855 1686.7604,-375.5786 1731.2351,-363.0097\"/>\n<polygon fill=\"#000000\" stroke=\"#000000\" points=\"1732.2437,-366.3618 1740.915,-360.274 1730.34,-359.6256 1732.2437,-366.3618\"/>\n<text text-anchor=\"middle\" x=\"1728.7111\" y=\"-378.393\" font-family=\"Times,serif\" font-size=\"14.00\" fill=\"#000000\">False</text>\n</g>\n<!-- 2 -->\n<g id=\"node3\" class=\"node\">\n<title>2</title>\n<polygon fill=\"#a9f4e6\" stroke=\"#000000\" points=\"624.5,-261 424.5,-261 424.5,-193 624.5,-193 624.5,-261\"/>\n<text text-anchor=\"middle\" x=\"524.5\" y=\"-245.8\" font-family=\"Times,serif\" font-size=\"14.00\" fill=\"#000000\">free_sulfur_dioxide &lt;= 13.5</text>\n<text text-anchor=\"middle\" x=\"524.5\" y=\"-230.8\" font-family=\"Times,serif\" font-size=\"14.00\" fill=\"#000000\">gini = 0.597</text>\n<text text-anchor=\"middle\" x=\"524.5\" y=\"-215.8\" font-family=\"Times,serif\" font-size=\"14.00\" fill=\"#000000\">samples = 912</text>\n<text text-anchor=\"middle\" x=\"524.5\" y=\"-200.8\" font-family=\"Times,serif\" font-size=\"14.00\" fill=\"#000000\">value = [15, 213, 518, 144, 22]</text>\n</g>\n<!-- 1&#45;&gt;2 -->\n<g id=\"edge2\" class=\"edge\">\n<title>1&#45;&gt;2</title>\n<path fill=\"none\" stroke=\"#000000\" d=\"M1005.811,-311.9853C900.4912,-293.3889 740.8835,-265.2069 634.7084,-246.4595\"/>\n<polygon fill=\"#000000\" stroke=\"#000000\" points=\"635.06,-242.9676 624.6038,-244.6754 633.8428,-249.8609 635.06,-242.9676\"/>\n</g>\n<!-- 9 -->\n<g id=\"node10\" class=\"node\">\n<title>9</title>\n<polygon fill=\"#e0f9d0\" stroke=\"#000000\" points=\"1206,-261 1021,-261 1021,-193 1206,-193 1206,-261\"/>\n<text text-anchor=\"middle\" x=\"1113.5\" y=\"-245.8\" font-family=\"Times,serif\" font-size=\"14.00\" fill=\"#000000\">alcohol &lt;= 9.775</text>\n<text text-anchor=\"middle\" x=\"1113.5\" y=\"-230.8\" font-family=\"Times,serif\" font-size=\"14.00\" fill=\"#000000\">gini = 0.582</text>\n<text text-anchor=\"middle\" x=\"1113.5\" y=\"-215.8\" font-family=\"Times,serif\" font-size=\"14.00\" fill=\"#000000\">samples = 1554</text>\n<text text-anchor=\"middle\" x=\"1113.5\" y=\"-200.8\" font-family=\"Times,serif\" font-size=\"14.00\" fill=\"#000000\">value = [83, 812, 581, 74, 4]</text>\n</g>\n<!-- 1&#45;&gt;9 -->\n<g id=\"edge9\" class=\"edge\">\n<title>1&#45;&gt;9</title>\n<path fill=\"none\" stroke=\"#000000\" d=\"M1113.5,-296.9465C1113.5,-288.776 1113.5,-279.9318 1113.5,-271.3697\"/>\n<polygon fill=\"#000000\" stroke=\"#000000\" points=\"1117.0001,-271.13 1113.5,-261.13 1110.0001,-271.13 1117.0001,-271.13\"/>\n</g>\n<!-- 3 -->\n<g id=\"node4\" class=\"node\">\n<title>3</title>\n<polygon fill=\"#caf5b0\" stroke=\"#000000\" points=\"316,-157 161,-157 161,-89 316,-89 316,-157\"/>\n<text text-anchor=\"middle\" x=\"238.5\" y=\"-141.8\" font-family=\"Times,serif\" font-size=\"14.00\" fill=\"#000000\">residual_sugar &lt;= 3.1</text>\n<text text-anchor=\"middle\" x=\"238.5\" y=\"-126.8\" font-family=\"Times,serif\" font-size=\"14.00\" fill=\"#000000\">gini = 0.538</text>\n<text text-anchor=\"middle\" x=\"238.5\" y=\"-111.8\" font-family=\"Times,serif\" font-size=\"14.00\" fill=\"#000000\">samples = 37</text>\n<text text-anchor=\"middle\" x=\"238.5\" y=\"-96.8\" font-family=\"Times,serif\" font-size=\"14.00\" fill=\"#000000\">value = [2, 22, 12, 1, 0]</text>\n</g>\n<!-- 2&#45;&gt;3 -->\n<g id=\"edge3\" class=\"edge\">\n<title>2&#45;&gt;3</title>\n<path fill=\"none\" stroke=\"#000000\" d=\"M430.8529,-192.9465C397.0466,-180.6533 359.0459,-166.8349 325.8042,-154.747\"/>\n<polygon fill=\"#000000\" stroke=\"#000000\" points=\"326.7019,-151.3493 316.1079,-151.221 324.3097,-157.9278 326.7019,-151.3493\"/>\n</g>\n<!-- 6 -->\n<g id=\"node7\" class=\"node\">\n<title>6</title>\n<polygon fill=\"#a4f3e4\" stroke=\"#000000\" points=\"624.5,-157 424.5,-157 424.5,-89 624.5,-89 624.5,-157\"/>\n<text text-anchor=\"middle\" x=\"524.5\" y=\"-141.8\" font-family=\"Times,serif\" font-size=\"14.00\" fill=\"#000000\">alcohol &lt;= 9.05</text>\n<text text-anchor=\"middle\" x=\"524.5\" y=\"-126.8\" font-family=\"Times,serif\" font-size=\"14.00\" fill=\"#000000\">gini = 0.59</text>\n<text text-anchor=\"middle\" x=\"524.5\" y=\"-111.8\" font-family=\"Times,serif\" font-size=\"14.00\" fill=\"#000000\">samples = 875</text>\n<text text-anchor=\"middle\" x=\"524.5\" y=\"-96.8\" font-family=\"Times,serif\" font-size=\"14.00\" fill=\"#000000\">value = [13, 191, 506, 143, 22]</text>\n</g>\n<!-- 2&#45;&gt;6 -->\n<g id=\"edge6\" class=\"edge\">\n<title>2&#45;&gt;6</title>\n<path fill=\"none\" stroke=\"#000000\" d=\"M524.5,-192.9465C524.5,-184.776 524.5,-175.9318 524.5,-167.3697\"/>\n<polygon fill=\"#000000\" stroke=\"#000000\" points=\"528.0001,-167.13 524.5,-157.13 521.0001,-167.13 528.0001,-167.13\"/>\n</g>\n<!-- 4 -->\n<g id=\"node5\" class=\"node\">\n<title>4</title>\n<polygon fill=\"#93ea5d\" stroke=\"#000000\" points=\"147,-53 0,-53 0,0 147,0 147,-53\"/>\n<text text-anchor=\"middle\" x=\"73.5\" y=\"-37.8\" font-family=\"Times,serif\" font-size=\"14.00\" fill=\"#000000\">gini = 0.295</text>\n<text text-anchor=\"middle\" x=\"73.5\" y=\"-22.8\" font-family=\"Times,serif\" font-size=\"14.00\" fill=\"#000000\">samples = 24</text>\n<text text-anchor=\"middle\" x=\"73.5\" y=\"-7.8\" font-family=\"Times,serif\" font-size=\"14.00\" fill=\"#000000\">value = [1, 20, 2, 1, 0]</text>\n</g>\n<!-- 3&#45;&gt;4 -->\n<g id=\"edge4\" class=\"edge\">\n<title>3&#45;&gt;4</title>\n<path fill=\"none\" stroke=\"#000000\" d=\"M180.3272,-88.9777C163.182,-78.9504 144.4975,-68.0228 127.618,-58.1508\"/>\n<polygon fill=\"#000000\" stroke=\"#000000\" points=\"129.3724,-55.1223 118.9734,-53.095 125.8385,-61.1648 129.3724,-55.1223\"/>\n</g>\n<!-- 5 -->\n<g id=\"node6\" class=\"node\">\n<title>5</title>\n<polygon fill=\"#6fecd5\" stroke=\"#000000\" points=\"312,-53 165,-53 165,0 312,0 312,-53\"/>\n<text text-anchor=\"middle\" x=\"238.5\" y=\"-37.8\" font-family=\"Times,serif\" font-size=\"14.00\" fill=\"#000000\">gini = 0.379</text>\n<text text-anchor=\"middle\" x=\"238.5\" y=\"-22.8\" font-family=\"Times,serif\" font-size=\"14.00\" fill=\"#000000\">samples = 13</text>\n<text text-anchor=\"middle\" x=\"238.5\" y=\"-7.8\" font-family=\"Times,serif\" font-size=\"14.00\" fill=\"#000000\">value = [1, 2, 10, 0, 0]</text>\n</g>\n<!-- 3&#45;&gt;5 -->\n<g id=\"edge5\" class=\"edge\">\n<title>3&#45;&gt;5</title>\n<path fill=\"none\" stroke=\"#000000\" d=\"M238.5,-88.9777C238.5,-80.7364 238.5,-71.887 238.5,-63.5153\"/>\n<polygon fill=\"#000000\" stroke=\"#000000\" points=\"242.0001,-63.2484 238.5,-53.2485 235.0001,-63.2485 242.0001,-63.2484\"/>\n</g>\n<!-- 7 -->\n<g id=\"node8\" class=\"node\">\n<title>7</title>\n<polygon fill=\"#d0f9f1\" stroke=\"#000000\" points=\"500.5,-53 330.5,-53 330.5,0 500.5,0 500.5,-53\"/>\n<text text-anchor=\"middle\" x=\"415.5\" y=\"-37.8\" font-family=\"Times,serif\" font-size=\"14.00\" fill=\"#000000\">gini = 0.704</text>\n<text text-anchor=\"middle\" x=\"415.5\" y=\"-22.8\" font-family=\"Times,serif\" font-size=\"14.00\" fill=\"#000000\">samples = 140</text>\n<text text-anchor=\"middle\" x=\"415.5\" y=\"-7.8\" font-family=\"Times,serif\" font-size=\"14.00\" fill=\"#000000\">value = [2, 31, 59, 34, 14]</text>\n</g>\n<!-- 6&#45;&gt;7 -->\n<g id=\"edge7\" class=\"edge\">\n<title>6&#45;&gt;7</title>\n<path fill=\"none\" stroke=\"#000000\" d=\"M486.0707,-88.9777C475.4173,-79.546 463.8641,-69.3178 453.2499,-59.9208\"/>\n<polygon fill=\"#000000\" stroke=\"#000000\" points=\"455.5207,-57.2566 445.7133,-53.2485 450.8806,-62.4978 455.5207,-57.2566\"/>\n</g>\n<!-- 8 -->\n<g id=\"node9\" class=\"node\">\n<title>8</title>\n<polygon fill=\"#9cf2e2\" stroke=\"#000000\" points=\"710,-53 519,-53 519,0 710,0 710,-53\"/>\n<text text-anchor=\"middle\" x=\"614.5\" y=\"-37.8\" font-family=\"Times,serif\" font-size=\"14.00\" fill=\"#000000\">gini = 0.56</text>\n<text text-anchor=\"middle\" x=\"614.5\" y=\"-22.8\" font-family=\"Times,serif\" font-size=\"14.00\" fill=\"#000000\">samples = 735</text>\n<text text-anchor=\"middle\" x=\"614.5\" y=\"-7.8\" font-family=\"Times,serif\" font-size=\"14.00\" fill=\"#000000\">value = [11, 160, 447, 109, 8]</text>\n</g>\n<!-- 6&#45;&gt;8 -->\n<g id=\"edge8\" class=\"edge\">\n<title>6&#45;&gt;8</title>\n<path fill=\"none\" stroke=\"#000000\" d=\"M556.2306,-88.9777C564.7708,-79.8207 574.0113,-69.9129 582.5626,-60.744\"/>\n<polygon fill=\"#000000\" stroke=\"#000000\" points=\"585.2923,-62.9488 589.5532,-53.2485 580.1731,-58.1744 585.2923,-62.9488\"/>\n</g>\n<!-- 10 -->\n<g id=\"node11\" class=\"node\">\n<title>10</title>\n<polygon fill=\"#c3f3a5\" stroke=\"#000000\" points=\"1105,-157 920,-157 920,-89 1105,-89 1105,-157\"/>\n<text text-anchor=\"middle\" x=\"1012.5\" y=\"-141.8\" font-family=\"Times,serif\" font-size=\"14.00\" fill=\"#000000\">volatile_acidity &lt;= 0.303</text>\n<text text-anchor=\"middle\" x=\"1012.5\" y=\"-126.8\" font-family=\"Times,serif\" font-size=\"14.00\" fill=\"#000000\">gini = 0.521</text>\n<text text-anchor=\"middle\" x=\"1012.5\" y=\"-111.8\" font-family=\"Times,serif\" font-size=\"14.00\" fill=\"#000000\">samples = 927</text>\n<text text-anchor=\"middle\" x=\"1012.5\" y=\"-96.8\" font-family=\"Times,serif\" font-size=\"14.00\" fill=\"#000000\">value = [48, 574, 281, 23, 1]</text>\n</g>\n<!-- 9&#45;&gt;10 -->\n<g id=\"edge10\" class=\"edge\">\n<title>9&#45;&gt;10</title>\n<path fill=\"none\" stroke=\"#000000\" d=\"M1080.4288,-192.9465C1071.6221,-183.8782 1062.0093,-173.9799 1052.8597,-164.5585\"/>\n<polygon fill=\"#000000\" stroke=\"#000000\" points=\"1055.1232,-161.8654 1045.6455,-157.13 1050.1015,-166.7422 1055.1232,-161.8654\"/>\n</g>\n<!-- 13 -->\n<g id=\"node14\" class=\"node\">\n<title>13</title>\n<polygon fill=\"#dffbf6\" stroke=\"#000000\" points=\"1308,-157 1123,-157 1123,-89 1308,-89 1308,-157\"/>\n<text text-anchor=\"middle\" x=\"1215.5\" y=\"-141.8\" font-family=\"Times,serif\" font-size=\"14.00\" fill=\"#000000\">free_sulfur_dioxide &lt;= 17.5</text>\n<text text-anchor=\"middle\" x=\"1215.5\" y=\"-126.8\" font-family=\"Times,serif\" font-size=\"14.00\" fill=\"#000000\">gini = 0.617</text>\n<text text-anchor=\"middle\" x=\"1215.5\" y=\"-111.8\" font-family=\"Times,serif\" font-size=\"14.00\" fill=\"#000000\">samples = 627</text>\n<text text-anchor=\"middle\" x=\"1215.5\" y=\"-96.8\" font-family=\"Times,serif\" font-size=\"14.00\" fill=\"#000000\">value = [35, 238, 300, 51, 3]</text>\n</g>\n<!-- 9&#45;&gt;13 -->\n<g id=\"edge13\" class=\"edge\">\n<title>9&#45;&gt;13</title>\n<path fill=\"none\" stroke=\"#000000\" d=\"M1146.8986,-192.9465C1155.8806,-183.7884 1165.6928,-173.7838 1175.015,-164.2788\"/>\n<polygon fill=\"#000000\" stroke=\"#000000\" points=\"1177.523,-166.7201 1182.0263,-157.13 1172.5254,-161.8187 1177.523,-166.7201\"/>\n</g>\n<!-- 11 -->\n<g id=\"node12\" class=\"node\">\n<title>11</title>\n<polygon fill=\"#def9ce\" stroke=\"#000000\" points=\"913,-53 728,-53 728,0 913,0 913,-53\"/>\n<text text-anchor=\"middle\" x=\"820.5\" y=\"-37.8\" font-family=\"Times,serif\" font-size=\"14.00\" fill=\"#000000\">gini = 0.559</text>\n<text text-anchor=\"middle\" x=\"820.5\" y=\"-22.8\" font-family=\"Times,serif\" font-size=\"14.00\" fill=\"#000000\">samples = 463</text>\n<text text-anchor=\"middle\" x=\"820.5\" y=\"-7.8\" font-family=\"Times,serif\" font-size=\"14.00\" fill=\"#000000\">value = [16, 249, 179, 18, 1]</text>\n</g>\n<!-- 10&#45;&gt;11 -->\n<g id=\"edge11\" class=\"edge\">\n<title>10&#45;&gt;11</title>\n<path fill=\"none\" stroke=\"#000000\" d=\"M944.808,-88.9777C924.4912,-78.7664 902.3167,-67.6214 882.3946,-57.6085\"/>\n<polygon fill=\"#000000\" stroke=\"#000000\" points=\"883.9212,-54.4586 873.4145,-53.095 880.7776,-60.7131 883.9212,-54.4586\"/>\n</g>\n<!-- 12 -->\n<g id=\"node13\" class=\"node\">\n<title>12</title>\n<polygon fill=\"#aeef85\" stroke=\"#000000\" points=\"1108,-53 931,-53 931,0 1108,0 1108,-53\"/>\n<text text-anchor=\"middle\" x=\"1019.5\" y=\"-37.8\" font-family=\"Times,serif\" font-size=\"14.00\" fill=\"#000000\">gini = 0.456</text>\n<text text-anchor=\"middle\" x=\"1019.5\" y=\"-22.8\" font-family=\"Times,serif\" font-size=\"14.00\" fill=\"#000000\">samples = 464</text>\n<text text-anchor=\"middle\" x=\"1019.5\" y=\"-7.8\" font-family=\"Times,serif\" font-size=\"14.00\" fill=\"#000000\">value = [32, 325, 102, 5, 0]</text>\n</g>\n<!-- 10&#45;&gt;12 -->\n<g id=\"edge12\" class=\"edge\">\n<title>10&#45;&gt;12</title>\n<path fill=\"none\" stroke=\"#000000\" d=\"M1014.9679,-88.9777C1015.5724,-80.6449 1016.222,-71.6903 1016.8352,-63.2364\"/>\n<polygon fill=\"#000000\" stroke=\"#000000\" points=\"1020.3269,-63.4755 1017.5597,-53.2485 1013.3453,-62.969 1020.3269,-63.4755\"/>\n</g>\n<!-- 14 -->\n<g id=\"node15\" class=\"node\">\n<title>14</title>\n<polygon fill=\"#cff6b7\" stroke=\"#000000\" points=\"1288.5,-53 1126.5,-53 1126.5,0 1288.5,0 1288.5,-53\"/>\n<text text-anchor=\"middle\" x=\"1207.5\" y=\"-37.8\" font-family=\"Times,serif\" font-size=\"14.00\" fill=\"#000000\">gini = 0.622</text>\n<text text-anchor=\"middle\" x=\"1207.5\" y=\"-22.8\" font-family=\"Times,serif\" font-size=\"14.00\" fill=\"#000000\">samples = 112</text>\n<text text-anchor=\"middle\" x=\"1207.5\" y=\"-7.8\" font-family=\"Times,serif\" font-size=\"14.00\" fill=\"#000000\">value = [20, 59, 29, 4, 0]</text>\n</g>\n<!-- 13&#45;&gt;14 -->\n<g id=\"edge14\" class=\"edge\">\n<title>13&#45;&gt;14</title>\n<path fill=\"none\" stroke=\"#000000\" d=\"M1212.6795,-88.9777C1211.9887,-80.6449 1211.2463,-71.6903 1210.5455,-63.2364\"/>\n<polygon fill=\"#000000\" stroke=\"#000000\" points=\"1214.0318,-62.9251 1209.7175,-53.2485 1207.0557,-63.5035 1214.0318,-62.9251\"/>\n</g>\n<!-- 15 -->\n<g id=\"node16\" class=\"node\">\n<title>15</title>\n<polygon fill=\"#c9f8ef\" stroke=\"#000000\" points=\"1492,-53 1307,-53 1307,0 1492,0 1492,-53\"/>\n<text text-anchor=\"middle\" x=\"1399.5\" y=\"-37.8\" font-family=\"Times,serif\" font-size=\"14.00\" fill=\"#000000\">gini = 0.593</text>\n<text text-anchor=\"middle\" x=\"1399.5\" y=\"-22.8\" font-family=\"Times,serif\" font-size=\"14.00\" fill=\"#000000\">samples = 515</text>\n<text text-anchor=\"middle\" x=\"1399.5\" y=\"-7.8\" font-family=\"Times,serif\" font-size=\"14.00\" fill=\"#000000\">value = [15, 179, 271, 47, 3]</text>\n</g>\n<!-- 13&#45;&gt;15 -->\n<g id=\"edge15\" class=\"edge\">\n<title>13&#45;&gt;15</title>\n<path fill=\"none\" stroke=\"#000000\" d=\"M1280.3715,-88.9777C1299.7541,-78.8124 1320.9009,-67.7218 1339.9262,-57.7439\"/>\n<polygon fill=\"#000000\" stroke=\"#000000\" points=\"1341.56,-60.8392 1348.7903,-53.095 1338.3087,-54.6401 1341.56,-60.8392\"/>\n</g>\n<!-- 17 -->\n<g id=\"node18\" class=\"node\">\n<title>17</title>\n<polygon fill=\"#c6f8ee\" stroke=\"#000000\" points=\"1944.5,-261 1744.5,-261 1744.5,-193 1944.5,-193 1944.5,-261\"/>\n<text text-anchor=\"middle\" x=\"1844.5\" y=\"-245.8\" font-family=\"Times,serif\" font-size=\"14.00\" fill=\"#000000\">free_sulfur_dioxide &lt;= 11.5</text>\n<text text-anchor=\"middle\" x=\"1844.5\" y=\"-230.8\" font-family=\"Times,serif\" font-size=\"14.00\" fill=\"#000000\">gini = 0.646</text>\n<text text-anchor=\"middle\" x=\"1844.5\" y=\"-215.8\" font-family=\"Times,serif\" font-size=\"14.00\" fill=\"#000000\">samples = 1152</text>\n<text text-anchor=\"middle\" x=\"1844.5\" y=\"-200.8\" font-family=\"Times,serif\" font-size=\"14.00\" fill=\"#000000\">value = [26, 137, 573, 341, 75]</text>\n</g>\n<!-- 16&#45;&gt;17 -->\n<g id=\"edge17\" class=\"edge\">\n<title>16&#45;&gt;17</title>\n<path fill=\"none\" stroke=\"#000000\" d=\"M1844.5,-296.9465C1844.5,-288.776 1844.5,-279.9318 1844.5,-271.3697\"/>\n<polygon fill=\"#000000\" stroke=\"#000000\" points=\"1848.0001,-271.13 1844.5,-261.13 1841.0001,-271.13 1848.0001,-271.13\"/>\n</g>\n<!-- 24 -->\n<g id=\"node25\" class=\"node\">\n<title>24</title>\n<polygon fill=\"#cfcef9\" stroke=\"#000000\" points=\"2501.5,-261 2331.5,-261 2331.5,-193 2501.5,-193 2501.5,-261\"/>\n<text text-anchor=\"middle\" x=\"2416.5\" y=\"-245.8\" font-family=\"Times,serif\" font-size=\"14.00\" fill=\"#000000\">chlorides &lt;= 0.046</text>\n<text text-anchor=\"middle\" x=\"2416.5\" y=\"-230.8\" font-family=\"Times,serif\" font-size=\"14.00\" fill=\"#000000\">gini = 0.61</text>\n<text text-anchor=\"middle\" x=\"2416.5\" y=\"-215.8\" font-family=\"Times,serif\" font-size=\"14.00\" fill=\"#000000\">samples = 280</text>\n<text text-anchor=\"middle\" x=\"2416.5\" y=\"-200.8\" font-family=\"Times,serif\" font-size=\"14.00\" fill=\"#000000\">value = [3, 8, 97, 142, 30]</text>\n</g>\n<!-- 16&#45;&gt;24 -->\n<g id=\"edge24\" class=\"edge\">\n<title>16&#45;&gt;24</title>\n<path fill=\"none\" stroke=\"#000000\" d=\"M1948.0849,-312.1664C2054.3294,-292.8492 2218.2156,-263.0517 2321.2983,-244.3094\"/>\n<polygon fill=\"#000000\" stroke=\"#000000\" points=\"2322.1769,-247.7071 2331.3895,-242.4746 2320.9247,-240.82 2322.1769,-247.7071\"/>\n</g>\n<!-- 18 -->\n<g id=\"node19\" class=\"node\">\n<title>18</title>\n<polygon fill=\"#f4fefc\" stroke=\"#000000\" points=\"1828.5,-157 1666.5,-157 1666.5,-89 1828.5,-89 1828.5,-157\"/>\n<text text-anchor=\"middle\" x=\"1747.5\" y=\"-141.8\" font-family=\"Times,serif\" font-size=\"14.00\" fill=\"#000000\">citric_acid &lt;= 0.225</text>\n<text text-anchor=\"middle\" x=\"1747.5\" y=\"-126.8\" font-family=\"Times,serif\" font-size=\"14.00\" fill=\"#000000\">gini = 0.703</text>\n<text text-anchor=\"middle\" x=\"1747.5\" y=\"-111.8\" font-family=\"Times,serif\" font-size=\"14.00\" fill=\"#000000\">samples = 77</text>\n<text text-anchor=\"middle\" x=\"1747.5\" y=\"-96.8\" font-family=\"Times,serif\" font-size=\"14.00\" fill=\"#000000\">value = [18, 25, 28, 5, 1]</text>\n</g>\n<!-- 17&#45;&gt;18 -->\n<g id=\"edge18\" class=\"edge\">\n<title>17&#45;&gt;18</title>\n<path fill=\"none\" stroke=\"#000000\" d=\"M1812.7386,-192.9465C1804.2806,-183.8782 1795.0486,-173.9799 1786.2613,-164.5585\"/>\n<polygon fill=\"#000000\" stroke=\"#000000\" points=\"1788.713,-162.0557 1779.3328,-157.13 1783.594,-166.8302 1788.713,-162.0557\"/>\n</g>\n<!-- 21 -->\n<g id=\"node22\" class=\"node\">\n<title>21</title>\n<polygon fill=\"#c7f8ef\" stroke=\"#000000\" points=\"2038,-157 1847,-157 1847,-89 2038,-89 2038,-157\"/>\n<text text-anchor=\"middle\" x=\"1942.5\" y=\"-141.8\" font-family=\"Times,serif\" font-size=\"14.00\" fill=\"#000000\">sulphates &lt;= 0.565</text>\n<text text-anchor=\"middle\" x=\"1942.5\" y=\"-126.8\" font-family=\"Times,serif\" font-size=\"14.00\" fill=\"#000000\">gini = 0.63</text>\n<text text-anchor=\"middle\" x=\"1942.5\" y=\"-111.8\" font-family=\"Times,serif\" font-size=\"14.00\" fill=\"#000000\">samples = 1075</text>\n<text text-anchor=\"middle\" x=\"1942.5\" y=\"-96.8\" font-family=\"Times,serif\" font-size=\"14.00\" fill=\"#000000\">value = [8, 112, 545, 336, 74]</text>\n</g>\n<!-- 17&#45;&gt;21 -->\n<g id=\"edge21\" class=\"edge\">\n<title>17&#45;&gt;21</title>\n<path fill=\"none\" stroke=\"#000000\" d=\"M1876.5889,-192.9465C1885.134,-183.8782 1894.4613,-173.9799 1903.3391,-164.5585\"/>\n<polygon fill=\"#000000\" stroke=\"#000000\" points=\"1906.0283,-166.8082 1910.339,-157.13 1900.9337,-162.0076 1906.0283,-166.8082\"/>\n</g>\n<!-- 19 -->\n<g id=\"node20\" class=\"node\">\n<title>19</title>\n<polygon fill=\"#eca06a\" stroke=\"#000000\" points=\"1650.5,-53 1510.5,-53 1510.5,0 1650.5,0 1650.5,-53\"/>\n<text text-anchor=\"middle\" x=\"1580.5\" y=\"-37.8\" font-family=\"Times,serif\" font-size=\"14.00\" fill=\"#000000\">gini = 0.37</text>\n<text text-anchor=\"middle\" x=\"1580.5\" y=\"-22.8\" font-family=\"Times,serif\" font-size=\"14.00\" fill=\"#000000\">samples = 9</text>\n<text text-anchor=\"middle\" x=\"1580.5\" y=\"-7.8\" font-family=\"Times,serif\" font-size=\"14.00\" fill=\"#000000\">value = [7, 1, 0, 1, 0]</text>\n</g>\n<!-- 18&#45;&gt;19 -->\n<g id=\"edge19\" class=\"edge\">\n<title>18&#45;&gt;19</title>\n<path fill=\"none\" stroke=\"#000000\" d=\"M1688.622,-88.9777C1671.2691,-78.9504 1652.358,-68.0228 1635.274,-58.1508\"/>\n<polygon fill=\"#000000\" stroke=\"#000000\" points=\"1636.9341,-55.0678 1626.5246,-53.095 1633.4318,-61.1287 1636.9341,-55.0678\"/>\n</g>\n<!-- 20 -->\n<g id=\"node21\" class=\"node\">\n<title>20</title>\n<polygon fill=\"#edfdfa\" stroke=\"#000000\" points=\"1830,-53 1669,-53 1669,0 1830,0 1830,-53\"/>\n<text text-anchor=\"middle\" x=\"1749.5\" y=\"-37.8\" font-family=\"Times,serif\" font-size=\"14.00\" fill=\"#000000\">gini = 0.676</text>\n<text text-anchor=\"middle\" x=\"1749.5\" y=\"-22.8\" font-family=\"Times,serif\" font-size=\"14.00\" fill=\"#000000\">samples = 68</text>\n<text text-anchor=\"middle\" x=\"1749.5\" y=\"-7.8\" font-family=\"Times,serif\" font-size=\"14.00\" fill=\"#000000\">value = [11, 24, 28, 4, 1]</text>\n</g>\n<!-- 18&#45;&gt;20 -->\n<g id=\"edge20\" class=\"edge\">\n<title>18&#45;&gt;20</title>\n<path fill=\"none\" stroke=\"#000000\" d=\"M1748.2051,-88.9777C1748.3759,-80.7364 1748.5593,-71.887 1748.7328,-63.5153\"/>\n<polygon fill=\"#000000\" stroke=\"#000000\" points=\"1752.2376,-63.3189 1748.9456,-53.2485 1745.2391,-63.1738 1752.2376,-63.3189\"/>\n</g>\n<!-- 22 -->\n<g id=\"node23\" class=\"node\">\n<title>22</title>\n<polygon fill=\"#bbf6eb\" stroke=\"#000000\" points=\"2033,-53 1848,-53 1848,0 2033,0 2033,-53\"/>\n<text text-anchor=\"middle\" x=\"1940.5\" y=\"-37.8\" font-family=\"Times,serif\" font-size=\"14.00\" fill=\"#000000\">gini = 0.62</text>\n<text text-anchor=\"middle\" x=\"1940.5\" y=\"-22.8\" font-family=\"Times,serif\" font-size=\"14.00\" fill=\"#000000\">samples = 833</text>\n<text text-anchor=\"middle\" x=\"1940.5\" y=\"-7.8\" font-family=\"Times,serif\" font-size=\"14.00\" fill=\"#000000\">value = [6, 99, 442, 236, 50]</text>\n</g>\n<!-- 21&#45;&gt;22 -->\n<g id=\"edge22\" class=\"edge\">\n<title>21&#45;&gt;22</title>\n<path fill=\"none\" stroke=\"#000000\" d=\"M1941.7949,-88.9777C1941.6241,-80.7364 1941.4407,-71.887 1941.2672,-63.5153\"/>\n<polygon fill=\"#000000\" stroke=\"#000000\" points=\"1944.7609,-63.1738 1941.0544,-53.2485 1937.7624,-63.3189 1944.7609,-63.1738\"/>\n</g>\n<!-- 23 -->\n<g id=\"node24\" class=\"node\">\n<title>23</title>\n<polygon fill=\"#fbfefe\" stroke=\"#000000\" points=\"2236,-53 2051,-53 2051,0 2236,0 2236,-53\"/>\n<text text-anchor=\"middle\" x=\"2143.5\" y=\"-37.8\" font-family=\"Times,serif\" font-size=\"14.00\" fill=\"#000000\">gini = 0.635</text>\n<text text-anchor=\"middle\" x=\"2143.5\" y=\"-22.8\" font-family=\"Times,serif\" font-size=\"14.00\" fill=\"#000000\">samples = 242</text>\n<text text-anchor=\"middle\" x=\"2143.5\" y=\"-7.8\" font-family=\"Times,serif\" font-size=\"14.00\" fill=\"#000000\">value = [2, 13, 103, 100, 24]</text>\n</g>\n<!-- 21&#45;&gt;23 -->\n<g id=\"edge23\" class=\"edge\">\n<title>21&#45;&gt;23</title>\n<path fill=\"none\" stroke=\"#000000\" d=\"M2013.3651,-88.9777C2034.73,-78.7204 2058.0573,-67.521 2078.9858,-57.4732\"/>\n<polygon fill=\"#000000\" stroke=\"#000000\" points=\"2080.6051,-60.5783 2088.1052,-53.095 2077.5755,-54.2679 2080.6051,-60.5783\"/>\n</g>\n<!-- 25 -->\n<g id=\"node26\" class=\"node\">\n<title>25</title>\n<polygon fill=\"#c1c0f7\" stroke=\"#000000\" points=\"2501.5,-157 2331.5,-157 2331.5,-89 2501.5,-89 2501.5,-157\"/>\n<text text-anchor=\"middle\" x=\"2416.5\" y=\"-141.8\" font-family=\"Times,serif\" font-size=\"14.00\" fill=\"#000000\">citric_acid &lt;= 0.395</text>\n<text text-anchor=\"middle\" x=\"2416.5\" y=\"-126.8\" font-family=\"Times,serif\" font-size=\"14.00\" fill=\"#000000\">gini = 0.593</text>\n<text text-anchor=\"middle\" x=\"2416.5\" y=\"-111.8\" font-family=\"Times,serif\" font-size=\"14.00\" fill=\"#000000\">samples = 262</text>\n<text text-anchor=\"middle\" x=\"2416.5\" y=\"-96.8\" font-family=\"Times,serif\" font-size=\"14.00\" fill=\"#000000\">value = [3, 5, 85, 141, 28]</text>\n</g>\n<!-- 24&#45;&gt;25 -->\n<g id=\"edge25\" class=\"edge\">\n<title>24&#45;&gt;25</title>\n<path fill=\"none\" stroke=\"#000000\" d=\"M2416.5,-192.9465C2416.5,-184.776 2416.5,-175.9318 2416.5,-167.3697\"/>\n<polygon fill=\"#000000\" stroke=\"#000000\" points=\"2420.0001,-167.13 2416.5,-157.13 2413.0001,-167.13 2420.0001,-167.13\"/>\n</g>\n<!-- 28 -->\n<g id=\"node29\" class=\"node\">\n<title>28</title>\n<polygon fill=\"#88efdc\" stroke=\"#000000\" points=\"2759.5,-157 2597.5,-157 2597.5,-89 2759.5,-89 2759.5,-157\"/>\n<text text-anchor=\"middle\" x=\"2678.5\" y=\"-141.8\" font-family=\"Times,serif\" font-size=\"14.00\" fill=\"#000000\">volatile_acidity &lt;= 0.295</text>\n<text text-anchor=\"middle\" x=\"2678.5\" y=\"-126.8\" font-family=\"Times,serif\" font-size=\"14.00\" fill=\"#000000\">gini = 0.512</text>\n<text text-anchor=\"middle\" x=\"2678.5\" y=\"-111.8\" font-family=\"Times,serif\" font-size=\"14.00\" fill=\"#000000\">samples = 18</text>\n<text text-anchor=\"middle\" x=\"2678.5\" y=\"-96.8\" font-family=\"Times,serif\" font-size=\"14.00\" fill=\"#000000\">value = [0, 3, 12, 1, 2]</text>\n</g>\n<!-- 24&#45;&gt;28 -->\n<g id=\"edge28\" class=\"edge\">\n<title>24&#45;&gt;28</title>\n<path fill=\"none\" stroke=\"#000000\" d=\"M2501.5639,-193.2342C2529.218,-182.257 2559.9992,-170.0385 2588.0332,-158.9105\"/>\n<polygon fill=\"#000000\" stroke=\"#000000\" points=\"2589.4234,-162.1244 2597.4266,-155.1818 2586.8407,-155.6182 2589.4234,-162.1244\"/>\n</g>\n<!-- 26 -->\n<g id=\"node27\" class=\"node\">\n<title>26</title>\n<polygon fill=\"#b2b1f5\" stroke=\"#000000\" points=\"2424.5,-53 2254.5,-53 2254.5,0 2424.5,0 2424.5,-53\"/>\n<text text-anchor=\"middle\" x=\"2339.5\" y=\"-37.8\" font-family=\"Times,serif\" font-size=\"14.00\" fill=\"#000000\">gini = 0.568</text>\n<text text-anchor=\"middle\" x=\"2339.5\" y=\"-22.8\" font-family=\"Times,serif\" font-size=\"14.00\" fill=\"#000000\">samples = 234</text>\n<text text-anchor=\"middle\" x=\"2339.5\" y=\"-7.8\" font-family=\"Times,serif\" font-size=\"14.00\" fill=\"#000000\">value = [2, 4, 70, 135, 23]</text>\n</g>\n<!-- 25&#45;&gt;26 -->\n<g id=\"edge26\" class=\"edge\">\n<title>25&#45;&gt;26</title>\n<path fill=\"none\" stroke=\"#000000\" d=\"M2389.3527,-88.9777C2382.1922,-80.0039 2374.4564,-70.3089 2367.2639,-61.295\"/>\n<polygon fill=\"#000000\" stroke=\"#000000\" points=\"2369.8163,-58.8821 2360.8433,-53.2485 2364.3446,-63.2481 2369.8163,-58.8821\"/>\n</g>\n<!-- 27 -->\n<g id=\"node28\" class=\"node\">\n<title>27</title>\n<polygon fill=\"#aef4e7\" stroke=\"#000000\" points=\"2590,-53 2443,-53 2443,0 2590,0 2590,-53\"/>\n<text text-anchor=\"middle\" x=\"2516.5\" y=\"-37.8\" font-family=\"Times,serif\" font-size=\"14.00\" fill=\"#000000\">gini = 0.633</text>\n<text text-anchor=\"middle\" x=\"2516.5\" y=\"-22.8\" font-family=\"Times,serif\" font-size=\"14.00\" fill=\"#000000\">samples = 28</text>\n<text text-anchor=\"middle\" x=\"2516.5\" y=\"-7.8\" font-family=\"Times,serif\" font-size=\"14.00\" fill=\"#000000\">value = [1, 1, 15, 6, 5]</text>\n</g>\n<!-- 25&#45;&gt;27 -->\n<g id=\"edge27\" class=\"edge\">\n<title>25&#45;&gt;27</title>\n<path fill=\"none\" stroke=\"#000000\" d=\"M2451.7563,-88.9777C2461.4351,-79.6376 2471.9235,-69.5163 2481.5832,-60.1947\"/>\n<polygon fill=\"#000000\" stroke=\"#000000\" points=\"2484.0159,-62.7111 2488.7814,-53.2485 2479.1551,-57.674 2484.0159,-62.7111\"/>\n</g>\n<!-- 29 -->\n<g id=\"node30\" class=\"node\">\n<title>29</title>\n<polygon fill=\"#ffffff\" stroke=\"#000000\" points=\"2748.5,-53 2608.5,-53 2608.5,0 2748.5,0 2748.5,-53\"/>\n<text text-anchor=\"middle\" x=\"2678.5\" y=\"-37.8\" font-family=\"Times,serif\" font-size=\"14.00\" fill=\"#000000\">gini = 0.64</text>\n<text text-anchor=\"middle\" x=\"2678.5\" y=\"-22.8\" font-family=\"Times,serif\" font-size=\"14.00\" fill=\"#000000\">samples = 5</text>\n<text text-anchor=\"middle\" x=\"2678.5\" y=\"-7.8\" font-family=\"Times,serif\" font-size=\"14.00\" fill=\"#000000\">value = [0, 2, 1, 0, 2]</text>\n</g>\n<!-- 28&#45;&gt;29 -->\n<g id=\"edge29\" class=\"edge\">\n<title>28&#45;&gt;29</title>\n<path fill=\"none\" stroke=\"#000000\" d=\"M2678.5,-88.9777C2678.5,-80.7364 2678.5,-71.887 2678.5,-63.5153\"/>\n<polygon fill=\"#000000\" stroke=\"#000000\" points=\"2682.0001,-63.2484 2678.5,-53.2485 2675.0001,-63.2485 2682.0001,-63.2484\"/>\n</g>\n<!-- 30 -->\n<g id=\"node31\" class=\"node\">\n<title>30</title>\n<polygon fill=\"#5ae9cf\" stroke=\"#000000\" points=\"2912.5,-53 2766.5,-53 2766.5,0 2912.5,0 2912.5,-53\"/>\n<text text-anchor=\"middle\" x=\"2839.5\" y=\"-37.8\" font-family=\"Times,serif\" font-size=\"14.00\" fill=\"#000000\">gini = 0.272</text>\n<text text-anchor=\"middle\" x=\"2839.5\" y=\"-22.8\" font-family=\"Times,serif\" font-size=\"14.00\" fill=\"#000000\">samples = 13</text>\n<text text-anchor=\"middle\" x=\"2839.5\" y=\"-7.8\" font-family=\"Times,serif\" font-size=\"14.00\" fill=\"#000000\">value = [0, 1, 11, 1, 0]</text>\n</g>\n<!-- 28&#45;&gt;30 -->\n<g id=\"edge30\" class=\"edge\">\n<title>28&#45;&gt;30</title>\n<path fill=\"none\" stroke=\"#000000\" d=\"M2735.2626,-88.9777C2751.8386,-79.0424 2769.8893,-68.2232 2786.2402,-58.4228\"/>\n<polygon fill=\"#000000\" stroke=\"#000000\" points=\"2788.3511,-61.2382 2795.129,-53.095 2784.7523,-55.2341 2788.3511,-61.2382\"/>\n</g>\n</g>\n</svg>\n"
          },
          "metadata": {
            "tags": []
          },
          "execution_count": 151
        }
      ]
    },
    {
      "cell_type": "code",
      "metadata": {
        "id": "5qyrhNCMK-zu",
        "outputId": "97c42b38-35bb-433d-cf8b-da8ae8f92956",
        "colab": {
          "base_uri": "https://localhost:8080/",
          "height": 84
        }
      },
      "source": [
        "X_all.columns"
      ],
      "execution_count": null,
      "outputs": [
        {
          "output_type": "execute_result",
          "data": {
            "text/plain": [
              "Index(['fixed_acidity', 'volatile_acidity', 'citric_acid', 'residual_sugar',\n",
              "       'chlorides', 'free_sulfur_dioxide', 'total_sulfur_dioxide', 'density',\n",
              "       'pH', 'sulphates', 'alcohol'],\n",
              "      dtype='object')"
            ]
          },
          "metadata": {
            "tags": []
          },
          "execution_count": 152
        }
      ]
    },
    {
      "cell_type": "code",
      "metadata": {
        "id": "jPQLNyliKebO",
        "outputId": "b6ee266c-1467-4b77-f1c0-29b0e04a7e4e",
        "colab": {
          "base_uri": "https://localhost:8080/",
          "height": 860
        }
      },
      "source": [
        "from sklearn.tree import export_text\n",
        "columnas = [col for col in X_all.columns]# observar en la fila anterior el objeto que recorna X_all.columns\n",
        "r = export_text(m, feature_names=columnas)\n",
        "\n",
        "print(r)\n",
        "\n",
        "print()\n",
        "\n",
        "print(\"Las columnas son:\", columnas)"
      ],
      "execution_count": null,
      "outputs": [
        {
          "output_type": "stream",
          "text": [
            "|--- alcohol <= 10.85\n",
            "|   |--- volatile_acidity <= 0.24\n",
            "|   |   |--- free_sulfur_dioxide <= 13.50\n",
            "|   |   |   |--- residual_sugar <= 3.10\n",
            "|   |   |   |   |--- class: 5\n",
            "|   |   |   |--- residual_sugar >  3.10\n",
            "|   |   |   |   |--- class: 6\n",
            "|   |   |--- free_sulfur_dioxide >  13.50\n",
            "|   |   |   |--- alcohol <= 9.05\n",
            "|   |   |   |   |--- class: 6\n",
            "|   |   |   |--- alcohol >  9.05\n",
            "|   |   |   |   |--- class: 6\n",
            "|   |--- volatile_acidity >  0.24\n",
            "|   |   |--- alcohol <= 9.78\n",
            "|   |   |   |--- volatile_acidity <= 0.30\n",
            "|   |   |   |   |--- class: 5\n",
            "|   |   |   |--- volatile_acidity >  0.30\n",
            "|   |   |   |   |--- class: 5\n",
            "|   |   |--- alcohol >  9.78\n",
            "|   |   |   |--- free_sulfur_dioxide <= 17.50\n",
            "|   |   |   |   |--- class: 5\n",
            "|   |   |   |--- free_sulfur_dioxide >  17.50\n",
            "|   |   |   |   |--- class: 6\n",
            "|--- alcohol >  10.85\n",
            "|   |--- alcohol <= 12.55\n",
            "|   |   |--- free_sulfur_dioxide <= 11.50\n",
            "|   |   |   |--- citric_acid <= 0.23\n",
            "|   |   |   |   |--- class: 4\n",
            "|   |   |   |--- citric_acid >  0.23\n",
            "|   |   |   |   |--- class: 6\n",
            "|   |   |--- free_sulfur_dioxide >  11.50\n",
            "|   |   |   |--- sulphates <= 0.56\n",
            "|   |   |   |   |--- class: 6\n",
            "|   |   |   |--- sulphates >  0.56\n",
            "|   |   |   |   |--- class: 6\n",
            "|   |--- alcohol >  12.55\n",
            "|   |   |--- chlorides <= 0.05\n",
            "|   |   |   |--- citric_acid <= 0.39\n",
            "|   |   |   |   |--- class: 7\n",
            "|   |   |   |--- citric_acid >  0.39\n",
            "|   |   |   |   |--- class: 6\n",
            "|   |   |--- chlorides >  0.05\n",
            "|   |   |   |--- volatile_acidity <= 0.30\n",
            "|   |   |   |   |--- class: 5\n",
            "|   |   |   |--- volatile_acidity >  0.30\n",
            "|   |   |   |   |--- class: 6\n",
            "\n",
            "\n",
            "Las columnas son: ['fixed_acidity', 'volatile_acidity', 'citric_acid', 'residual_sugar', 'chlorides', 'free_sulfur_dioxide', 'total_sulfur_dioxide', 'density', 'pH', 'sulphates', 'alcohol']\n"
          ],
          "name": "stdout"
        }
      ]
    },
    {
      "cell_type": "markdown",
      "metadata": {
        "id": "lFE_Ay4kOfYx"
      },
      "source": [
        "¿Cómo se calcula la predicción de una hoja de la fila inferior que contiene más de un valor de la variable target? Se considera que la salida es aquella categoría que tenga la mayor cantidad de elementos, porque es más probable que la muestra pertenezca a dicha categoría.\n",
        "\n",
        "Ver la ejecución de `y_train.value_counts().sort_index()`, junto con la estructura del árbol exportada en formato de texto (en la celda anterior a esta)."
      ]
    },
    {
      "cell_type": "markdown",
      "metadata": {
        "id": "vpMUL8HlPuxw"
      },
      "source": [
        "Veamos un ejemplo."
      ]
    },
    {
      "cell_type": "code",
      "metadata": {
        "id": "MYqcIBp3L8m8",
        "cellView": "both",
        "outputId": "54c891b3-032f-41ea-8b13-f04d551eb230",
        "colab": {
          "base_uri": "https://localhost:8080/",
          "height": 134
        }
      },
      "source": [
        "#@title Hagamos una predicción para la muestra de índice `indicePrueba` { form-width: \"300px\" }\n",
        "\n",
        "sample_id = indicePrueba\n",
        "\n",
        "# Let's retrieve the decision path of each sample. The decision_path\n",
        "# method allows to retrieve the node indicator functions. A non zero element of\n",
        "# indicator matrix at the position (i, j) indicates that the sample i goes\n",
        "# through the node j.\n",
        "\n",
        "node_indicator = estimator.decision_path(X_test_np)\n",
        "\n",
        "# Similarly, we can also have the leaves ids reached by each sample.\n",
        "\n",
        "leave_id = estimator.apply(X_test_np)\n",
        "\n",
        "# Now, it's possible to get the tests that were used to predict a sample or\n",
        "# a group of samples. First, let's make it for the sample.\n",
        "\n",
        "\n",
        "node_index = node_indicator.indices[node_indicator.indptr[sample_id]:\n",
        "                                    node_indicator.indptr[sample_id + 1]]\n",
        "\n",
        "print('Rules used to predict sample %s: ' % sample_id)\n",
        "for node_id in node_index:\n",
        "    if leave_id[sample_id] == node_id:\n",
        "        continue\n",
        "\n",
        "    if (X_test_np[sample_id, feature[node_id]] <= threshold[node_id]):\n",
        "        threshold_sign = \"<=\"\n",
        "    else:\n",
        "        threshold_sign = \">\"\n",
        "\n",
        "    print(\"decision id node %s : (X_test_np[%s, %s] (= %s) %s %s)\"\n",
        "          % (node_id,\n",
        "             sample_id,\n",
        "             feature[node_id],\n",
        "             X_test_np[sample_id, feature[node_id]],\n",
        "             threshold_sign,\n",
        "             threshold[node_id]))\n",
        "    \n",
        "print()\n",
        "print(\"For the sample %s, the predicted class is %s.\" % (sample_id, targetPrueba))\n",
        "\n",
        "# For a group of samples, we have the following common node.\n",
        "#sample_ids = [0, 1]\n",
        "#common_nodes = (node_indicator.toarray()[sample_ids].sum(axis=0) == len(sample_ids))\n",
        "\n",
        "#common_node_id = np.arange(n_nodes)[common_nodes]\n",
        "\n",
        "#print(\"\\nThe following samples %s share the node %s in the tree\"       % (sample_ids, common_node_id))\n",
        "#print(\"It is %s %% of all nodes.\" % (100 * len(common_node_id) / n_nodes,))"
      ],
      "execution_count": null,
      "outputs": [
        {
          "output_type": "stream",
          "text": [
            "Rules used to predict sample 27: \n",
            "decision id node 0 : (X_test_np[27, 10] (= 9.8) <= 10.849999904632568)\n",
            "decision id node 1 : (X_test_np[27, 1] (= 0.41) > 0.23749999701976776)\n",
            "decision id node 9 : (X_test_np[27, 10] (= 9.8) > 9.775000095367432)\n",
            "decision id node 13 : (X_test_np[27, 5] (= 24.0) > 17.5)\n",
            "\n",
            "For the sample 27, the predicted class is 6.\n"
          ],
          "name": "stdout"
        }
      ]
    },
    {
      "cell_type": "markdown",
      "metadata": {
        "id": "_EtEvvVyQgYw"
      },
      "source": [
        "Verificamos que cumple con la gráfica a colores mostrada, y siguiendo las reglas del árbol exportado como texto."
      ]
    },
    {
      "cell_type": "markdown",
      "metadata": {
        "id": "z9Ssh6_OCyGF"
      },
      "source": [
        "Se obtuvo **56%** de accuracy en los datos de **train** y **51%** de accuracy en los datos de **validación**. Podremos mejorar esos resultados usando ensamble? Haremos una crossvalidación para dar una mejor respuesta."
      ]
    },
    {
      "cell_type": "markdown",
      "metadata": {
        "id": "S7hA2hNzQvKa"
      },
      "source": [
        "## 4) Comparando modelos de predicción"
      ]
    },
    {
      "cell_type": "markdown",
      "metadata": {
        "id": "yIkPIIWTMgIv"
      },
      "source": [
        "Evaluar el dataset usando crosvalidación para los siguientes algoritmos de clasificación (4 individuales y 4 por ensamble).\n",
        "\n",
        "\n",
        "\n",
        "    - Logistic Regression (LR)\n",
        "    - Decision Tree Classifier (DecisionTreeClassifier)\n",
        "    - K vecinos más cercanos (KNN)\n",
        "    - Support Vector Machine (SVM)\n",
        "    - Ensamble AdaBoost para Clasificación (AdaBoostClassifier)\n",
        "    - Ensamble Gradient Boosting para Clasificación (GradientBoostingClassifier).\n",
        "    - Ensamble RandomForest para Clasificación (RandomForestClassifier)\n",
        "    - Ensamble ExtraTrees para Clasificación (ExtraTreesClassifier)\n",
        "\n",
        "\n",
        "\n",
        "---\n",
        "\n",
        " Usar `accuracy` como [métrica de scoring](https://scikit-learn.org/stable/modules/model_evaluation.html#scoring-parameter)."
      ]
    },
    {
      "cell_type": "markdown",
      "metadata": {
        "id": "jXz8ENPNXg5Z"
      },
      "source": [
        "Hacer un pipeline de manera que se realice un escalamiento (`StandardScaler()`) dentro de cada fold."
      ]
    },
    {
      "cell_type": "code",
      "metadata": {
        "id": "9kMzoNS2_vsI"
      },
      "source": [
        "### COMPLETE SU CÓDIGO"
      ],
      "execution_count": null,
      "outputs": []
    },
    {
      "cell_type": "markdown",
      "metadata": {
        "id": "mExdlpK3BbEN"
      },
      "source": [
        "¿Los resultados usando métodos ensamblados generan una mejora con respecto a los métodos con predictores individuales?"
      ]
    },
    {
      "cell_type": "markdown",
      "metadata": {
        "id": "nHpKXV2-Bndd"
      },
      "source": [
        "## 5) Optimizar hiperparámetros del mejor algoritmo\n",
        "\n",
        "Del mejor algoritmo encontrado, elegir uno de sus parámetros. Utilizar `GridSearchCV()` para elegir un valor, y probar una lista con un mínimo de 6 valores que usted coloque."
      ]
    },
    {
      "cell_type": "code",
      "metadata": {
        "id": "puUJ8rLtF7pK"
      },
      "source": [
        ""
      ],
      "execution_count": null,
      "outputs": []
    },
    {
      "cell_type": "markdown",
      "metadata": {
        "id": "3tBSFQ4cCGUA"
      },
      "source": [
        "## 6) Entrenar el modelo final con el algoritmo e hiperparámetros seleccionados, y probarlo en los datos de validación\n",
        "\n",
        "Genere el reporte de clasificación, e indique textualmente el `f1_score` y el `accuracy` de la predicción."
      ]
    },
    {
      "cell_type": "code",
      "metadata": {
        "id": "AaFIuOhiCoaE"
      },
      "source": [
        ""
      ],
      "execution_count": null,
      "outputs": []
    }
  ]
}